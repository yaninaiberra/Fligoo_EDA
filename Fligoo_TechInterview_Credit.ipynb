{
 "cells": [
  {
   "cell_type": "markdown",
   "metadata": {},
   "source": [
    "# <img style=\"float: left; padding-right: 10px; width: 200px\" src=\"https://fligoo.com/img/logo-large.png\"> Fligoo - Credit Risk\n",
    "\n",
    "Tech Interview for Data Scientist\n",
    "\n",
    "<hr style=\"height:2pt\">"
   ]
  },
  {
   "cell_type": "markdown",
   "metadata": {},
   "source": [
    "## Motivation\n",
    "\n",
    "Credit risk is most simply defined as the potential that a bank borrower or counterparty will fail to meet its obligations in accordance with agreed terms. The goal of credit risk management is to maximise a bank's risk-adjusted rate of return by maintaining credit risk exposure within acceptable parameters. Banks need to manage the credit risk inherent in the entire portfolio as well as the risk in individual credits or transactions. \n",
    "\n",
    "## Description\n",
    "\n",
    "The following dataset has 150.000 records of borrowers taken from an anonymous bank, which are described through 12 different columns.\n",
    "\n",
    "The goal of this test is to perform an Exploratory Data Analysis (EDA) on this dataset, to understand the information contained and obtain insights that could be relevant to solve a business problem and develop a simple model that could predict the risk.\n",
    "\n",
    "You can find the data in this [link](https://s3-us-west-2.amazonaws.com/fligoo.data-science/TechInterviews/CreditEDA/data/credit-data.csv)\n",
    "\n",
    "Below is a description of the involved columns:\n",
    "\n",
    "| Variable Name | Description | \n",
    "| ------------- | ----------- |\n",
    "| unnamed:0 | ID of borrower |\n",
    "| serious_dlqin2yrs | Person experienced 90 days past due delinquency or worse |\n",
    "| revolving_utilization_of_unsecured_lines | Total balance on credit cards and personal lines of credit except real estate and no installment debt like car loans divided by the sum of credit limits |\n",
    "| age | Age of borrower in years | \n",
    "| number_of_time30-59_days_past_due_not_worse | Number of times borrower has been 30-59 days past due but no worse in the last 2 years |\n",
    "| debt_ratio | Monthly debt payments, alimony, living costs divided by monthy gross income |\n",
    "| monthly_income | Monthly income |\n",
    "| number_of_open_credit_lines_and_loans | Number of open loans (installment like car loan or mortgage) and lines of credit (e.g. credit cards) |\n",
    "| number_of_times90_days_late | Number of times borrower has been 90 days or more past due |\n",
    "| number_real_estate_loans_or_lines | Number of mortgage and real estate loans including home equity lines of credit |\n",
    "| number_of_time60-89_days_past_due_not_worse | Number of times borrower has been 60-89 days past due but no worse in the last 2 years |\n",
    "| number_of_dependents | Number of dependents in family excluding themselves (spouse, children etc.) |\n",
    "\n",
    "\n",
    "Please **read carefully** all the assignments to guide the work that is expected to find in this notebook."
   ]
  },
  {
   "cell_type": "markdown",
   "metadata": {},
   "source": [
    "## Goal\n",
    "\n",
    "In this notebook you have to load all the libraries you need to explore and process the given dataset, and then perform the analysis to extract meaningful facts in order to understand the information involved. You are free to make any kind of analytic you want, but at the end it is expected to have done the \"mandatory\" tasks on this work. In addition, there are some \"nice to have\" aspects that would enrich the work done.\n",
    "\n",
    "> Please provide reports in English and focus on findings and insights\n",
    "\n",
    "**Stack of technologies:** The analysis on this notebook should be done by using at least the following stack:   \n",
    "    - Python 3.x (not 2.x)\n",
    "    - Pandas 1.0.x\n",
    "\n",
    "### Assignment\n",
    "\n",
    "- **Report insights and conclusions:** Describe the results obtained during the exploratory analysis and provide conclusions from a business perspective, supported by charts / tables / metrics. \n",
    "- **Data Quality Check:** You must check the quality of the given dataset to make an assessment of how appropriate it is for later Data Science tasks. Propose a set of corrective actions over the data.     \n",
    "   \n",
    "- **Feature extraction:** Indicate some possible candidates of features that could properly describe the borrowers, either from the given columns or from their transformations.\n",
    "- **Machine Learning modeling:** at least one fitted model with the given data. You could use the `serious_dlqin2yrs` column as target.\n",
    "\n",
    "\n",
    "### Nice to have aspects\n",
    "\n",
    "- Dockerfile to setup environment.\n",
    "- Identify features and new attributes / tables that could be relevant or needed for better analysis\n",
    "- **Code versioning with Git** (you are free to publish it on your own Github/Bitbucket account!).\n",
    "- **Show proficiency in Python:** By showing good practices in the structure and documentation, usage of several programming paradigms (e.g. imperative, OOP, functional), etc.\n",
    "- **Use cases:** Describe possible use cases for this dataset that could add value to the given business, indicating methods / techniques and algorithms for each of them and justifying the choice made.\n",
    "- **Machine Learning approaches:** Describe the possible Machine Learning tasks that could be performed from the given data, which may be valuable in the context of the finance domain (just explain with words, don't fit a model).\n",
    "\n",
    "Once you complete the assessment, please send a ZIP file of the folder with all the resources used in this work (e.g. Jupyter notebook, Python scripts, text files, images, etc) to esteban.delboca@fligoo.com. Then you are going to have a final meeting with the team to discuss the work done in this notebook and answer the questions that could arise.\n",
    "\n",
    "**Have fun!**\n",
    "\n",
    "![Have fun](https://media1.tenor.com/images/8d13f337a8c6e5aab8ba1bd8acd4da0c/tenor.gif?itemid=5304821)"
   ]
  },
  {
   "cell_type": "markdown",
   "metadata": {},
   "source": [
    "## Tech Interview - Yanina Vanesa Iberra (Part I)"
   ]
  },
  {
   "cell_type": "markdown",
   "metadata": {},
   "source": [
    "### 1. Data Analysis"
   ]
  },
  {
   "cell_type": "markdown",
   "metadata": {},
   "source": [
    "- Check pandas library version installed"
   ]
  },
  {
   "cell_type": "code",
   "execution_count": null,
   "metadata": {},
   "outputs": [],
   "source": [
    "import pandas as pd\n",
    "\n",
    "print(pd.__version__)"
   ]
  },
  {
   "cell_type": "markdown",
   "metadata": {},
   "source": [
    "- Check Python version installed"
   ]
  },
  {
   "cell_type": "code",
   "execution_count": null,
   "metadata": {},
   "outputs": [],
   "source": [
    "import sys\n",
    "\n",
    "print(sys.version)"
   ]
  },
  {
   "cell_type": "markdown",
   "metadata": {},
   "source": [
    "- **Import the necessary libraries**"
   ]
  },
  {
   "cell_type": "code",
   "execution_count": 1,
   "metadata": {},
   "outputs": [],
   "source": [
    "# Command that will allow to see a graphic in this notebook below the line of code that invokes it.\n",
    "%matplotlib inline"
   ]
  },
  {
   "cell_type": "code",
   "execution_count": 2,
   "metadata": {},
   "outputs": [],
   "source": [
    "import pandas as pd\n",
    "import numpy as np\n",
    "import matplotlib.pyplot as plt\n",
    "import seaborn as sns\n",
    "import warnings\n",
    "warnings.filterwarnings('ignore')"
   ]
  },
  {
   "cell_type": "markdown",
   "metadata": {},
   "source": [
    "- **Reading the CSV data file using pandas** <br> <br>\n",
    "File separated by comma, de default read_csv function delimiter is comma, therefore, this parameter is omitted."
   ]
  },
  {
   "cell_type": "code",
   "execution_count": 3,
   "metadata": {},
   "outputs": [],
   "source": [
    "borrowers = pd.read_csv('https://s3-us-west-2.amazonaws.com/fligoo.data-science/TechInterviews/CreditEDA/data/credit-data.csv')"
   ]
  },
  {
   "cell_type": "markdown",
   "metadata": {},
   "source": [
    "- **Get an overview of the dataset**"
   ]
  },
  {
   "cell_type": "markdown",
   "metadata": {},
   "source": [
    "Let's inspect the first 10 rows of `borrowers` using the` .head () `function."
   ]
  },
  {
   "cell_type": "code",
   "execution_count": 4,
   "metadata": {},
   "outputs": [
    {
     "data": {
      "text/html": [
       "<div>\n",
       "<style scoped>\n",
       "    .dataframe tbody tr th:only-of-type {\n",
       "        vertical-align: middle;\n",
       "    }\n",
       "\n",
       "    .dataframe tbody tr th {\n",
       "        vertical-align: top;\n",
       "    }\n",
       "\n",
       "    .dataframe thead th {\n",
       "        text-align: right;\n",
       "    }\n",
       "</style>\n",
       "<table border=\"1\" class=\"dataframe\">\n",
       "  <thead>\n",
       "    <tr style=\"text-align: right;\">\n",
       "      <th></th>\n",
       "      <th>unnamed: 0</th>\n",
       "      <th>serious_dlqin2yrs</th>\n",
       "      <th>revolving_utilization_of_unsecured_lines</th>\n",
       "      <th>age</th>\n",
       "      <th>number_of_time30-59_days_past_due_not_worse</th>\n",
       "      <th>debt_ratio</th>\n",
       "      <th>monthly_income</th>\n",
       "      <th>number_of_open_credit_lines_and_loans</th>\n",
       "      <th>number_of_times90_days_late</th>\n",
       "      <th>number_real_estate_loans_or_lines</th>\n",
       "      <th>number_of_time60-89_days_past_due_not_worse</th>\n",
       "      <th>number_of_dependents</th>\n",
       "    </tr>\n",
       "  </thead>\n",
       "  <tbody>\n",
       "    <tr>\n",
       "      <th>0</th>\n",
       "      <td>1</td>\n",
       "      <td>1</td>\n",
       "      <td>0.766127</td>\n",
       "      <td>45</td>\n",
       "      <td>2</td>\n",
       "      <td>0.802982</td>\n",
       "      <td>9120.0</td>\n",
       "      <td>13</td>\n",
       "      <td>0</td>\n",
       "      <td>6</td>\n",
       "      <td>0</td>\n",
       "      <td>2.0</td>\n",
       "    </tr>\n",
       "    <tr>\n",
       "      <th>1</th>\n",
       "      <td>2</td>\n",
       "      <td>0</td>\n",
       "      <td>0.957151</td>\n",
       "      <td>40</td>\n",
       "      <td>0</td>\n",
       "      <td>0.121876</td>\n",
       "      <td>2600.0</td>\n",
       "      <td>4</td>\n",
       "      <td>0</td>\n",
       "      <td>0</td>\n",
       "      <td>0</td>\n",
       "      <td>1.0</td>\n",
       "    </tr>\n",
       "    <tr>\n",
       "      <th>2</th>\n",
       "      <td>3</td>\n",
       "      <td>0</td>\n",
       "      <td>0.658180</td>\n",
       "      <td>38</td>\n",
       "      <td>1</td>\n",
       "      <td>0.085113</td>\n",
       "      <td>3042.0</td>\n",
       "      <td>2</td>\n",
       "      <td>1</td>\n",
       "      <td>0</td>\n",
       "      <td>0</td>\n",
       "      <td>0.0</td>\n",
       "    </tr>\n",
       "    <tr>\n",
       "      <th>3</th>\n",
       "      <td>4</td>\n",
       "      <td>0</td>\n",
       "      <td>0.233810</td>\n",
       "      <td>30</td>\n",
       "      <td>0</td>\n",
       "      <td>0.036050</td>\n",
       "      <td>3300.0</td>\n",
       "      <td>5</td>\n",
       "      <td>0</td>\n",
       "      <td>0</td>\n",
       "      <td>0</td>\n",
       "      <td>0.0</td>\n",
       "    </tr>\n",
       "    <tr>\n",
       "      <th>4</th>\n",
       "      <td>5</td>\n",
       "      <td>0</td>\n",
       "      <td>0.907239</td>\n",
       "      <td>49</td>\n",
       "      <td>1</td>\n",
       "      <td>0.024926</td>\n",
       "      <td>63588.0</td>\n",
       "      <td>7</td>\n",
       "      <td>0</td>\n",
       "      <td>1</td>\n",
       "      <td>0</td>\n",
       "      <td>0.0</td>\n",
       "    </tr>\n",
       "    <tr>\n",
       "      <th>5</th>\n",
       "      <td>6</td>\n",
       "      <td>0</td>\n",
       "      <td>0.213179</td>\n",
       "      <td>74</td>\n",
       "      <td>0</td>\n",
       "      <td>0.375607</td>\n",
       "      <td>3500.0</td>\n",
       "      <td>3</td>\n",
       "      <td>0</td>\n",
       "      <td>1</td>\n",
       "      <td>0</td>\n",
       "      <td>1.0</td>\n",
       "    </tr>\n",
       "    <tr>\n",
       "      <th>6</th>\n",
       "      <td>7</td>\n",
       "      <td>0</td>\n",
       "      <td>0.305682</td>\n",
       "      <td>57</td>\n",
       "      <td>0</td>\n",
       "      <td>5710.000000</td>\n",
       "      <td>NaN</td>\n",
       "      <td>8</td>\n",
       "      <td>0</td>\n",
       "      <td>3</td>\n",
       "      <td>0</td>\n",
       "      <td>0.0</td>\n",
       "    </tr>\n",
       "    <tr>\n",
       "      <th>7</th>\n",
       "      <td>8</td>\n",
       "      <td>0</td>\n",
       "      <td>0.754464</td>\n",
       "      <td>39</td>\n",
       "      <td>0</td>\n",
       "      <td>0.209940</td>\n",
       "      <td>3500.0</td>\n",
       "      <td>8</td>\n",
       "      <td>0</td>\n",
       "      <td>0</td>\n",
       "      <td>0</td>\n",
       "      <td>0.0</td>\n",
       "    </tr>\n",
       "    <tr>\n",
       "      <th>8</th>\n",
       "      <td>9</td>\n",
       "      <td>0</td>\n",
       "      <td>0.116951</td>\n",
       "      <td>27</td>\n",
       "      <td>0</td>\n",
       "      <td>46.000000</td>\n",
       "      <td>NaN</td>\n",
       "      <td>2</td>\n",
       "      <td>0</td>\n",
       "      <td>0</td>\n",
       "      <td>0</td>\n",
       "      <td>0.0</td>\n",
       "    </tr>\n",
       "    <tr>\n",
       "      <th>9</th>\n",
       "      <td>10</td>\n",
       "      <td>0</td>\n",
       "      <td>0.189169</td>\n",
       "      <td>57</td>\n",
       "      <td>0</td>\n",
       "      <td>0.606291</td>\n",
       "      <td>23684.0</td>\n",
       "      <td>9</td>\n",
       "      <td>0</td>\n",
       "      <td>4</td>\n",
       "      <td>0</td>\n",
       "      <td>2.0</td>\n",
       "    </tr>\n",
       "  </tbody>\n",
       "</table>\n",
       "</div>"
      ],
      "text/plain": [
       "   unnamed: 0  serious_dlqin2yrs  revolving_utilization_of_unsecured_lines  \\\n",
       "0           1                  1                                  0.766127   \n",
       "1           2                  0                                  0.957151   \n",
       "2           3                  0                                  0.658180   \n",
       "3           4                  0                                  0.233810   \n",
       "4           5                  0                                  0.907239   \n",
       "5           6                  0                                  0.213179   \n",
       "6           7                  0                                  0.305682   \n",
       "7           8                  0                                  0.754464   \n",
       "8           9                  0                                  0.116951   \n",
       "9          10                  0                                  0.189169   \n",
       "\n",
       "   age  number_of_time30-59_days_past_due_not_worse   debt_ratio  \\\n",
       "0   45                                            2     0.802982   \n",
       "1   40                                            0     0.121876   \n",
       "2   38                                            1     0.085113   \n",
       "3   30                                            0     0.036050   \n",
       "4   49                                            1     0.024926   \n",
       "5   74                                            0     0.375607   \n",
       "6   57                                            0  5710.000000   \n",
       "7   39                                            0     0.209940   \n",
       "8   27                                            0    46.000000   \n",
       "9   57                                            0     0.606291   \n",
       "\n",
       "   monthly_income  number_of_open_credit_lines_and_loans  \\\n",
       "0          9120.0                                     13   \n",
       "1          2600.0                                      4   \n",
       "2          3042.0                                      2   \n",
       "3          3300.0                                      5   \n",
       "4         63588.0                                      7   \n",
       "5          3500.0                                      3   \n",
       "6             NaN                                      8   \n",
       "7          3500.0                                      8   \n",
       "8             NaN                                      2   \n",
       "9         23684.0                                      9   \n",
       "\n",
       "   number_of_times90_days_late  number_real_estate_loans_or_lines  \\\n",
       "0                            0                                  6   \n",
       "1                            0                                  0   \n",
       "2                            1                                  0   \n",
       "3                            0                                  0   \n",
       "4                            0                                  1   \n",
       "5                            0                                  1   \n",
       "6                            0                                  3   \n",
       "7                            0                                  0   \n",
       "8                            0                                  0   \n",
       "9                            0                                  4   \n",
       "\n",
       "   number_of_time60-89_days_past_due_not_worse  number_of_dependents  \n",
       "0                                            0                   2.0  \n",
       "1                                            0                   1.0  \n",
       "2                                            0                   0.0  \n",
       "3                                            0                   0.0  \n",
       "4                                            0                   0.0  \n",
       "5                                            0                   1.0  \n",
       "6                                            0                   0.0  \n",
       "7                                            0                   0.0  \n",
       "8                                            0                   0.0  \n",
       "9                                            0                   2.0  "
      ]
     },
     "execution_count": 4,
     "metadata": {},
     "output_type": "execute_result"
    }
   ],
   "source": [
    "borrowers.head(10)"
   ]
  },
  {
   "cell_type": "markdown",
   "metadata": {},
   "source": [
    "Let's inspect the last 10 rows of `borrowers` using the` .head () `function."
   ]
  },
  {
   "cell_type": "code",
   "execution_count": 5,
   "metadata": {},
   "outputs": [
    {
     "data": {
      "text/html": [
       "<div>\n",
       "<style scoped>\n",
       "    .dataframe tbody tr th:only-of-type {\n",
       "        vertical-align: middle;\n",
       "    }\n",
       "\n",
       "    .dataframe tbody tr th {\n",
       "        vertical-align: top;\n",
       "    }\n",
       "\n",
       "    .dataframe thead th {\n",
       "        text-align: right;\n",
       "    }\n",
       "</style>\n",
       "<table border=\"1\" class=\"dataframe\">\n",
       "  <thead>\n",
       "    <tr style=\"text-align: right;\">\n",
       "      <th></th>\n",
       "      <th>unnamed: 0</th>\n",
       "      <th>serious_dlqin2yrs</th>\n",
       "      <th>revolving_utilization_of_unsecured_lines</th>\n",
       "      <th>age</th>\n",
       "      <th>number_of_time30-59_days_past_due_not_worse</th>\n",
       "      <th>debt_ratio</th>\n",
       "      <th>monthly_income</th>\n",
       "      <th>number_of_open_credit_lines_and_loans</th>\n",
       "      <th>number_of_times90_days_late</th>\n",
       "      <th>number_real_estate_loans_or_lines</th>\n",
       "      <th>number_of_time60-89_days_past_due_not_worse</th>\n",
       "      <th>number_of_dependents</th>\n",
       "    </tr>\n",
       "  </thead>\n",
       "  <tbody>\n",
       "    <tr>\n",
       "      <th>149990</th>\n",
       "      <td>149991</td>\n",
       "      <td>0</td>\n",
       "      <td>0.055518</td>\n",
       "      <td>46</td>\n",
       "      <td>0</td>\n",
       "      <td>0.609779</td>\n",
       "      <td>4335.0</td>\n",
       "      <td>7</td>\n",
       "      <td>0</td>\n",
       "      <td>1</td>\n",
       "      <td>0</td>\n",
       "      <td>2.0</td>\n",
       "    </tr>\n",
       "    <tr>\n",
       "      <th>149991</th>\n",
       "      <td>149992</td>\n",
       "      <td>0</td>\n",
       "      <td>0.104112</td>\n",
       "      <td>59</td>\n",
       "      <td>0</td>\n",
       "      <td>0.477658</td>\n",
       "      <td>10316.0</td>\n",
       "      <td>10</td>\n",
       "      <td>0</td>\n",
       "      <td>2</td>\n",
       "      <td>0</td>\n",
       "      <td>0.0</td>\n",
       "    </tr>\n",
       "    <tr>\n",
       "      <th>149992</th>\n",
       "      <td>149993</td>\n",
       "      <td>0</td>\n",
       "      <td>0.871976</td>\n",
       "      <td>50</td>\n",
       "      <td>0</td>\n",
       "      <td>4132.000000</td>\n",
       "      <td>NaN</td>\n",
       "      <td>11</td>\n",
       "      <td>0</td>\n",
       "      <td>1</td>\n",
       "      <td>0</td>\n",
       "      <td>3.0</td>\n",
       "    </tr>\n",
       "    <tr>\n",
       "      <th>149993</th>\n",
       "      <td>149994</td>\n",
       "      <td>0</td>\n",
       "      <td>1.000000</td>\n",
       "      <td>22</td>\n",
       "      <td>0</td>\n",
       "      <td>0.000000</td>\n",
       "      <td>820.0</td>\n",
       "      <td>1</td>\n",
       "      <td>0</td>\n",
       "      <td>0</td>\n",
       "      <td>0</td>\n",
       "      <td>0.0</td>\n",
       "    </tr>\n",
       "    <tr>\n",
       "      <th>149994</th>\n",
       "      <td>149995</td>\n",
       "      <td>0</td>\n",
       "      <td>0.385742</td>\n",
       "      <td>50</td>\n",
       "      <td>0</td>\n",
       "      <td>0.404293</td>\n",
       "      <td>3400.0</td>\n",
       "      <td>7</td>\n",
       "      <td>0</td>\n",
       "      <td>0</td>\n",
       "      <td>0</td>\n",
       "      <td>0.0</td>\n",
       "    </tr>\n",
       "    <tr>\n",
       "      <th>149995</th>\n",
       "      <td>149996</td>\n",
       "      <td>0</td>\n",
       "      <td>0.040674</td>\n",
       "      <td>74</td>\n",
       "      <td>0</td>\n",
       "      <td>0.225131</td>\n",
       "      <td>2100.0</td>\n",
       "      <td>4</td>\n",
       "      <td>0</td>\n",
       "      <td>1</td>\n",
       "      <td>0</td>\n",
       "      <td>0.0</td>\n",
       "    </tr>\n",
       "    <tr>\n",
       "      <th>149996</th>\n",
       "      <td>149997</td>\n",
       "      <td>0</td>\n",
       "      <td>0.299745</td>\n",
       "      <td>44</td>\n",
       "      <td>0</td>\n",
       "      <td>0.716562</td>\n",
       "      <td>5584.0</td>\n",
       "      <td>4</td>\n",
       "      <td>0</td>\n",
       "      <td>1</td>\n",
       "      <td>0</td>\n",
       "      <td>2.0</td>\n",
       "    </tr>\n",
       "    <tr>\n",
       "      <th>149997</th>\n",
       "      <td>149998</td>\n",
       "      <td>0</td>\n",
       "      <td>0.246044</td>\n",
       "      <td>58</td>\n",
       "      <td>0</td>\n",
       "      <td>3870.000000</td>\n",
       "      <td>NaN</td>\n",
       "      <td>18</td>\n",
       "      <td>0</td>\n",
       "      <td>1</td>\n",
       "      <td>0</td>\n",
       "      <td>0.0</td>\n",
       "    </tr>\n",
       "    <tr>\n",
       "      <th>149998</th>\n",
       "      <td>149999</td>\n",
       "      <td>0</td>\n",
       "      <td>0.000000</td>\n",
       "      <td>30</td>\n",
       "      <td>0</td>\n",
       "      <td>0.000000</td>\n",
       "      <td>5716.0</td>\n",
       "      <td>4</td>\n",
       "      <td>0</td>\n",
       "      <td>0</td>\n",
       "      <td>0</td>\n",
       "      <td>0.0</td>\n",
       "    </tr>\n",
       "    <tr>\n",
       "      <th>149999</th>\n",
       "      <td>150000</td>\n",
       "      <td>0</td>\n",
       "      <td>0.850283</td>\n",
       "      <td>64</td>\n",
       "      <td>0</td>\n",
       "      <td>0.249908</td>\n",
       "      <td>8158.0</td>\n",
       "      <td>8</td>\n",
       "      <td>0</td>\n",
       "      <td>2</td>\n",
       "      <td>0</td>\n",
       "      <td>0.0</td>\n",
       "    </tr>\n",
       "  </tbody>\n",
       "</table>\n",
       "</div>"
      ],
      "text/plain": [
       "        unnamed: 0  serious_dlqin2yrs  \\\n",
       "149990      149991                  0   \n",
       "149991      149992                  0   \n",
       "149992      149993                  0   \n",
       "149993      149994                  0   \n",
       "149994      149995                  0   \n",
       "149995      149996                  0   \n",
       "149996      149997                  0   \n",
       "149997      149998                  0   \n",
       "149998      149999                  0   \n",
       "149999      150000                  0   \n",
       "\n",
       "        revolving_utilization_of_unsecured_lines  age  \\\n",
       "149990                                  0.055518   46   \n",
       "149991                                  0.104112   59   \n",
       "149992                                  0.871976   50   \n",
       "149993                                  1.000000   22   \n",
       "149994                                  0.385742   50   \n",
       "149995                                  0.040674   74   \n",
       "149996                                  0.299745   44   \n",
       "149997                                  0.246044   58   \n",
       "149998                                  0.000000   30   \n",
       "149999                                  0.850283   64   \n",
       "\n",
       "        number_of_time30-59_days_past_due_not_worse   debt_ratio  \\\n",
       "149990                                            0     0.609779   \n",
       "149991                                            0     0.477658   \n",
       "149992                                            0  4132.000000   \n",
       "149993                                            0     0.000000   \n",
       "149994                                            0     0.404293   \n",
       "149995                                            0     0.225131   \n",
       "149996                                            0     0.716562   \n",
       "149997                                            0  3870.000000   \n",
       "149998                                            0     0.000000   \n",
       "149999                                            0     0.249908   \n",
       "\n",
       "        monthly_income  number_of_open_credit_lines_and_loans  \\\n",
       "149990          4335.0                                      7   \n",
       "149991         10316.0                                     10   \n",
       "149992             NaN                                     11   \n",
       "149993           820.0                                      1   \n",
       "149994          3400.0                                      7   \n",
       "149995          2100.0                                      4   \n",
       "149996          5584.0                                      4   \n",
       "149997             NaN                                     18   \n",
       "149998          5716.0                                      4   \n",
       "149999          8158.0                                      8   \n",
       "\n",
       "        number_of_times90_days_late  number_real_estate_loans_or_lines  \\\n",
       "149990                            0                                  1   \n",
       "149991                            0                                  2   \n",
       "149992                            0                                  1   \n",
       "149993                            0                                  0   \n",
       "149994                            0                                  0   \n",
       "149995                            0                                  1   \n",
       "149996                            0                                  1   \n",
       "149997                            0                                  1   \n",
       "149998                            0                                  0   \n",
       "149999                            0                                  2   \n",
       "\n",
       "        number_of_time60-89_days_past_due_not_worse  number_of_dependents  \n",
       "149990                                            0                   2.0  \n",
       "149991                                            0                   0.0  \n",
       "149992                                            0                   3.0  \n",
       "149993                                            0                   0.0  \n",
       "149994                                            0                   0.0  \n",
       "149995                                            0                   0.0  \n",
       "149996                                            0                   2.0  \n",
       "149997                                            0                   0.0  \n",
       "149998                                            0                   0.0  \n",
       "149999                                            0                   0.0  "
      ]
     },
     "execution_count": 5,
     "metadata": {},
     "output_type": "execute_result"
    }
   ],
   "source": [
    "borrowers.tail(10)"
   ]
  },
  {
   "cell_type": "markdown",
   "metadata": {},
   "source": [
    "- **Delete row Unnamed: 0**"
   ]
  },
  {
   "cell_type": "code",
   "execution_count": 6,
   "metadata": {},
   "outputs": [],
   "source": [
    "borrowers.drop('unnamed: 0', axis=1, inplace=True)"
   ]
  },
  {
   "cell_type": "code",
   "execution_count": 7,
   "metadata": {},
   "outputs": [
    {
     "data": {
      "text/html": [
       "<div>\n",
       "<style scoped>\n",
       "    .dataframe tbody tr th:only-of-type {\n",
       "        vertical-align: middle;\n",
       "    }\n",
       "\n",
       "    .dataframe tbody tr th {\n",
       "        vertical-align: top;\n",
       "    }\n",
       "\n",
       "    .dataframe thead th {\n",
       "        text-align: right;\n",
       "    }\n",
       "</style>\n",
       "<table border=\"1\" class=\"dataframe\">\n",
       "  <thead>\n",
       "    <tr style=\"text-align: right;\">\n",
       "      <th></th>\n",
       "      <th>serious_dlqin2yrs</th>\n",
       "      <th>revolving_utilization_of_unsecured_lines</th>\n",
       "      <th>age</th>\n",
       "      <th>number_of_time30-59_days_past_due_not_worse</th>\n",
       "      <th>debt_ratio</th>\n",
       "      <th>monthly_income</th>\n",
       "      <th>number_of_open_credit_lines_and_loans</th>\n",
       "      <th>number_of_times90_days_late</th>\n",
       "      <th>number_real_estate_loans_or_lines</th>\n",
       "      <th>number_of_time60-89_days_past_due_not_worse</th>\n",
       "      <th>number_of_dependents</th>\n",
       "    </tr>\n",
       "  </thead>\n",
       "  <tbody>\n",
       "    <tr>\n",
       "      <th>0</th>\n",
       "      <td>1</td>\n",
       "      <td>0.766127</td>\n",
       "      <td>45</td>\n",
       "      <td>2</td>\n",
       "      <td>0.802982</td>\n",
       "      <td>9120.0</td>\n",
       "      <td>13</td>\n",
       "      <td>0</td>\n",
       "      <td>6</td>\n",
       "      <td>0</td>\n",
       "      <td>2.0</td>\n",
       "    </tr>\n",
       "    <tr>\n",
       "      <th>1</th>\n",
       "      <td>0</td>\n",
       "      <td>0.957151</td>\n",
       "      <td>40</td>\n",
       "      <td>0</td>\n",
       "      <td>0.121876</td>\n",
       "      <td>2600.0</td>\n",
       "      <td>4</td>\n",
       "      <td>0</td>\n",
       "      <td>0</td>\n",
       "      <td>0</td>\n",
       "      <td>1.0</td>\n",
       "    </tr>\n",
       "    <tr>\n",
       "      <th>2</th>\n",
       "      <td>0</td>\n",
       "      <td>0.658180</td>\n",
       "      <td>38</td>\n",
       "      <td>1</td>\n",
       "      <td>0.085113</td>\n",
       "      <td>3042.0</td>\n",
       "      <td>2</td>\n",
       "      <td>1</td>\n",
       "      <td>0</td>\n",
       "      <td>0</td>\n",
       "      <td>0.0</td>\n",
       "    </tr>\n",
       "    <tr>\n",
       "      <th>3</th>\n",
       "      <td>0</td>\n",
       "      <td>0.233810</td>\n",
       "      <td>30</td>\n",
       "      <td>0</td>\n",
       "      <td>0.036050</td>\n",
       "      <td>3300.0</td>\n",
       "      <td>5</td>\n",
       "      <td>0</td>\n",
       "      <td>0</td>\n",
       "      <td>0</td>\n",
       "      <td>0.0</td>\n",
       "    </tr>\n",
       "    <tr>\n",
       "      <th>4</th>\n",
       "      <td>0</td>\n",
       "      <td>0.907239</td>\n",
       "      <td>49</td>\n",
       "      <td>1</td>\n",
       "      <td>0.024926</td>\n",
       "      <td>63588.0</td>\n",
       "      <td>7</td>\n",
       "      <td>0</td>\n",
       "      <td>1</td>\n",
       "      <td>0</td>\n",
       "      <td>0.0</td>\n",
       "    </tr>\n",
       "    <tr>\n",
       "      <th>5</th>\n",
       "      <td>0</td>\n",
       "      <td>0.213179</td>\n",
       "      <td>74</td>\n",
       "      <td>0</td>\n",
       "      <td>0.375607</td>\n",
       "      <td>3500.0</td>\n",
       "      <td>3</td>\n",
       "      <td>0</td>\n",
       "      <td>1</td>\n",
       "      <td>0</td>\n",
       "      <td>1.0</td>\n",
       "    </tr>\n",
       "    <tr>\n",
       "      <th>6</th>\n",
       "      <td>0</td>\n",
       "      <td>0.305682</td>\n",
       "      <td>57</td>\n",
       "      <td>0</td>\n",
       "      <td>5710.000000</td>\n",
       "      <td>NaN</td>\n",
       "      <td>8</td>\n",
       "      <td>0</td>\n",
       "      <td>3</td>\n",
       "      <td>0</td>\n",
       "      <td>0.0</td>\n",
       "    </tr>\n",
       "    <tr>\n",
       "      <th>7</th>\n",
       "      <td>0</td>\n",
       "      <td>0.754464</td>\n",
       "      <td>39</td>\n",
       "      <td>0</td>\n",
       "      <td>0.209940</td>\n",
       "      <td>3500.0</td>\n",
       "      <td>8</td>\n",
       "      <td>0</td>\n",
       "      <td>0</td>\n",
       "      <td>0</td>\n",
       "      <td>0.0</td>\n",
       "    </tr>\n",
       "    <tr>\n",
       "      <th>8</th>\n",
       "      <td>0</td>\n",
       "      <td>0.116951</td>\n",
       "      <td>27</td>\n",
       "      <td>0</td>\n",
       "      <td>46.000000</td>\n",
       "      <td>NaN</td>\n",
       "      <td>2</td>\n",
       "      <td>0</td>\n",
       "      <td>0</td>\n",
       "      <td>0</td>\n",
       "      <td>0.0</td>\n",
       "    </tr>\n",
       "    <tr>\n",
       "      <th>9</th>\n",
       "      <td>0</td>\n",
       "      <td>0.189169</td>\n",
       "      <td>57</td>\n",
       "      <td>0</td>\n",
       "      <td>0.606291</td>\n",
       "      <td>23684.0</td>\n",
       "      <td>9</td>\n",
       "      <td>0</td>\n",
       "      <td>4</td>\n",
       "      <td>0</td>\n",
       "      <td>2.0</td>\n",
       "    </tr>\n",
       "  </tbody>\n",
       "</table>\n",
       "</div>"
      ],
      "text/plain": [
       "   serious_dlqin2yrs  revolving_utilization_of_unsecured_lines  age  \\\n",
       "0                  1                                  0.766127   45   \n",
       "1                  0                                  0.957151   40   \n",
       "2                  0                                  0.658180   38   \n",
       "3                  0                                  0.233810   30   \n",
       "4                  0                                  0.907239   49   \n",
       "5                  0                                  0.213179   74   \n",
       "6                  0                                  0.305682   57   \n",
       "7                  0                                  0.754464   39   \n",
       "8                  0                                  0.116951   27   \n",
       "9                  0                                  0.189169   57   \n",
       "\n",
       "   number_of_time30-59_days_past_due_not_worse   debt_ratio  monthly_income  \\\n",
       "0                                            2     0.802982          9120.0   \n",
       "1                                            0     0.121876          2600.0   \n",
       "2                                            1     0.085113          3042.0   \n",
       "3                                            0     0.036050          3300.0   \n",
       "4                                            1     0.024926         63588.0   \n",
       "5                                            0     0.375607          3500.0   \n",
       "6                                            0  5710.000000             NaN   \n",
       "7                                            0     0.209940          3500.0   \n",
       "8                                            0    46.000000             NaN   \n",
       "9                                            0     0.606291         23684.0   \n",
       "\n",
       "   number_of_open_credit_lines_and_loans  number_of_times90_days_late  \\\n",
       "0                                     13                            0   \n",
       "1                                      4                            0   \n",
       "2                                      2                            1   \n",
       "3                                      5                            0   \n",
       "4                                      7                            0   \n",
       "5                                      3                            0   \n",
       "6                                      8                            0   \n",
       "7                                      8                            0   \n",
       "8                                      2                            0   \n",
       "9                                      9                            0   \n",
       "\n",
       "   number_real_estate_loans_or_lines  \\\n",
       "0                                  6   \n",
       "1                                  0   \n",
       "2                                  0   \n",
       "3                                  0   \n",
       "4                                  1   \n",
       "5                                  1   \n",
       "6                                  3   \n",
       "7                                  0   \n",
       "8                                  0   \n",
       "9                                  4   \n",
       "\n",
       "   number_of_time60-89_days_past_due_not_worse  number_of_dependents  \n",
       "0                                            0                   2.0  \n",
       "1                                            0                   1.0  \n",
       "2                                            0                   0.0  \n",
       "3                                            0                   0.0  \n",
       "4                                            0                   0.0  \n",
       "5                                            0                   1.0  \n",
       "6                                            0                   0.0  \n",
       "7                                            0                   0.0  \n",
       "8                                            0                   0.0  \n",
       "9                                            0                   2.0  "
      ]
     },
     "execution_count": 7,
     "metadata": {},
     "output_type": "execute_result"
    }
   ],
   "source": [
    "borrowers.head(10)"
   ]
  },
  {
   "cell_type": "markdown",
   "metadata": {},
   "source": [
    "- **Let's see how many rows and columns `borrowers` has.**"
   ]
  },
  {
   "cell_type": "code",
   "execution_count": 8,
   "metadata": {},
   "outputs": [
    {
     "name": "stdout",
     "output_type": "stream",
     "text": [
      "Borrowers dataframe rows: 150000\n",
      "Borrowers dataframe columns: 11\n"
     ]
    }
   ],
   "source": [
    "row, col = borrowers.shape\n",
    "\n",
    "print(f\"Borrowers dataframe rows: {row}\")\n",
    "\n",
    "print(f\"Borrowers dataframe columns: {col}\")"
   ]
  },
  {
   "cell_type": "markdown",
   "metadata": {},
   "source": [
    "- **Let's see what kind of data structure the variable `borrowers` contains.**"
   ]
  },
  {
   "cell_type": "code",
   "execution_count": 9,
   "metadata": {},
   "outputs": [
    {
     "data": {
      "text/plain": [
       "pandas.core.frame.DataFrame"
      ]
     },
     "execution_count": 9,
     "metadata": {},
     "output_type": "execute_result"
    }
   ],
   "source": [
    "type(borrowers)"
   ]
  },
  {
   "cell_type": "markdown",
   "metadata": {},
   "source": [
    "- **Let's see what types of data each of the `borrowers` columns contain**"
   ]
  },
  {
   "cell_type": "code",
   "execution_count": null,
   "metadata": {},
   "outputs": [],
   "source": [
    "borrowers.dtypes"
   ]
  },
  {
   "cell_type": "markdown",
   "metadata": {},
   "source": [
    "There are no categorical variables."
   ]
  },
  {
   "cell_type": "markdown",
   "metadata": {},
   "source": [
    "- The info() method of pandas.DataFrame can display information such as the number of rows and columns, the total memory usage, the data type of each column, and the number of non-NaN elements."
   ]
  },
  {
   "cell_type": "code",
   "execution_count": null,
   "metadata": {},
   "outputs": [],
   "source": [
    "borrowers.info()"
   ]
  },
  {
   "cell_type": "markdown",
   "metadata": {},
   "source": [
    "**Descriptive Statistics** <br> <br>\n",
    "Describe the all dataset statistical properties."
   ]
  },
  {
   "cell_type": "code",
   "execution_count": 10,
   "metadata": {
    "scrolled": true
   },
   "outputs": [
    {
     "data": {
      "text/html": [
       "<div>\n",
       "<style scoped>\n",
       "    .dataframe tbody tr th:only-of-type {\n",
       "        vertical-align: middle;\n",
       "    }\n",
       "\n",
       "    .dataframe tbody tr th {\n",
       "        vertical-align: top;\n",
       "    }\n",
       "\n",
       "    .dataframe thead th {\n",
       "        text-align: right;\n",
       "    }\n",
       "</style>\n",
       "<table border=\"1\" class=\"dataframe\">\n",
       "  <thead>\n",
       "    <tr style=\"text-align: right;\">\n",
       "      <th></th>\n",
       "      <th>revolving_utilization_of_unsecured_lines</th>\n",
       "      <th>age</th>\n",
       "      <th>number_of_time30-59_days_past_due_not_worse</th>\n",
       "      <th>debt_ratio</th>\n",
       "      <th>monthly_income</th>\n",
       "      <th>number_of_open_credit_lines_and_loans</th>\n",
       "      <th>number_of_times90_days_late</th>\n",
       "      <th>number_real_estate_loans_or_lines</th>\n",
       "      <th>number_of_time60-89_days_past_due_not_worse</th>\n",
       "      <th>number_of_dependents</th>\n",
       "    </tr>\n",
       "  </thead>\n",
       "  <tbody>\n",
       "    <tr>\n",
       "      <th>count</th>\n",
       "      <td>150000.000000</td>\n",
       "      <td>150000.000000</td>\n",
       "      <td>150000.000000</td>\n",
       "      <td>150000.000000</td>\n",
       "      <td>1.202690e+05</td>\n",
       "      <td>150000.000000</td>\n",
       "      <td>150000.000000</td>\n",
       "      <td>150000.000000</td>\n",
       "      <td>150000.000000</td>\n",
       "      <td>150000.000000</td>\n",
       "    </tr>\n",
       "    <tr>\n",
       "      <th>mean</th>\n",
       "      <td>6.048438</td>\n",
       "      <td>52.295207</td>\n",
       "      <td>0.421033</td>\n",
       "      <td>353.005076</td>\n",
       "      <td>6.670221e+03</td>\n",
       "      <td>8.452760</td>\n",
       "      <td>0.265973</td>\n",
       "      <td>1.018240</td>\n",
       "      <td>0.240387</td>\n",
       "      <td>0.737413</td>\n",
       "    </tr>\n",
       "    <tr>\n",
       "      <th>std</th>\n",
       "      <td>249.755371</td>\n",
       "      <td>14.771866</td>\n",
       "      <td>4.192781</td>\n",
       "      <td>2037.818523</td>\n",
       "      <td>1.438467e+04</td>\n",
       "      <td>5.145951</td>\n",
       "      <td>4.169304</td>\n",
       "      <td>1.129771</td>\n",
       "      <td>4.155179</td>\n",
       "      <td>1.107021</td>\n",
       "    </tr>\n",
       "    <tr>\n",
       "      <th>min</th>\n",
       "      <td>0.000000</td>\n",
       "      <td>0.000000</td>\n",
       "      <td>0.000000</td>\n",
       "      <td>0.000000</td>\n",
       "      <td>0.000000e+00</td>\n",
       "      <td>0.000000</td>\n",
       "      <td>0.000000</td>\n",
       "      <td>0.000000</td>\n",
       "      <td>0.000000</td>\n",
       "      <td>0.000000</td>\n",
       "    </tr>\n",
       "    <tr>\n",
       "      <th>25%</th>\n",
       "      <td>0.029867</td>\n",
       "      <td>41.000000</td>\n",
       "      <td>0.000000</td>\n",
       "      <td>0.175074</td>\n",
       "      <td>3.400000e+03</td>\n",
       "      <td>5.000000</td>\n",
       "      <td>0.000000</td>\n",
       "      <td>0.000000</td>\n",
       "      <td>0.000000</td>\n",
       "      <td>0.000000</td>\n",
       "    </tr>\n",
       "    <tr>\n",
       "      <th>50%</th>\n",
       "      <td>0.154181</td>\n",
       "      <td>52.000000</td>\n",
       "      <td>0.000000</td>\n",
       "      <td>0.366508</td>\n",
       "      <td>5.400000e+03</td>\n",
       "      <td>8.000000</td>\n",
       "      <td>0.000000</td>\n",
       "      <td>1.000000</td>\n",
       "      <td>0.000000</td>\n",
       "      <td>0.000000</td>\n",
       "    </tr>\n",
       "    <tr>\n",
       "      <th>75%</th>\n",
       "      <td>0.559046</td>\n",
       "      <td>63.000000</td>\n",
       "      <td>0.000000</td>\n",
       "      <td>0.868254</td>\n",
       "      <td>8.249000e+03</td>\n",
       "      <td>11.000000</td>\n",
       "      <td>0.000000</td>\n",
       "      <td>2.000000</td>\n",
       "      <td>0.000000</td>\n",
       "      <td>1.000000</td>\n",
       "    </tr>\n",
       "    <tr>\n",
       "      <th>max</th>\n",
       "      <td>50708.000000</td>\n",
       "      <td>109.000000</td>\n",
       "      <td>98.000000</td>\n",
       "      <td>329664.000000</td>\n",
       "      <td>3.008750e+06</td>\n",
       "      <td>58.000000</td>\n",
       "      <td>98.000000</td>\n",
       "      <td>54.000000</td>\n",
       "      <td>98.000000</td>\n",
       "      <td>20.000000</td>\n",
       "    </tr>\n",
       "  </tbody>\n",
       "</table>\n",
       "</div>"
      ],
      "text/plain": [
       "       revolving_utilization_of_unsecured_lines            age  \\\n",
       "count                             150000.000000  150000.000000   \n",
       "mean                                   6.048438      52.295207   \n",
       "std                                  249.755371      14.771866   \n",
       "min                                    0.000000       0.000000   \n",
       "25%                                    0.029867      41.000000   \n",
       "50%                                    0.154181      52.000000   \n",
       "75%                                    0.559046      63.000000   \n",
       "max                                50708.000000     109.000000   \n",
       "\n",
       "       number_of_time30-59_days_past_due_not_worse     debt_ratio  \\\n",
       "count                                150000.000000  150000.000000   \n",
       "mean                                      0.421033     353.005076   \n",
       "std                                       4.192781    2037.818523   \n",
       "min                                       0.000000       0.000000   \n",
       "25%                                       0.000000       0.175074   \n",
       "50%                                       0.000000       0.366508   \n",
       "75%                                       0.000000       0.868254   \n",
       "max                                      98.000000  329664.000000   \n",
       "\n",
       "       monthly_income  number_of_open_credit_lines_and_loans  \\\n",
       "count    1.202690e+05                          150000.000000   \n",
       "mean     6.670221e+03                               8.452760   \n",
       "std      1.438467e+04                               5.145951   \n",
       "min      0.000000e+00                               0.000000   \n",
       "25%      3.400000e+03                               5.000000   \n",
       "50%      5.400000e+03                               8.000000   \n",
       "75%      8.249000e+03                              11.000000   \n",
       "max      3.008750e+06                              58.000000   \n",
       "\n",
       "       number_of_times90_days_late  number_real_estate_loans_or_lines  \\\n",
       "count                150000.000000                      150000.000000   \n",
       "mean                      0.265973                           1.018240   \n",
       "std                       4.169304                           1.129771   \n",
       "min                       0.000000                           0.000000   \n",
       "25%                       0.000000                           0.000000   \n",
       "50%                       0.000000                           1.000000   \n",
       "75%                       0.000000                           2.000000   \n",
       "max                      98.000000                          54.000000   \n",
       "\n",
       "       number_of_time60-89_days_past_due_not_worse  number_of_dependents  \n",
       "count                                150000.000000         150000.000000  \n",
       "mean                                      0.240387              0.737413  \n",
       "std                                       4.155179              1.107021  \n",
       "min                                       0.000000              0.000000  \n",
       "25%                                       0.000000              0.000000  \n",
       "50%                                       0.000000              0.000000  \n",
       "75%                                       0.000000              1.000000  \n",
       "max                                      98.000000             20.000000  "
      ]
     },
     "execution_count": 10,
     "metadata": {},
     "output_type": "execute_result"
    }
   ],
   "source": [
    "borrowers[borrowers.columns[1:]].describe()"
   ]
  },
  {
   "cell_type": "code",
   "execution_count": 13,
   "metadata": {},
   "outputs": [
    {
     "data": {
      "text/plain": [
       "3008750.0"
      ]
     },
     "execution_count": 13,
     "metadata": {},
     "output_type": "execute_result"
    }
   ],
   "source": [
    "borrowers['monthly_income'].max() # Borrar después ésta linea "
   ]
  },
  {
   "cell_type": "markdown",
   "metadata": {},
   "source": [
    "**Observations**:\n",
    "- There are 150000 cases in dataset.\n",
    "- Out of 11 variables available, `serious_dlqin2yrs` is the binary dependent variable for which model has to be developed.\n",
    "- `monthly_income` has large number of missing values.\n",
    "- There are high numbers of extreme values(outliers) for `revolving_utilization_of_unsecured_lines`, `debt_ratio` and `monthly_income` as indicated by high Standard Deviation.\n",
    "- `age` variable have one case showing 0."
   ]
  },
  {
   "cell_type": "markdown",
   "metadata": {},
   "source": [
    "**Calculation of what percentage of values each possible value of the target variable `serious_dlqin2yrs` has.**"
   ]
  },
  {
   "cell_type": "code",
   "execution_count": 14,
   "metadata": {},
   "outputs": [
    {
     "data": {
      "text/plain": [
       "0    93.316\n",
       "1     6.684\n",
       "Name: serious_dlqin2yrs, dtype: float64"
      ]
     },
     "execution_count": 14,
     "metadata": {},
     "output_type": "execute_result"
    }
   ],
   "source": [
    "target_len = len(borrowers['serious_dlqin2yrs'])\n",
    "percentage_var = (borrowers['serious_dlqin2yrs'].value_counts()/target_len)*100\n",
    "percentage_var"
   ]
  },
  {
   "cell_type": "markdown",
   "metadata": {},
   "source": [
    "Graph of the percentages for each possible target value."
   ]
  },
  {
   "cell_type": "code",
   "execution_count": 15,
   "metadata": {},
   "outputs": [
    {
     "data": {
      "image/png": "[encoded data removed]",
      "text/plain": [
       "<Figure size 432x288 with 1 Axes>"
      ]
     },
     "metadata": {},
     "output_type": "display_data"
    }
   ],
   "source": [
    "sns.set()\n",
    "sns.countplot(borrowers.serious_dlqin2yrs, palette='summer').set_title('Target Values Distribution')\n",
    "ax = plt.gca()\n",
    "for p in ax.patches:\n",
    "    height = p.get_height()\n",
    "    ax.text(p.get_x() + p.get_width()/2.,\n",
    "            height + 2,\n",
    "            '{:.2f}%'.format(100*(height/target_len)),\n",
    "            fontsize=12, ha='center', va='bottom')\n",
    "ax.set_xlabel(\"Values of serious_dlqin2yrs attribute\")\n",
    "ax.set_ylabel(\"# Records\")\n",
    "plt.show()"
   ]
  },
  {
   "cell_type": "markdown",
   "metadata": {},
   "source": [
    "**OPEN POINT: Observation:** <br><br>\n",
    "Disproportionate percentage of samples for dependent variable. Sampling of training dataset required to remove bias in model development."
   ]
  },
  {
   "cell_type": "markdown",
   "metadata": {},
   "source": [
    "### 2. Data Pre- Processing"
   ]
  },
  {
   "cell_type": "markdown",
   "metadata": {},
   "source": [
    "#### 2.1 Missing Value Analysis"
   ]
  },
  {
   "cell_type": "markdown",
   "metadata": {},
   "source": [
    ".isnull (). Returns a new DataFrame in which we will have the value False if it is not missing and True if that value is missing."
   ]
  },
  {
   "cell_type": "code",
   "execution_count": null,
   "metadata": {},
   "outputs": [],
   "source": [
    "borrowers.isnull()"
   ]
  },
  {
   "cell_type": "code",
   "execution_count": null,
   "metadata": {},
   "outputs": [],
   "source": [
    "borrowers.isna() #another option"
   ]
  },
  {
   "cell_type": "markdown",
   "metadata": {},
   "source": [
    "We can however combine this function with others in order to obtain the total number of missing data. For example, we can use .isnull().sum(). <br> These numbers return the number of missing values in each column."
   ]
  },
  {
   "cell_type": "code",
   "execution_count": 145,
   "metadata": {},
   "outputs": [
    {
     "name": "stdout",
     "output_type": "stream",
     "text": [
      "Missing values in each attribute: \n",
      "serious_dlqin2yrs                                  0\n",
      "revolving_utilization_of_unsecured_lines           0\n",
      "age                                                0\n",
      "number_of_time30-59_days_past_due_not_worse        0\n",
      "debt_ratio                                         0\n",
      "monthly_income                                 29731\n",
      "number_of_open_credit_lines_and_loans              0\n",
      "number_of_times90_days_late                        0\n",
      "number_real_estate_loans_or_lines                  0\n",
      "number_of_time60-89_days_past_due_not_worse        0\n",
      "number_of_dependents                               0\n",
      "dtype: int64\n"
     ]
    }
   ],
   "source": [
    "print(f\"Missing values in each attribute: \\n{borrowers.isnull().sum()}\")"
   ]
  },
  {
   "cell_type": "markdown",
   "metadata": {},
   "source": [
    "Graphical representation of the missing values."
   ]
  },
  {
   "cell_type": "code",
   "execution_count": 16,
   "metadata": {},
   "outputs": [
    {
     "data": {
      "image/png": "[encoded data removed]",
      "text/plain": [
       "<Figure size 432x288 with 1 Axes>"
      ]
     },
     "metadata": {},
     "output_type": "display_data"
    }
   ],
   "source": [
    "x = borrowers.columns\n",
    "y = borrowers.isnull().sum()\n",
    "sns.set()\n",
    "sns.barplot(x,y, palette='summer').set_title('Missing Values Distribution')\n",
    "ax = plt.gca()\n",
    "for p in ax.patches:\n",
    "    height = p.get_height()\n",
    "    ax.text(p.get_x() + p.get_width()/2.,\n",
    "            height + 2,\n",
    "            int(height),\n",
    "            fontsize=10, ha='center', va='bottom')\n",
    "ax.set_xlabel(\"Data Attributes\")\n",
    "ax.set_ylabel(\"# Missing records for each attribute\")\n",
    "plt.xticks(rotation=90)\n",
    "plt.show()"
   ]
  },
  {
   "cell_type": "markdown",
   "metadata": {},
   "source": [
    "Let's see the lost values in percentages."
   ]
  },
  {
   "cell_type": "code",
   "execution_count": null,
   "metadata": {},
   "outputs": [],
   "source": [
    "print(f\"Missing values in each attribute: \\n{borrowers.isnull().sum() / row * 100}\")"
   ]
  },
  {
   "cell_type": "markdown",
   "metadata": {},
   "source": [
    "**Observations:**"
   ]
  },
  {
   "cell_type": "markdown",
   "metadata": {},
   "source": [
    "- `monthly_income` attribute has large number of missing values. We can see that the variable has 29731 null values. And this represent the 20% approx.\n",
    "- We can eliminate all the rows that have missing values, but this requires an analysis of the amount of missing data and its impact first. <br>\n",
    "- From our intuition, we know that `monthly_income` is an important predictor for credit scoring, therefore we won’t drop those data-points and find the best strategy to replace NULL values.<br>\n",
    "- It may be necessary to complete some of them with one of the following methods: mean, median, mode, k-nearest neighbor.\n",
    "<br><br>\n",
    "Let's see some statistical details of `monthly_income` column of a DataFrame using the .describe () function."
   ]
  },
  {
   "cell_type": "code",
   "execution_count": null,
   "metadata": {},
   "outputs": [],
   "source": [
    "borrowers['monthly_income'].describe()"
   ]
  },
  {
   "cell_type": "code",
   "execution_count": null,
   "metadata": {},
   "outputs": [],
   "source": [
    "borrowers_median = borrowers['monthly_income'].median()\n",
    "borrowers_median"
   ]
  },
  {
   "cell_type": "code",
   "execution_count": 17,
   "metadata": {},
   "outputs": [
    {
     "data": {
      "text/plain": [
       "6670.221237392844"
      ]
     },
     "execution_count": 17,
     "metadata": {},
     "output_type": "execute_result"
    }
   ],
   "source": [
    "borrowers_mean = borrowers['monthly_income'].mean()\n",
    "borrowers_mean"
   ]
  },
  {
   "cell_type": "markdown",
   "metadata": {},
   "source": [
    "**We will test the whole process with a new dataframes with null values replaced by the mean.**"
   ]
  },
  {
   "cell_type": "code",
   "execution_count": null,
   "metadata": {},
   "outputs": [],
   "source": [
    "# Reemplazar ésta parte por el uso de \n",
    "# from sklearn.impute import SimpleImputer"
   ]
  },
  {
   "cell_type": "code",
   "execution_count": 18,
   "metadata": {},
   "outputs": [],
   "source": [
    "borrowers_with_mean= borrowers.apply(lambda x: x.fillna(x.mean()),axis=0)"
   ]
  },
  {
   "cell_type": "code",
   "execution_count": 23,
   "metadata": {},
   "outputs": [
    {
     "data": {
      "text/plain": [
       "6600.0"
      ]
     },
     "execution_count": 23,
     "metadata": {},
     "output_type": "execute_result"
    }
   ],
   "source": [
    "borrowers_with_mean['monthly_income'].median() # Borrar después ésta linea, el máximo sigue siendo el mismo"
   ]
  },
  {
   "cell_type": "markdown",
   "metadata": {},
   "source": [
    "**Verify that there are no more null values.**"
   ]
  },
  {
   "cell_type": "code",
   "execution_count": null,
   "metadata": {},
   "outputs": [],
   "source": [
    "borrowers_with_mean.isnull().sum()"
   ]
  },
  {
   "cell_type": "markdown",
   "metadata": {},
   "source": [
    "The number of records has not been changed."
   ]
  },
  {
   "cell_type": "code",
   "execution_count": null,
   "metadata": {},
   "outputs": [],
   "source": [
    "borrowers_with_mean.shape"
   ]
  },
  {
   "cell_type": "markdown",
   "metadata": {},
   "source": [
    "The original dataframe was not modified."
   ]
  },
  {
   "cell_type": "code",
   "execution_count": null,
   "metadata": {},
   "outputs": [],
   "source": [
    "borrowers.isnull().sum()"
   ]
  },
  {
   "cell_type": "code",
   "execution_count": 129,
   "metadata": {},
   "outputs": [],
   "source": [
    "def histograma(variable, color):\n",
    "    plt.figure()\n",
    "    name = variable.name\n",
    "    plt.hist(variable, color=color, alpha=0.5, bins=20)\n",
    "    plt.xlabel(name)\n",
    "    plt.ylabel('Events')\n",
    "    plt.title(f'{name} Variable Distribution')\n",
    "    plt.gca().spines['right'].set_visible(False)\n",
    "    plt.gca().spines['top'].set_visible(False)\n",
    "    plt.show()"
   ]
  },
  {
   "cell_type": "markdown",
   "metadata": {},
   "source": [
    "#### 2.2 Outliers Detection"
   ]
  },
  {
   "cell_type": "markdown",
   "metadata": {},
   "source": [
    "- **`age` attribute**"
   ]
  },
  {
   "cell_type": "markdown",
   "metadata": {},
   "source": [
    "The `age` variable has a record with value '0', as it is a single record we decided to eliminate it."
   ]
  },
  {
   "cell_type": "code",
   "execution_count": 24,
   "metadata": {},
   "outputs": [],
   "source": [
    "borrowers_with_mean.drop(borrowers_with_mean[borrowers_with_mean.age == 0].index, inplace=True)"
   ]
  },
  {
   "cell_type": "markdown",
   "metadata": {},
   "source": [
    "- **`number_of_time30-59_days_past_due_not_worse` attribute**"
   ]
  },
  {
   "cell_type": "markdown",
   "metadata": {},
   "source": [
    "The `number_of_time30-59_days_past_due_not_worse` variable has a record with value '96' and '98', we replace them with the median value."
   ]
  },
  {
   "cell_type": "code",
   "execution_count": 25,
   "metadata": {},
   "outputs": [],
   "source": [
    "import collections"
   ]
  },
  {
   "cell_type": "code",
   "execution_count": 26,
   "metadata": {},
   "outputs": [
    {
     "data": {
      "text/plain": [
       "Counter({2: 4598,\n",
       "         0: 126018,\n",
       "         1: 16032,\n",
       "         3: 1754,\n",
       "         4: 747,\n",
       "         5: 342,\n",
       "         7: 54,\n",
       "         10: 4,\n",
       "         6: 140,\n",
       "         98: 264,\n",
       "         12: 2,\n",
       "         8: 25,\n",
       "         9: 12,\n",
       "         96: 5,\n",
       "         13: 1,\n",
       "         11: 1})"
      ]
     },
     "execution_count": 26,
     "metadata": {},
     "output_type": "execute_result"
    }
   ],
   "source": [
    "collections.Counter(borrowers_with_mean['number_of_time30-59_days_past_due_not_worse'])"
   ]
  },
  {
   "cell_type": "code",
   "execution_count": 27,
   "metadata": {},
   "outputs": [],
   "source": [
    "def outlier_days_past_due_not_worse(attribute):\n",
    "    New = []\n",
    "    med = borrowers_with_mean[attribute].median()\n",
    "    for val in borrowers_with_mean[attribute]:\n",
    "        if ((val == 98) | (val == 96)):\n",
    "            New.append(med)\n",
    "        else:\n",
    "            New.append(val)\n",
    "    borrowers_with_mean[attribute] = New\n",
    "    #return borrowers_with_mean"
   ]
  },
  {
   "cell_type": "code",
   "execution_count": 28,
   "metadata": {},
   "outputs": [],
   "source": [
    "outlier_days_past_due_not_worse('number_of_time30-59_days_past_due_not_worse')"
   ]
  },
  {
   "cell_type": "code",
   "execution_count": 29,
   "metadata": {},
   "outputs": [
    {
     "data": {
      "text/plain": [
       "Counter({2.0: 4598,\n",
       "         0.0: 126287,\n",
       "         1.0: 16032,\n",
       "         3.0: 1754,\n",
       "         4.0: 747,\n",
       "         5.0: 342,\n",
       "         7.0: 54,\n",
       "         10.0: 4,\n",
       "         6.0: 140,\n",
       "         12.0: 2,\n",
       "         8.0: 25,\n",
       "         9.0: 12,\n",
       "         13.0: 1,\n",
       "         11.0: 1})"
      ]
     },
     "execution_count": 29,
     "metadata": {},
     "output_type": "execute_result"
    }
   ],
   "source": [
    "collections.Counter(borrowers_with_mean['number_of_time30-59_days_past_due_not_worse'])"
   ]
  },
  {
   "cell_type": "markdown",
   "metadata": {},
   "source": [
    "Apply the same function to the other attributes of type \"days_past_due_not_worse\"."
   ]
  },
  {
   "cell_type": "code",
   "execution_count": 30,
   "metadata": {},
   "outputs": [],
   "source": [
    "outlier_days_past_due_not_worse('number_of_times90_days_late')"
   ]
  },
  {
   "cell_type": "code",
   "execution_count": 31,
   "metadata": {},
   "outputs": [],
   "source": [
    "outlier_days_past_due_not_worse('number_of_time60-89_days_past_due_not_worse')"
   ]
  },
  {
   "cell_type": "code",
   "execution_count": 32,
   "metadata": {},
   "outputs": [
    {
     "data": {
      "text/plain": [
       "Counter({0.0: 141930,\n",
       "         1.0: 5243,\n",
       "         3.0: 667,\n",
       "         2.0: 1555,\n",
       "         5.0: 131,\n",
       "         4.0: 291,\n",
       "         10.0: 8,\n",
       "         9.0: 19,\n",
       "         6.0: 80,\n",
       "         7.0: 38,\n",
       "         8.0: 21,\n",
       "         15.0: 2,\n",
       "         11.0: 5,\n",
       "         13.0: 4,\n",
       "         14.0: 2,\n",
       "         17.0: 1,\n",
       "         12.0: 2})"
      ]
     },
     "execution_count": 32,
     "metadata": {},
     "output_type": "execute_result"
    }
   ],
   "source": [
    "collections.Counter(borrowers_with_mean['number_of_times90_days_late'])"
   ]
  },
  {
   "cell_type": "code",
   "execution_count": 33,
   "metadata": {},
   "outputs": [
    {
     "data": {
      "text/plain": [
       "Counter({0.0: 142664,\n",
       "         1.0: 5731,\n",
       "         2.0: 1118,\n",
       "         5.0: 34,\n",
       "         3.0: 318,\n",
       "         4.0: 105,\n",
       "         6.0: 16,\n",
       "         7.0: 9,\n",
       "         8.0: 2,\n",
       "         11.0: 1,\n",
       "         9.0: 1})"
      ]
     },
     "execution_count": 33,
     "metadata": {},
     "output_type": "execute_result"
    }
   ],
   "source": [
    "collections.Counter(borrowers_with_mean['number_of_time60-89_days_past_due_not_worse'])"
   ]
  },
  {
   "cell_type": "markdown",
   "metadata": {},
   "source": [
    "**Descriptive Statistics After Data Cleaning**"
   ]
  },
  {
   "cell_type": "code",
   "execution_count": 34,
   "metadata": {},
   "outputs": [
    {
     "data": {
      "text/html": [
       "<div>\n",
       "<style scoped>\n",
       "    .dataframe tbody tr th:only-of-type {\n",
       "        vertical-align: middle;\n",
       "    }\n",
       "\n",
       "    .dataframe tbody tr th {\n",
       "        vertical-align: top;\n",
       "    }\n",
       "\n",
       "    .dataframe thead th {\n",
       "        text-align: right;\n",
       "    }\n",
       "</style>\n",
       "<table border=\"1\" class=\"dataframe\">\n",
       "  <thead>\n",
       "    <tr style=\"text-align: right;\">\n",
       "      <th></th>\n",
       "      <th>serious_dlqin2yrs</th>\n",
       "      <th>revolving_utilization_of_unsecured_lines</th>\n",
       "      <th>age</th>\n",
       "      <th>number_of_time30-59_days_past_due_not_worse</th>\n",
       "      <th>debt_ratio</th>\n",
       "      <th>monthly_income</th>\n",
       "      <th>number_of_open_credit_lines_and_loans</th>\n",
       "      <th>number_of_times90_days_late</th>\n",
       "      <th>number_real_estate_loans_or_lines</th>\n",
       "      <th>number_of_time60-89_days_past_due_not_worse</th>\n",
       "      <th>number_of_dependents</th>\n",
       "    </tr>\n",
       "  </thead>\n",
       "  <tbody>\n",
       "    <tr>\n",
       "      <th>count</th>\n",
       "      <td>149999.000000</td>\n",
       "      <td>149999.000000</td>\n",
       "      <td>149999.000000</td>\n",
       "      <td>149999.000000</td>\n",
       "      <td>149999.000000</td>\n",
       "      <td>1.499990e+05</td>\n",
       "      <td>149999.000000</td>\n",
       "      <td>149999.000000</td>\n",
       "      <td>149999.000000</td>\n",
       "      <td>149999.000000</td>\n",
       "      <td>149999.000000</td>\n",
       "    </tr>\n",
       "    <tr>\n",
       "      <th>mean</th>\n",
       "      <td>0.066840</td>\n",
       "      <td>6.048472</td>\n",
       "      <td>52.295555</td>\n",
       "      <td>0.245348</td>\n",
       "      <td>353.007426</td>\n",
       "      <td>6.670226e+03</td>\n",
       "      <td>8.452776</td>\n",
       "      <td>0.090294</td>\n",
       "      <td>1.018233</td>\n",
       "      <td>0.064707</td>\n",
       "      <td>0.737405</td>\n",
       "    </tr>\n",
       "    <tr>\n",
       "      <th>std</th>\n",
       "      <td>0.249746</td>\n",
       "      <td>249.756203</td>\n",
       "      <td>14.771298</td>\n",
       "      <td>0.697231</td>\n",
       "      <td>2037.825113</td>\n",
       "      <td>1.288049e+04</td>\n",
       "      <td>5.145964</td>\n",
       "      <td>0.485108</td>\n",
       "      <td>1.129772</td>\n",
       "      <td>0.329790</td>\n",
       "      <td>1.107020</td>\n",
       "    </tr>\n",
       "    <tr>\n",
       "      <th>min</th>\n",
       "      <td>0.000000</td>\n",
       "      <td>0.000000</td>\n",
       "      <td>21.000000</td>\n",
       "      <td>0.000000</td>\n",
       "      <td>0.000000</td>\n",
       "      <td>0.000000e+00</td>\n",
       "      <td>0.000000</td>\n",
       "      <td>0.000000</td>\n",
       "      <td>0.000000</td>\n",
       "      <td>0.000000</td>\n",
       "      <td>0.000000</td>\n",
       "    </tr>\n",
       "    <tr>\n",
       "      <th>25%</th>\n",
       "      <td>0.000000</td>\n",
       "      <td>0.029867</td>\n",
       "      <td>41.000000</td>\n",
       "      <td>0.000000</td>\n",
       "      <td>0.175074</td>\n",
       "      <td>3.903000e+03</td>\n",
       "      <td>5.000000</td>\n",
       "      <td>0.000000</td>\n",
       "      <td>0.000000</td>\n",
       "      <td>0.000000</td>\n",
       "      <td>0.000000</td>\n",
       "    </tr>\n",
       "    <tr>\n",
       "      <th>50%</th>\n",
       "      <td>0.000000</td>\n",
       "      <td>0.154176</td>\n",
       "      <td>52.000000</td>\n",
       "      <td>0.000000</td>\n",
       "      <td>0.366503</td>\n",
       "      <td>6.600000e+03</td>\n",
       "      <td>8.000000</td>\n",
       "      <td>0.000000</td>\n",
       "      <td>1.000000</td>\n",
       "      <td>0.000000</td>\n",
       "      <td>0.000000</td>\n",
       "    </tr>\n",
       "    <tr>\n",
       "      <th>75%</th>\n",
       "      <td>0.000000</td>\n",
       "      <td>0.559044</td>\n",
       "      <td>63.000000</td>\n",
       "      <td>0.000000</td>\n",
       "      <td>0.868257</td>\n",
       "      <td>7.400000e+03</td>\n",
       "      <td>11.000000</td>\n",
       "      <td>0.000000</td>\n",
       "      <td>2.000000</td>\n",
       "      <td>0.000000</td>\n",
       "      <td>1.000000</td>\n",
       "    </tr>\n",
       "    <tr>\n",
       "      <th>max</th>\n",
       "      <td>1.000000</td>\n",
       "      <td>50708.000000</td>\n",
       "      <td>109.000000</td>\n",
       "      <td>13.000000</td>\n",
       "      <td>329664.000000</td>\n",
       "      <td>3.008750e+06</td>\n",
       "      <td>58.000000</td>\n",
       "      <td>17.000000</td>\n",
       "      <td>54.000000</td>\n",
       "      <td>11.000000</td>\n",
       "      <td>20.000000</td>\n",
       "    </tr>\n",
       "  </tbody>\n",
       "</table>\n",
       "</div>"
      ],
      "text/plain": [
       "       serious_dlqin2yrs  revolving_utilization_of_unsecured_lines  \\\n",
       "count      149999.000000                             149999.000000   \n",
       "mean            0.066840                                  6.048472   \n",
       "std             0.249746                                249.756203   \n",
       "min             0.000000                                  0.000000   \n",
       "25%             0.000000                                  0.029867   \n",
       "50%             0.000000                                  0.154176   \n",
       "75%             0.000000                                  0.559044   \n",
       "max             1.000000                              50708.000000   \n",
       "\n",
       "                 age  number_of_time30-59_days_past_due_not_worse  \\\n",
       "count  149999.000000                                149999.000000   \n",
       "mean       52.295555                                     0.245348   \n",
       "std        14.771298                                     0.697231   \n",
       "min        21.000000                                     0.000000   \n",
       "25%        41.000000                                     0.000000   \n",
       "50%        52.000000                                     0.000000   \n",
       "75%        63.000000                                     0.000000   \n",
       "max       109.000000                                    13.000000   \n",
       "\n",
       "          debt_ratio  monthly_income  number_of_open_credit_lines_and_loans  \\\n",
       "count  149999.000000    1.499990e+05                          149999.000000   \n",
       "mean      353.007426    6.670226e+03                               8.452776   \n",
       "std      2037.825113    1.288049e+04                               5.145964   \n",
       "min         0.000000    0.000000e+00                               0.000000   \n",
       "25%         0.175074    3.903000e+03                               5.000000   \n",
       "50%         0.366503    6.600000e+03                               8.000000   \n",
       "75%         0.868257    7.400000e+03                              11.000000   \n",
       "max    329664.000000    3.008750e+06                              58.000000   \n",
       "\n",
       "       number_of_times90_days_late  number_real_estate_loans_or_lines  \\\n",
       "count                149999.000000                      149999.000000   \n",
       "mean                      0.090294                           1.018233   \n",
       "std                       0.485108                           1.129772   \n",
       "min                       0.000000                           0.000000   \n",
       "25%                       0.000000                           0.000000   \n",
       "50%                       0.000000                           1.000000   \n",
       "75%                       0.000000                           2.000000   \n",
       "max                      17.000000                          54.000000   \n",
       "\n",
       "       number_of_time60-89_days_past_due_not_worse  number_of_dependents  \n",
       "count                                149999.000000         149999.000000  \n",
       "mean                                      0.064707              0.737405  \n",
       "std                                       0.329790              1.107020  \n",
       "min                                       0.000000              0.000000  \n",
       "25%                                       0.000000              0.000000  \n",
       "50%                                       0.000000              0.000000  \n",
       "75%                                       0.000000              1.000000  \n",
       "max                                      11.000000             20.000000  "
      ]
     },
     "execution_count": 34,
     "metadata": {},
     "output_type": "execute_result"
    }
   ],
   "source": [
    "borrowers_with_mean.describe()"
   ]
  },
  {
   "cell_type": "markdown",
   "metadata": {},
   "source": [
    "- After data cleaning total number of cases down to 149999.\n",
    "- The minimum value of the `age` attribute is no longer `0` but `21`.\n",
    "- Outliers in variables `revolving_utilization_of_unsecured_lines`, `debt_ratio` and `monthly_income` to be removed through binning."
   ]
  },
  {
   "cell_type": "markdown",
   "metadata": {},
   "source": [
    "**Let's see if some of the variables have values that can be described as outliers (attributes with high Standard Deviation)."
   ]
  },
  {
   "cell_type": "markdown",
   "metadata": {},
   "source": [
    "- **`revolving_utilization_of_unsecured_lines` attribute outliers**"
   ]
  },
  {
   "cell_type": "code",
   "execution_count": 35,
   "metadata": {},
   "outputs": [
    {
     "data": {
      "image/png": "[encoded data removed]",
      "text/plain": [
       "<Figure size 432x288 with 1 Axes>"
      ]
     },
     "metadata": {},
     "output_type": "display_data"
    }
   ],
   "source": [
    "sns.boxplot(x='revolving_utilization_of_unsecured_lines', data=borrowers_with_mean, color='#1ABC9C')\n",
    "sns.despine()"
   ]
  },
  {
   "cell_type": "markdown",
   "metadata": {},
   "source": [
    "- **`debt_ratio` attribute outliers**"
   ]
  },
  {
   "cell_type": "code",
   "execution_count": 36,
   "metadata": {},
   "outputs": [
    {
     "data": {
      "image/png": "[encoded data removed]",
      "text/plain": [
       "<Figure size 432x288 with 1 Axes>"
      ]
     },
     "metadata": {},
     "output_type": "display_data"
    }
   ],
   "source": [
    "sns.boxplot(x='debt_ratio', data=borrowers_with_mean, color='#1ABC9C')\n",
    "sns.despine()"
   ]
  },
  {
   "cell_type": "markdown",
   "metadata": {},
   "source": [
    "- **`monthly_income` attribute outliers**"
   ]
  },
  {
   "cell_type": "code",
   "execution_count": 37,
   "metadata": {},
   "outputs": [
    {
     "data": {
      "image/png": "[encoded data removed]",
      "text/plain": [
       "<Figure size 432x288 with 1 Axes>"
      ]
     },
     "metadata": {},
     "output_type": "display_data"
    }
   ],
   "source": [
    "sns.boxplot(x='monthly_income', data=borrowers_with_mean, color='#1ABC9C')\n",
    "sns.despine()"
   ]
  },
  {
   "cell_type": "markdown",
   "metadata": {},
   "source": [
    "- Way to decrease outliers:\n",
    "    - z-score\n",
    "        - Consider that any value that is far from the average=0 is an outlier.\n",
    "        - It depends on the mean and the standard deviation to measure centrality and dispersion, which are very affected by outliers. If the variables do not have a normal distribution, I end up removing many outliers from the dataset.\n",
    "        - It does not work well in very small datasets.\n",
    "    - Interquartile range: \n",
    "        - It is robust and not as sensitive to outliers."
   ]
  },
  {
   "cell_type": "code",
   "execution_count": 39,
   "metadata": {},
   "outputs": [],
   "source": [
    "from scipy import stats"
   ]
  },
  {
   "cell_type": "code",
   "execution_count": 40,
   "metadata": {},
   "outputs": [],
   "source": [
    "def detect_outliers(df,n,features):\n",
    "    outlier_indices = []\n",
    "    \n",
    "    # iterate over features(columns)\n",
    "    for col in features:\n",
    "        # 1st quartile (25%)\n",
    "        Q1 = np.percentile(df[col], 25)\n",
    "        # 3rd quartile (75%)\n",
    "        Q3 = np.percentile(df[col],75)\n",
    "        # Interquartile range (IQR)\n",
    "        IQR = Q3 - Q1\n",
    "        \n",
    "        # outlier step\n",
    "        outlier_step = 1.5 * IQR\n",
    "        \n",
    "        # Determine a list of indices of outliers for feature col\n",
    "        outlier_list_col = df[(df[col] < Q1 - outlier_step) | (df[col] > Q3 + outlier_step )].index\n",
    "        \n",
    "        # append the found outlier indices for col to the list of outlier indices \n",
    "        outlier_indices.extend(outlier_list_col)\n",
    "        \n",
    "    # select observations containing more than 2 outliers\n",
    "    outlier_indices = collections.Counter(outlier_indices)        \n",
    "    multiple_outliers = list( k for k, v in outlier_indices.items() if v > n )\n",
    "    \n",
    "    return multiple_outliers\n",
    "\n",
    "# detect outliers from Age, SibSp , Parch and Fare\n",
    "# These are the numerical features present in the dataset\n",
    "Outliers_to_drop = detect_outliers(borrowers_with_mean,2,[\"revolving_utilization_of_unsecured_lines\",\n",
    "                                            \"age\",\n",
    "                                            \"number_of_time30-59_days_past_due_not_worse\",\n",
    "                                            \"debt_ratio\",\n",
    "                                            \"monthly_income\",\n",
    "                                            \"number_of_open_credit_lines_and_loans\",\n",
    "                                            \"number_of_times90_days_late\",\n",
    "                                            \"number_real_estate_loans_or_lines\",\n",
    "                                            \"number_of_time60-89_days_past_due_not_worse\",\n",
    "                                            \"number_of_dependents\"])"
   ]
  },
  {
   "cell_type": "code",
   "execution_count": 41,
   "metadata": {},
   "outputs": [
    {
     "data": {
      "text/html": [
       "<div>\n",
       "<style scoped>\n",
       "    .dataframe tbody tr th:only-of-type {\n",
       "        vertical-align: middle;\n",
       "    }\n",
       "\n",
       "    .dataframe tbody tr th {\n",
       "        vertical-align: top;\n",
       "    }\n",
       "\n",
       "    .dataframe thead th {\n",
       "        text-align: right;\n",
       "    }\n",
       "</style>\n",
       "<table border=\"1\" class=\"dataframe\">\n",
       "  <thead>\n",
       "    <tr style=\"text-align: right;\">\n",
       "      <th></th>\n",
       "      <th>serious_dlqin2yrs</th>\n",
       "      <th>revolving_utilization_of_unsecured_lines</th>\n",
       "      <th>age</th>\n",
       "      <th>number_of_time30-59_days_past_due_not_worse</th>\n",
       "      <th>debt_ratio</th>\n",
       "      <th>monthly_income</th>\n",
       "      <th>number_of_open_credit_lines_and_loans</th>\n",
       "      <th>number_of_times90_days_late</th>\n",
       "      <th>number_real_estate_loans_or_lines</th>\n",
       "      <th>number_of_time60-89_days_past_due_not_worse</th>\n",
       "      <th>number_of_dependents</th>\n",
       "    </tr>\n",
       "  </thead>\n",
       "  <tbody>\n",
       "    <tr>\n",
       "      <th>900</th>\n",
       "      <td>0</td>\n",
       "      <td>2.258964</td>\n",
       "      <td>33</td>\n",
       "      <td>2.0</td>\n",
       "      <td>0.032484</td>\n",
       "      <td>2000.000000</td>\n",
       "      <td>1</td>\n",
       "      <td>1.0</td>\n",
       "      <td>0</td>\n",
       "      <td>0.0</td>\n",
       "      <td>2.0</td>\n",
       "    </tr>\n",
       "    <tr>\n",
       "      <th>919</th>\n",
       "      <td>1</td>\n",
       "      <td>1.362142</td>\n",
       "      <td>73</td>\n",
       "      <td>1.0</td>\n",
       "      <td>274.000000</td>\n",
       "      <td>6670.221237</td>\n",
       "      <td>2</td>\n",
       "      <td>3.0</td>\n",
       "      <td>0</td>\n",
       "      <td>1.0</td>\n",
       "      <td>0.0</td>\n",
       "    </tr>\n",
       "    <tr>\n",
       "      <th>1958</th>\n",
       "      <td>0</td>\n",
       "      <td>1.634551</td>\n",
       "      <td>28</td>\n",
       "      <td>0.0</td>\n",
       "      <td>151.000000</td>\n",
       "      <td>6670.221237</td>\n",
       "      <td>1</td>\n",
       "      <td>3.0</td>\n",
       "      <td>0</td>\n",
       "      <td>2.0</td>\n",
       "      <td>0.0</td>\n",
       "    </tr>\n",
       "    <tr>\n",
       "      <th>4793</th>\n",
       "      <td>0</td>\n",
       "      <td>3746.000000</td>\n",
       "      <td>52</td>\n",
       "      <td>2.0</td>\n",
       "      <td>0.481353</td>\n",
       "      <td>2600.000000</td>\n",
       "      <td>5</td>\n",
       "      <td>0.0</td>\n",
       "      <td>1</td>\n",
       "      <td>0.0</td>\n",
       "      <td>3.0</td>\n",
       "    </tr>\n",
       "    <tr>\n",
       "      <th>4852</th>\n",
       "      <td>0</td>\n",
       "      <td>1.566866</td>\n",
       "      <td>46</td>\n",
       "      <td>2.0</td>\n",
       "      <td>0.104983</td>\n",
       "      <td>6000.000000</td>\n",
       "      <td>3</td>\n",
       "      <td>2.0</td>\n",
       "      <td>0</td>\n",
       "      <td>0.0</td>\n",
       "      <td>0.0</td>\n",
       "    </tr>\n",
       "    <tr>\n",
       "      <th>...</th>\n",
       "      <td>...</td>\n",
       "      <td>...</td>\n",
       "      <td>...</td>\n",
       "      <td>...</td>\n",
       "      <td>...</td>\n",
       "      <td>...</td>\n",
       "      <td>...</td>\n",
       "      <td>...</td>\n",
       "      <td>...</td>\n",
       "      <td>...</td>\n",
       "      <td>...</td>\n",
       "    </tr>\n",
       "    <tr>\n",
       "      <th>142226</th>\n",
       "      <td>1</td>\n",
       "      <td>0.859714</td>\n",
       "      <td>55</td>\n",
       "      <td>0.0</td>\n",
       "      <td>0.599348</td>\n",
       "      <td>11046.000000</td>\n",
       "      <td>18</td>\n",
       "      <td>7.0</td>\n",
       "      <td>6</td>\n",
       "      <td>6.0</td>\n",
       "      <td>1.0</td>\n",
       "    </tr>\n",
       "    <tr>\n",
       "      <th>142830</th>\n",
       "      <td>0</td>\n",
       "      <td>0.889452</td>\n",
       "      <td>47</td>\n",
       "      <td>0.0</td>\n",
       "      <td>0.411026</td>\n",
       "      <td>8833.000000</td>\n",
       "      <td>13</td>\n",
       "      <td>3.0</td>\n",
       "      <td>1</td>\n",
       "      <td>1.0</td>\n",
       "      <td>3.0</td>\n",
       "    </tr>\n",
       "    <tr>\n",
       "      <th>143782</th>\n",
       "      <td>1</td>\n",
       "      <td>1.000000</td>\n",
       "      <td>38</td>\n",
       "      <td>0.0</td>\n",
       "      <td>0.250573</td>\n",
       "      <td>5666.000000</td>\n",
       "      <td>4</td>\n",
       "      <td>2.0</td>\n",
       "      <td>1</td>\n",
       "      <td>1.0</td>\n",
       "      <td>3.0</td>\n",
       "    </tr>\n",
       "    <tr>\n",
       "      <th>146360</th>\n",
       "      <td>0</td>\n",
       "      <td>0.921219</td>\n",
       "      <td>45</td>\n",
       "      <td>0.0</td>\n",
       "      <td>0.092564</td>\n",
       "      <td>3845.000000</td>\n",
       "      <td>3</td>\n",
       "      <td>1.0</td>\n",
       "      <td>0</td>\n",
       "      <td>1.0</td>\n",
       "      <td>3.0</td>\n",
       "    </tr>\n",
       "    <tr>\n",
       "      <th>37033</th>\n",
       "      <td>0</td>\n",
       "      <td>0.059606</td>\n",
       "      <td>49</td>\n",
       "      <td>0.0</td>\n",
       "      <td>1.171569</td>\n",
       "      <td>12000.000000</td>\n",
       "      <td>20</td>\n",
       "      <td>0.0</td>\n",
       "      <td>8</td>\n",
       "      <td>1.0</td>\n",
       "      <td>5.0</td>\n",
       "    </tr>\n",
       "  </tbody>\n",
       "</table>\n",
       "<p>4938 rows × 11 columns</p>\n",
       "</div>"
      ],
      "text/plain": [
       "        serious_dlqin2yrs  revolving_utilization_of_unsecured_lines  age  \\\n",
       "900                     0                                  2.258964   33   \n",
       "919                     1                                  1.362142   73   \n",
       "1958                    0                                  1.634551   28   \n",
       "4793                    0                               3746.000000   52   \n",
       "4852                    0                                  1.566866   46   \n",
       "...                   ...                                       ...  ...   \n",
       "142226                  1                                  0.859714   55   \n",
       "142830                  0                                  0.889452   47   \n",
       "143782                  1                                  1.000000   38   \n",
       "146360                  0                                  0.921219   45   \n",
       "37033                   0                                  0.059606   49   \n",
       "\n",
       "        number_of_time30-59_days_past_due_not_worse  debt_ratio  \\\n",
       "900                                             2.0    0.032484   \n",
       "919                                             1.0  274.000000   \n",
       "1958                                            0.0  151.000000   \n",
       "4793                                            2.0    0.481353   \n",
       "4852                                            2.0    0.104983   \n",
       "...                                             ...         ...   \n",
       "142226                                          0.0    0.599348   \n",
       "142830                                          0.0    0.411026   \n",
       "143782                                          0.0    0.250573   \n",
       "146360                                          0.0    0.092564   \n",
       "37033                                           0.0    1.171569   \n",
       "\n",
       "        monthly_income  number_of_open_credit_lines_and_loans  \\\n",
       "900        2000.000000                                      1   \n",
       "919        6670.221237                                      2   \n",
       "1958       6670.221237                                      1   \n",
       "4793       2600.000000                                      5   \n",
       "4852       6000.000000                                      3   \n",
       "...                ...                                    ...   \n",
       "142226    11046.000000                                     18   \n",
       "142830     8833.000000                                     13   \n",
       "143782     5666.000000                                      4   \n",
       "146360     3845.000000                                      3   \n",
       "37033     12000.000000                                     20   \n",
       "\n",
       "        number_of_times90_days_late  number_real_estate_loans_or_lines  \\\n",
       "900                             1.0                                  0   \n",
       "919                             3.0                                  0   \n",
       "1958                            3.0                                  0   \n",
       "4793                            0.0                                  1   \n",
       "4852                            2.0                                  0   \n",
       "...                             ...                                ...   \n",
       "142226                          7.0                                  6   \n",
       "142830                          3.0                                  1   \n",
       "143782                          2.0                                  1   \n",
       "146360                          1.0                                  0   \n",
       "37033                           0.0                                  8   \n",
       "\n",
       "        number_of_time60-89_days_past_due_not_worse  number_of_dependents  \n",
       "900                                             0.0                   2.0  \n",
       "919                                             1.0                   0.0  \n",
       "1958                                            2.0                   0.0  \n",
       "4793                                            0.0                   3.0  \n",
       "4852                                            0.0                   0.0  \n",
       "...                                             ...                   ...  \n",
       "142226                                          6.0                   1.0  \n",
       "142830                                          1.0                   3.0  \n",
       "143782                                          1.0                   3.0  \n",
       "146360                                          1.0                   3.0  \n",
       "37033                                           1.0                   5.0  \n",
       "\n",
       "[4938 rows x 11 columns]"
      ]
     },
     "execution_count": 41,
     "metadata": {},
     "output_type": "execute_result"
    }
   ],
   "source": [
    "borrowers_with_mean.loc[Outliers_to_drop]"
   ]
  },
  {
   "cell_type": "markdown",
   "metadata": {},
   "source": [
    "We detected 4938 outliers in the dataset, which represents 3.29% of our training data. We will drop these outliers."
   ]
  },
  {
   "cell_type": "code",
   "execution_count": 42,
   "metadata": {},
   "outputs": [
    {
     "data": {
      "text/plain": [
       "(149999, 11)"
      ]
     },
     "execution_count": 42,
     "metadata": {},
     "output_type": "execute_result"
    }
   ],
   "source": [
    "borrowers_with_mean.shape"
   ]
  },
  {
   "cell_type": "code",
   "execution_count": 43,
   "metadata": {},
   "outputs": [],
   "source": [
    "borrowers_with_mean = borrowers_with_mean.drop(Outliers_to_drop, axis = 0).reset_index(drop=True)"
   ]
  },
  {
   "cell_type": "code",
   "execution_count": null,
   "metadata": {},
   "outputs": [],
   "source": [
    "borrowers_with_mean.shape"
   ]
  },
  {
   "cell_type": "code",
   "execution_count": 44,
   "metadata": {},
   "outputs": [
    {
     "data": {
      "text/html": [
       "<div>\n",
       "<style scoped>\n",
       "    .dataframe tbody tr th:only-of-type {\n",
       "        vertical-align: middle;\n",
       "    }\n",
       "\n",
       "    .dataframe tbody tr th {\n",
       "        vertical-align: top;\n",
       "    }\n",
       "\n",
       "    .dataframe thead th {\n",
       "        text-align: right;\n",
       "    }\n",
       "</style>\n",
       "<table border=\"1\" class=\"dataframe\">\n",
       "  <thead>\n",
       "    <tr style=\"text-align: right;\">\n",
       "      <th></th>\n",
       "      <th>serious_dlqin2yrs</th>\n",
       "      <th>revolving_utilization_of_unsecured_lines</th>\n",
       "      <th>age</th>\n",
       "      <th>number_of_time30-59_days_past_due_not_worse</th>\n",
       "      <th>debt_ratio</th>\n",
       "      <th>monthly_income</th>\n",
       "      <th>number_of_open_credit_lines_and_loans</th>\n",
       "      <th>number_of_times90_days_late</th>\n",
       "      <th>number_real_estate_loans_or_lines</th>\n",
       "      <th>number_of_time60-89_days_past_due_not_worse</th>\n",
       "      <th>number_of_dependents</th>\n",
       "    </tr>\n",
       "  </thead>\n",
       "  <tbody>\n",
       "    <tr>\n",
       "      <th>count</th>\n",
       "      <td>145061.000000</td>\n",
       "      <td>145061.000000</td>\n",
       "      <td>145061.000000</td>\n",
       "      <td>145061.000000</td>\n",
       "      <td>145061.000000</td>\n",
       "      <td>1.450610e+05</td>\n",
       "      <td>145061.000000</td>\n",
       "      <td>145061.000000</td>\n",
       "      <td>145061.000000</td>\n",
       "      <td>145061.000000</td>\n",
       "      <td>145061.000000</td>\n",
       "    </tr>\n",
       "    <tr>\n",
       "      <th>mean</th>\n",
       "      <td>0.055466</td>\n",
       "      <td>5.547413</td>\n",
       "      <td>52.425262</td>\n",
       "      <td>0.197158</td>\n",
       "      <td>338.511789</td>\n",
       "      <td>6.593925e+03</td>\n",
       "      <td>8.401583</td>\n",
       "      <td>0.055377</td>\n",
       "      <td>0.999903</td>\n",
       "      <td>0.036405</td>\n",
       "      <td>0.711321</td>\n",
       "    </tr>\n",
       "    <tr>\n",
       "      <th>std</th>\n",
       "      <td>0.228889</td>\n",
       "      <td>242.079604</td>\n",
       "      <td>14.844237</td>\n",
       "      <td>0.603047</td>\n",
       "      <td>2032.229250</td>\n",
       "      <td>1.263117e+04</td>\n",
       "      <td>5.036792</td>\n",
       "      <td>0.363150</td>\n",
       "      <td>1.042804</td>\n",
       "      <td>0.230585</td>\n",
       "      <td>1.076328</td>\n",
       "    </tr>\n",
       "    <tr>\n",
       "      <th>min</th>\n",
       "      <td>0.000000</td>\n",
       "      <td>0.000000</td>\n",
       "      <td>21.000000</td>\n",
       "      <td>0.000000</td>\n",
       "      <td>0.000000</td>\n",
       "      <td>0.000000e+00</td>\n",
       "      <td>0.000000</td>\n",
       "      <td>0.000000</td>\n",
       "      <td>0.000000</td>\n",
       "      <td>0.000000</td>\n",
       "      <td>0.000000</td>\n",
       "    </tr>\n",
       "    <tr>\n",
       "      <th>25%</th>\n",
       "      <td>0.000000</td>\n",
       "      <td>0.028597</td>\n",
       "      <td>41.000000</td>\n",
       "      <td>0.000000</td>\n",
       "      <td>0.171971</td>\n",
       "      <td>3.900000e+03</td>\n",
       "      <td>5.000000</td>\n",
       "      <td>0.000000</td>\n",
       "      <td>0.000000</td>\n",
       "      <td>0.000000</td>\n",
       "      <td>0.000000</td>\n",
       "    </tr>\n",
       "    <tr>\n",
       "      <th>50%</th>\n",
       "      <td>0.000000</td>\n",
       "      <td>0.144521</td>\n",
       "      <td>52.000000</td>\n",
       "      <td>0.000000</td>\n",
       "      <td>0.361836</td>\n",
       "      <td>6.507000e+03</td>\n",
       "      <td>8.000000</td>\n",
       "      <td>0.000000</td>\n",
       "      <td>1.000000</td>\n",
       "      <td>0.000000</td>\n",
       "      <td>0.000000</td>\n",
       "    </tr>\n",
       "    <tr>\n",
       "      <th>75%</th>\n",
       "      <td>0.000000</td>\n",
       "      <td>0.527667</td>\n",
       "      <td>63.000000</td>\n",
       "      <td>0.000000</td>\n",
       "      <td>0.826113</td>\n",
       "      <td>7.375000e+03</td>\n",
       "      <td>11.000000</td>\n",
       "      <td>0.000000</td>\n",
       "      <td>2.000000</td>\n",
       "      <td>0.000000</td>\n",
       "      <td>1.000000</td>\n",
       "    </tr>\n",
       "    <tr>\n",
       "      <th>max</th>\n",
       "      <td>1.000000</td>\n",
       "      <td>50708.000000</td>\n",
       "      <td>109.000000</td>\n",
       "      <td>13.000000</td>\n",
       "      <td>329664.000000</td>\n",
       "      <td>3.008750e+06</td>\n",
       "      <td>57.000000</td>\n",
       "      <td>17.000000</td>\n",
       "      <td>25.000000</td>\n",
       "      <td>11.000000</td>\n",
       "      <td>10.000000</td>\n",
       "    </tr>\n",
       "  </tbody>\n",
       "</table>\n",
       "</div>"
      ],
      "text/plain": [
       "       serious_dlqin2yrs  revolving_utilization_of_unsecured_lines  \\\n",
       "count      145061.000000                             145061.000000   \n",
       "mean            0.055466                                  5.547413   \n",
       "std             0.228889                                242.079604   \n",
       "min             0.000000                                  0.000000   \n",
       "25%             0.000000                                  0.028597   \n",
       "50%             0.000000                                  0.144521   \n",
       "75%             0.000000                                  0.527667   \n",
       "max             1.000000                              50708.000000   \n",
       "\n",
       "                 age  number_of_time30-59_days_past_due_not_worse  \\\n",
       "count  145061.000000                                145061.000000   \n",
       "mean       52.425262                                     0.197158   \n",
       "std        14.844237                                     0.603047   \n",
       "min        21.000000                                     0.000000   \n",
       "25%        41.000000                                     0.000000   \n",
       "50%        52.000000                                     0.000000   \n",
       "75%        63.000000                                     0.000000   \n",
       "max       109.000000                                    13.000000   \n",
       "\n",
       "          debt_ratio  monthly_income  number_of_open_credit_lines_and_loans  \\\n",
       "count  145061.000000    1.450610e+05                          145061.000000   \n",
       "mean      338.511789    6.593925e+03                               8.401583   \n",
       "std      2032.229250    1.263117e+04                               5.036792   \n",
       "min         0.000000    0.000000e+00                               0.000000   \n",
       "25%         0.171971    3.900000e+03                               5.000000   \n",
       "50%         0.361836    6.507000e+03                               8.000000   \n",
       "75%         0.826113    7.375000e+03                              11.000000   \n",
       "max    329664.000000    3.008750e+06                              57.000000   \n",
       "\n",
       "       number_of_times90_days_late  number_real_estate_loans_or_lines  \\\n",
       "count                145061.000000                      145061.000000   \n",
       "mean                      0.055377                           0.999903   \n",
       "std                       0.363150                           1.042804   \n",
       "min                       0.000000                           0.000000   \n",
       "25%                       0.000000                           0.000000   \n",
       "50%                       0.000000                           1.000000   \n",
       "75%                       0.000000                           2.000000   \n",
       "max                      17.000000                          25.000000   \n",
       "\n",
       "       number_of_time60-89_days_past_due_not_worse  number_of_dependents  \n",
       "count                                145061.000000         145061.000000  \n",
       "mean                                      0.036405              0.711321  \n",
       "std                                       0.230585              1.076328  \n",
       "min                                       0.000000              0.000000  \n",
       "25%                                       0.000000              0.000000  \n",
       "50%                                       0.000000              0.000000  \n",
       "75%                                       0.000000              1.000000  \n",
       "max                                      11.000000             10.000000  "
      ]
     },
     "execution_count": 44,
     "metadata": {},
     "output_type": "execute_result"
    }
   ],
   "source": [
    "borrowers_with_mean.describe()"
   ]
  },
  {
   "cell_type": "code",
   "execution_count": 45,
   "metadata": {},
   "outputs": [
    {
     "data": {
      "image/png": "[encoded data removed]",
      "text/plain": [
       "<Figure size 432x288 with 1 Axes>"
      ]
     },
     "metadata": {},
     "output_type": "display_data"
    }
   ],
   "source": [
    "sns.boxplot(x='revolving_utilization_of_unsecured_lines', data=borrowers_with_mean, color='#1ABC9C')\n",
    "sns.despine()"
   ]
  },
  {
   "cell_type": "code",
   "execution_count": 46,
   "metadata": {},
   "outputs": [
    {
     "data": {
      "image/png": "[encoded data removed]",
      "text/plain": [
       "<Figure size 432x288 with 1 Axes>"
      ]
     },
     "metadata": {},
     "output_type": "display_data"
    }
   ],
   "source": [
    "sns.boxplot(x='debt_ratio', data=borrowers_with_mean, color='#1ABC9C')\n",
    "sns.despine()"
   ]
  },
  {
   "cell_type": "code",
   "execution_count": 47,
   "metadata": {},
   "outputs": [
    {
     "data": {
      "image/png": "[encoded data removed]",
      "text/plain": [
       "<Figure size 432x288 with 1 Axes>"
      ]
     },
     "metadata": {},
     "output_type": "display_data"
    }
   ],
   "source": [
    "sns.boxplot(x='monthly_income', data=borrowers_with_mean, color='#1ABC9C')\n",
    "sns.despine()"
   ]
  },
  {
   "cell_type": "markdown",
   "metadata": {},
   "source": [
    "**Although the standard deviation of the three variables that had the highest standard deviation decreased, they still have outliers.<br>\n",
    "Try with z-score function.**"
   ]
  },
  {
   "cell_type": "code",
   "execution_count": 48,
   "metadata": {},
   "outputs": [],
   "source": [
    "def my_zscore(df, attribute, threshold):\n",
    "    z = stats.zscore(np.array(df[attribute]))\n",
    "    z_index = df[attribute][np.abs(z) < threshold].index\n",
    "    return df.loc[z_index]"
   ]
  },
  {
   "cell_type": "code",
   "execution_count": 51,
   "metadata": {},
   "outputs": [
    {
     "data": {
      "image/png": "[encoded data removed]",
      "text/plain": [
       "<Figure size 432x288 with 1 Axes>"
      ]
     },
     "metadata": {},
     "output_type": "display_data"
    }
   ],
   "source": [
    "borrowers_with_mean = my_zscore(borrowers_with_mean, 'revolving_utilization_of_unsecured_lines', 3)\n",
    "sns.boxplot(x='revolving_utilization_of_unsecured_lines', data=borrowers_with_mean, color='#1ABC9C')\n",
    "sns.despine()\n",
    "# ver porqué el bloxplot queda sin outliers recién luego de ejecutada varias veces la función"
   ]
  },
  {
   "cell_type": "code",
   "execution_count": 52,
   "metadata": {},
   "outputs": [
    {
     "data": {
      "image/png": "[encoded data removed]",
      "text/plain": [
       "<Figure size 432x288 with 1 Axes>"
      ]
     },
     "metadata": {},
     "output_type": "display_data"
    }
   ],
   "source": [
    "borrowers_with_mean=my_zscore(borrowers_with_mean,'debt_ratio', 3)\n",
    "sns.boxplot(x='debt_ratio', data=borrowers_with_mean, color='#1ABC9C')\n",
    "sns.despine()\n",
    "# ver porqué el bloxplot queda sin outliers luego de ejecutada varias veces la función"
   ]
  },
  {
   "cell_type": "code",
   "execution_count": 49,
   "metadata": {},
   "outputs": [
    {
     "data": {
      "image/png": "[encoded data removed]",
      "text/plain": [
       "<Figure size 432x288 with 1 Axes>"
      ]
     },
     "metadata": {},
     "output_type": "display_data"
    }
   ],
   "source": [
    "borrowers_with_mean = my_zscore(borrowers_with_mean,'monthly_income', 3)\n",
    "sns.boxplot(x='monthly_income', data=borrowers_with_mean, color='#1ABC9C')\n",
    "sns.despine()\n",
    "# ver porqué el bloxplot queda sin outliers luego de ejecutada varias veces la función"
   ]
  },
  {
   "cell_type": "code",
   "execution_count": null,
   "metadata": {},
   "outputs": [],
   "source": [
    "borrowers_with_mean.shape"
   ]
  },
  {
   "cell_type": "code",
   "execution_count": 53,
   "metadata": {},
   "outputs": [
    {
     "data": {
      "text/html": [
       "<div>\n",
       "<style scoped>\n",
       "    .dataframe tbody tr th:only-of-type {\n",
       "        vertical-align: middle;\n",
       "    }\n",
       "\n",
       "    .dataframe tbody tr th {\n",
       "        vertical-align: top;\n",
       "    }\n",
       "\n",
       "    .dataframe thead th {\n",
       "        text-align: right;\n",
       "    }\n",
       "</style>\n",
       "<table border=\"1\" class=\"dataframe\">\n",
       "  <thead>\n",
       "    <tr style=\"text-align: right;\">\n",
       "      <th></th>\n",
       "      <th>serious_dlqin2yrs</th>\n",
       "      <th>revolving_utilization_of_unsecured_lines</th>\n",
       "      <th>age</th>\n",
       "      <th>number_of_time30-59_days_past_due_not_worse</th>\n",
       "      <th>debt_ratio</th>\n",
       "      <th>monthly_income</th>\n",
       "      <th>number_of_open_credit_lines_and_loans</th>\n",
       "      <th>number_of_times90_days_late</th>\n",
       "      <th>number_real_estate_loans_or_lines</th>\n",
       "      <th>number_of_time60-89_days_past_due_not_worse</th>\n",
       "      <th>number_of_dependents</th>\n",
       "    </tr>\n",
       "  </thead>\n",
       "  <tbody>\n",
       "    <tr>\n",
       "      <th>count</th>\n",
       "      <td>144006.000000</td>\n",
       "      <td>144006.000000</td>\n",
       "      <td>144006.000000</td>\n",
       "      <td>144006.000000</td>\n",
       "      <td>144006.000000</td>\n",
       "      <td>144006.000000</td>\n",
       "      <td>144006.000000</td>\n",
       "      <td>144006.000000</td>\n",
       "      <td>144006.000000</td>\n",
       "      <td>144006.000000</td>\n",
       "      <td>144006.000000</td>\n",
       "    </tr>\n",
       "    <tr>\n",
       "      <th>mean</th>\n",
       "      <td>0.055512</td>\n",
       "      <td>0.388714</td>\n",
       "      <td>52.417358</td>\n",
       "      <td>0.197381</td>\n",
       "      <td>290.750699</td>\n",
       "      <td>6358.631710</td>\n",
       "      <td>8.384116</td>\n",
       "      <td>0.055720</td>\n",
       "      <td>0.989709</td>\n",
       "      <td>0.036582</td>\n",
       "      <td>0.711429</td>\n",
       "    </tr>\n",
       "    <tr>\n",
       "      <th>std</th>\n",
       "      <td>0.228977</td>\n",
       "      <td>6.149341</td>\n",
       "      <td>14.864049</td>\n",
       "      <td>0.603208</td>\n",
       "      <td>861.705294</td>\n",
       "      <td>3948.880827</td>\n",
       "      <td>5.027249</td>\n",
       "      <td>0.364351</td>\n",
       "      <td>1.026609</td>\n",
       "      <td>0.231226</td>\n",
       "      <td>1.076273</td>\n",
       "    </tr>\n",
       "    <tr>\n",
       "      <th>min</th>\n",
       "      <td>0.000000</td>\n",
       "      <td>0.000000</td>\n",
       "      <td>21.000000</td>\n",
       "      <td>0.000000</td>\n",
       "      <td>0.000000</td>\n",
       "      <td>0.000000</td>\n",
       "      <td>0.000000</td>\n",
       "      <td>0.000000</td>\n",
       "      <td>0.000000</td>\n",
       "      <td>0.000000</td>\n",
       "      <td>0.000000</td>\n",
       "    </tr>\n",
       "    <tr>\n",
       "      <th>25%</th>\n",
       "      <td>0.000000</td>\n",
       "      <td>0.028518</td>\n",
       "      <td>41.000000</td>\n",
       "      <td>0.000000</td>\n",
       "      <td>0.172178</td>\n",
       "      <td>3885.000000</td>\n",
       "      <td>5.000000</td>\n",
       "      <td>0.000000</td>\n",
       "      <td>0.000000</td>\n",
       "      <td>0.000000</td>\n",
       "      <td>0.000000</td>\n",
       "    </tr>\n",
       "    <tr>\n",
       "      <th>50%</th>\n",
       "      <td>0.000000</td>\n",
       "      <td>0.143765</td>\n",
       "      <td>52.000000</td>\n",
       "      <td>0.000000</td>\n",
       "      <td>0.361039</td>\n",
       "      <td>6500.000000</td>\n",
       "      <td>8.000000</td>\n",
       "      <td>0.000000</td>\n",
       "      <td>1.000000</td>\n",
       "      <td>0.000000</td>\n",
       "      <td>0.000000</td>\n",
       "    </tr>\n",
       "    <tr>\n",
       "      <th>75%</th>\n",
       "      <td>0.000000</td>\n",
       "      <td>0.525581</td>\n",
       "      <td>63.000000</td>\n",
       "      <td>0.000000</td>\n",
       "      <td>0.811555</td>\n",
       "      <td>7350.000000</td>\n",
       "      <td>11.000000</td>\n",
       "      <td>0.000000</td>\n",
       "      <td>2.000000</td>\n",
       "      <td>0.000000</td>\n",
       "      <td>1.000000</td>\n",
       "    </tr>\n",
       "    <tr>\n",
       "      <th>max</th>\n",
       "      <td>1.000000</td>\n",
       "      <td>717.000000</td>\n",
       "      <td>109.000000</td>\n",
       "      <td>13.000000</td>\n",
       "      <td>6438.000000</td>\n",
       "      <td>44395.000000</td>\n",
       "      <td>57.000000</td>\n",
       "      <td>17.000000</td>\n",
       "      <td>25.000000</td>\n",
       "      <td>11.000000</td>\n",
       "      <td>10.000000</td>\n",
       "    </tr>\n",
       "  </tbody>\n",
       "</table>\n",
       "</div>"
      ],
      "text/plain": [
       "       serious_dlqin2yrs  revolving_utilization_of_unsecured_lines  \\\n",
       "count      144006.000000                             144006.000000   \n",
       "mean            0.055512                                  0.388714   \n",
       "std             0.228977                                  6.149341   \n",
       "min             0.000000                                  0.000000   \n",
       "25%             0.000000                                  0.028518   \n",
       "50%             0.000000                                  0.143765   \n",
       "75%             0.000000                                  0.525581   \n",
       "max             1.000000                                717.000000   \n",
       "\n",
       "                 age  number_of_time30-59_days_past_due_not_worse  \\\n",
       "count  144006.000000                                144006.000000   \n",
       "mean       52.417358                                     0.197381   \n",
       "std        14.864049                                     0.603208   \n",
       "min        21.000000                                     0.000000   \n",
       "25%        41.000000                                     0.000000   \n",
       "50%        52.000000                                     0.000000   \n",
       "75%        63.000000                                     0.000000   \n",
       "max       109.000000                                    13.000000   \n",
       "\n",
       "          debt_ratio  monthly_income  number_of_open_credit_lines_and_loans  \\\n",
       "count  144006.000000   144006.000000                          144006.000000   \n",
       "mean      290.750699     6358.631710                               8.384116   \n",
       "std       861.705294     3948.880827                               5.027249   \n",
       "min         0.000000        0.000000                               0.000000   \n",
       "25%         0.172178     3885.000000                               5.000000   \n",
       "50%         0.361039     6500.000000                               8.000000   \n",
       "75%         0.811555     7350.000000                              11.000000   \n",
       "max      6438.000000    44395.000000                              57.000000   \n",
       "\n",
       "       number_of_times90_days_late  number_real_estate_loans_or_lines  \\\n",
       "count                144006.000000                      144006.000000   \n",
       "mean                      0.055720                           0.989709   \n",
       "std                       0.364351                           1.026609   \n",
       "min                       0.000000                           0.000000   \n",
       "25%                       0.000000                           0.000000   \n",
       "50%                       0.000000                           1.000000   \n",
       "75%                       0.000000                           2.000000   \n",
       "max                      17.000000                          25.000000   \n",
       "\n",
       "       number_of_time60-89_days_past_due_not_worse  number_of_dependents  \n",
       "count                                144006.000000         144006.000000  \n",
       "mean                                      0.036582              0.711429  \n",
       "std                                       0.231226              1.076273  \n",
       "min                                       0.000000              0.000000  \n",
       "25%                                       0.000000              0.000000  \n",
       "50%                                       0.000000              0.000000  \n",
       "75%                                       0.000000              1.000000  \n",
       "max                                      11.000000             10.000000  "
      ]
     },
     "execution_count": 53,
     "metadata": {},
     "output_type": "execute_result"
    }
   ],
   "source": [
    "borrowers_with_mean.describe()"
   ]
  },
  {
   "cell_type": "code",
   "execution_count": 54,
   "metadata": {},
   "outputs": [
    {
     "data": {
      "text/plain": [
       "0    94.448842\n",
       "1     5.551158\n",
       "Name: serious_dlqin2yrs, dtype: float64"
      ]
     },
     "execution_count": 54,
     "metadata": {},
     "output_type": "execute_result"
    }
   ],
   "source": [
    "target_len = len(borrowers_with_mean['serious_dlqin2yrs'])\n",
    "percentage_var = (borrowers_with_mean['serious_dlqin2yrs'].value_counts()/target_len)*100\n",
    "percentage_var"
   ]
  },
  {
   "cell_type": "markdown",
   "metadata": {},
   "source": [
    "**Try with other way** "
   ]
  },
  {
   "cell_type": "markdown",
   "metadata": {},
   "source": [
    "**`debt_ratio` attribute outliers delete.**"
   ]
  },
  {
   "cell_type": "code",
   "execution_count": 55,
   "metadata": {},
   "outputs": [],
   "source": [
    "def mad_based_outlier(points, threshold=3.5):\n",
    "    median_y = np.median(points)\n",
    "    median_absolute_deviation_y = np.median([np.abs(y - median_y) for y in points])\n",
    "    modified_z_scores = [0.6745 * (y - median_y) / median_absolute_deviation_y\n",
    "                         for y in points]\n",
    "\n",
    "    return np.abs(modified_z_scores) > threshold"
   ]
  },
  {
   "cell_type": "code",
   "execution_count": 56,
   "metadata": {},
   "outputs": [],
   "source": [
    "minUpperBound = min([val for (val, out) in zip(borrowers_with_mean.debt_ratio, mad_based_outlier(borrowers_with_mean.debt_ratio)) if out == True])"
   ]
  },
  {
   "cell_type": "code",
   "execution_count": 57,
   "metadata": {},
   "outputs": [
    {
     "data": {
      "text/plain": [
       "1.604697651"
      ]
     },
     "execution_count": 57,
     "metadata": {},
     "output_type": "execute_result"
    }
   ],
   "source": [
    "minUpperBound"
   ]
  },
  {
   "cell_type": "code",
   "execution_count": 58,
   "metadata": {},
   "outputs": [],
   "source": [
    "newDebtRatio = []\n",
    "for val in borrowers_with_mean.debt_ratio:\n",
    "    if val >= minUpperBound:\n",
    "        newDebtRatio.append(minUpperBound)\n",
    "    else:\n",
    "        newDebtRatio.append(val)\n",
    "\n",
    "borrowers_with_mean.debt_ratio = newDebtRatio"
   ]
  },
  {
   "cell_type": "code",
   "execution_count": 59,
   "metadata": {},
   "outputs": [
    {
     "data": {
      "text/plain": [
       "(144006, 11)"
      ]
     },
     "execution_count": 59,
     "metadata": {},
     "output_type": "execute_result"
    }
   ],
   "source": [
    "borrowers_with_mean.shape"
   ]
  },
  {
   "cell_type": "code",
   "execution_count": 60,
   "metadata": {},
   "outputs": [
    {
     "data": {
      "image/png": "[encoded data removed]",
      "text/plain": [
       "<Figure size 432x288 with 1 Axes>"
      ]
     },
     "metadata": {},
     "output_type": "display_data"
    }
   ],
   "source": [
    "sns.boxplot(x='debt_ratio', data=borrowers_with_mean, color='#1ABC9C')\n",
    "sns.despine()\n",
    "# ver porqué el bloxplot queda sin outliers luego de ejecutada varias veces la función"
   ]
  },
  {
   "cell_type": "code",
   "execution_count": 130,
   "metadata": {},
   "outputs": [
    {
     "data": {
      "image/png": "[encoded data removed]",
      "text/plain": [
       "<Figure size 432x288 with 1 Axes>"
      ]
     },
     "metadata": {},
     "output_type": "display_data"
    }
   ],
   "source": [
    "histograma(borrowers_with_mean['debt_ratio'], color=\"#cf7c17\")"
   ]
  },
  {
   "cell_type": "markdown",
   "metadata": {},
   "source": [
    "**Obervation:**\n",
    "<br><br>\n",
    "It can be observed that the variable `debt_ratio` no longer has outliers.\n",
    "<br><br>"
   ]
  },
  {
   "cell_type": "markdown",
   "metadata": {},
   "source": [
    "**`monthly_income` attribute outliers delete.**"
   ]
  },
  {
   "cell_type": "markdown",
   "metadata": {},
   "source": [
    "Discretize variable into equal-sized buckets based on rank or based on sample quantiles."
   ]
  },
  {
   "cell_type": "code",
   "execution_count": 63,
   "metadata": {},
   "outputs": [],
   "source": [
    "borrowers_with_mean['monthly_income_bin'] = pd.qcut(borrowers_with_mean.monthly_income.values, 5).codes"
   ]
  },
  {
   "cell_type": "code",
   "execution_count": 64,
   "metadata": {},
   "outputs": [
    {
     "data": {
      "text/plain": [
       "(144006, 12)"
      ]
     },
     "execution_count": 64,
     "metadata": {},
     "output_type": "execute_result"
    }
   ],
   "source": [
    "borrowers_with_mean.shape"
   ]
  },
  {
   "cell_type": "code",
   "execution_count": 68,
   "metadata": {},
   "outputs": [
    {
     "data": {
      "text/plain": [
       "Counter({4: 28642, 0: 28802, 1: 28801, 2: 44100, 3: 13661})"
      ]
     },
     "execution_count": 68,
     "metadata": {},
     "output_type": "execute_result"
    }
   ],
   "source": [
    "collections.Counter(borrowers_with_mean['monthly_income_bin'])"
   ]
  },
  {
   "cell_type": "code",
   "execution_count": 69,
   "metadata": {},
   "outputs": [
    {
     "data": {
      "image/png": "[encoded data removed]",
      "text/plain": [
       "<Figure size 432x288 with 1 Axes>"
      ]
     },
     "metadata": {},
     "output_type": "display_data"
    }
   ],
   "source": [
    "sns.boxplot(x='monthly_income', data=borrowers_with_mean, color='#1ABC9C')\n",
    "sns.despine()"
   ]
  },
  {
   "cell_type": "code",
   "execution_count": 72,
   "metadata": {},
   "outputs": [
    {
     "data": {
      "image/png": "[encoded data removed]",
      "text/plain": [
       "<Figure size 432x288 with 1 Axes>"
      ]
     },
     "metadata": {},
     "output_type": "display_data"
    }
   ],
   "source": [
    "sns.distplot(borrowers_with_mean['monthly_income'], color='#1ABC9C', label='monthly_income')\n",
    "plt.xlabel('monthly_income', size=14)\n",
    "plt.legend()\n",
    "sns.despine()"
   ]
  },
  {
   "cell_type": "code",
   "execution_count": 73,
   "metadata": {},
   "outputs": [],
   "source": [
    "minUpperBound = min([val for (val, out) in zip(borrowers_with_mean.monthly_income, mad_based_outlier(borrowers_with_mean.monthly_income)) if out == True])"
   ]
  },
  {
   "cell_type": "code",
   "execution_count": 74,
   "metadata": {},
   "outputs": [
    {
     "data": {
      "text/plain": [
       "16880.0"
      ]
     },
     "execution_count": 74,
     "metadata": {},
     "output_type": "execute_result"
    }
   ],
   "source": [
    "minUpperBound"
   ]
  },
  {
   "cell_type": "code",
   "execution_count": 75,
   "metadata": {},
   "outputs": [],
   "source": [
    "new_monthly_income = []\n",
    "for val in borrowers_with_mean.monthly_income:\n",
    "    if val >= minUpperBound:\n",
    "        new_monthly_income.append(minUpperBound)\n",
    "    else:\n",
    "        new_monthly_income.append(val)"
   ]
  },
  {
   "cell_type": "code",
   "execution_count": 76,
   "metadata": {},
   "outputs": [],
   "source": [
    "borrowers_with_mean.monthly_income = new_monthly_income"
   ]
  },
  {
   "cell_type": "code",
   "execution_count": 77,
   "metadata": {},
   "outputs": [
    {
     "data": {
      "image/png": "[encoded data removed]",
      "text/plain": [
       "<Figure size 432x288 with 1 Axes>"
      ]
     },
     "metadata": {},
     "output_type": "display_data"
    }
   ],
   "source": [
    "sns.boxplot(x='monthly_income', data=borrowers_with_mean, color='#1ABC9C')\n",
    "sns.despine()"
   ]
  },
  {
   "cell_type": "code",
   "execution_count": 78,
   "metadata": {},
   "outputs": [
    {
     "data": {
      "text/plain": [
       "count    144006.000000\n",
       "mean       6238.059699\n",
       "std        3399.965586\n",
       "min           0.000000\n",
       "25%        3885.000000\n",
       "50%        6500.000000\n",
       "75%        7350.000000\n",
       "max       16880.000000\n",
       "Name: monthly_income, dtype: float64"
      ]
     },
     "execution_count": 78,
     "metadata": {},
     "output_type": "execute_result"
    }
   ],
   "source": [
    "borrowers_with_mean['monthly_income'].describe()"
   ]
  },
  {
   "cell_type": "markdown",
   "metadata": {},
   "source": [
    "**Obervation:**\n",
    "<br><br>\n",
    "It can be observed that the variable `monthly_income` considerably reduced the number of outliers.\n",
    "<br><br>"
   ]
  },
  {
   "cell_type": "markdown",
   "metadata": {},
   "source": [
    "**`revolving_utilization_of_unsecured_lines` attribute outliers delete.**"
   ]
  },
  {
   "cell_type": "code",
   "execution_count": 79,
   "metadata": {},
   "outputs": [],
   "source": [
    "revNew = []\n",
    "borrowers_with_mean['revolving_utilization_of_unsecured_lines']\n",
    "for val in borrowers_with_mean['revolving_utilization_of_unsecured_lines']:\n",
    "    if val <= 0.99999:\n",
    "        revNew.append(val)\n",
    "    else:\n",
    "        revNew.append(0.99999)\n",
    "borrowers_with_mean['revolving_utilization_of_unsecured_lines'] = revNew"
   ]
  },
  {
   "cell_type": "code",
   "execution_count": null,
   "metadata": {},
   "outputs": [],
   "source": [
    "borrowers_with_mean.shape"
   ]
  },
  {
   "cell_type": "code",
   "execution_count": 80,
   "metadata": {},
   "outputs": [
    {
     "data": {
      "image/png": "[encoded data removed]",
      "text/plain": [
       "<Figure size 432x288 with 1 Axes>"
      ]
     },
     "metadata": {},
     "output_type": "display_data"
    }
   ],
   "source": [
    "sns.boxplot(x='revolving_utilization_of_unsecured_lines', data=borrowers_with_mean, color='#1ABC9C')\n",
    "sns.despine()"
   ]
  },
  {
   "cell_type": "markdown",
   "metadata": {},
   "source": [
    "**Obervation:**\n",
    "<br><br>\n",
    "It can be observed that the variable `revolving_utilization_of_unsecured_lines` no longer has outliers.\n",
    "<br><br>"
   ]
  },
  {
   "cell_type": "code",
   "execution_count": 81,
   "metadata": {},
   "outputs": [
    {
     "data": {
      "text/html": [
       "<div>\n",
       "<style scoped>\n",
       "    .dataframe tbody tr th:only-of-type {\n",
       "        vertical-align: middle;\n",
       "    }\n",
       "\n",
       "    .dataframe tbody tr th {\n",
       "        vertical-align: top;\n",
       "    }\n",
       "\n",
       "    .dataframe thead th {\n",
       "        text-align: right;\n",
       "    }\n",
       "</style>\n",
       "<table border=\"1\" class=\"dataframe\">\n",
       "  <thead>\n",
       "    <tr style=\"text-align: right;\">\n",
       "      <th></th>\n",
       "      <th>serious_dlqin2yrs</th>\n",
       "      <th>revolving_utilization_of_unsecured_lines</th>\n",
       "      <th>age</th>\n",
       "      <th>number_of_time30-59_days_past_due_not_worse</th>\n",
       "      <th>debt_ratio</th>\n",
       "      <th>monthly_income</th>\n",
       "      <th>number_of_open_credit_lines_and_loans</th>\n",
       "      <th>number_of_times90_days_late</th>\n",
       "      <th>number_real_estate_loans_or_lines</th>\n",
       "      <th>number_of_time60-89_days_past_due_not_worse</th>\n",
       "      <th>number_of_dependents</th>\n",
       "      <th>monthly_income_bin</th>\n",
       "    </tr>\n",
       "  </thead>\n",
       "  <tbody>\n",
       "    <tr>\n",
       "      <th>count</th>\n",
       "      <td>144006.000000</td>\n",
       "      <td>144006.000000</td>\n",
       "      <td>144006.000000</td>\n",
       "      <td>144006.000000</td>\n",
       "      <td>144006.000000</td>\n",
       "      <td>144006.000000</td>\n",
       "      <td>144006.000000</td>\n",
       "      <td>144006.000000</td>\n",
       "      <td>144006.000000</td>\n",
       "      <td>144006.000000</td>\n",
       "      <td>144006.000000</td>\n",
       "      <td>144006.000000</td>\n",
       "    </tr>\n",
       "    <tr>\n",
       "      <th>mean</th>\n",
       "      <td>0.055512</td>\n",
       "      <td>0.306820</td>\n",
       "      <td>52.417358</td>\n",
       "      <td>0.197381</td>\n",
       "      <td>0.587775</td>\n",
       "      <td>6238.059699</td>\n",
       "      <td>8.384116</td>\n",
       "      <td>0.055720</td>\n",
       "      <td>0.989709</td>\n",
       "      <td>0.036582</td>\n",
       "      <td>0.711429</td>\n",
       "      <td>1.892643</td>\n",
       "    </tr>\n",
       "    <tr>\n",
       "      <th>std</th>\n",
       "      <td>0.228977</td>\n",
       "      <td>0.342482</td>\n",
       "      <td>14.864049</td>\n",
       "      <td>0.603208</td>\n",
       "      <td>0.568141</td>\n",
       "      <td>3399.965586</td>\n",
       "      <td>5.027249</td>\n",
       "      <td>0.364351</td>\n",
       "      <td>1.026609</td>\n",
       "      <td>0.231226</td>\n",
       "      <td>1.076273</td>\n",
       "      <td>1.370748</td>\n",
       "    </tr>\n",
       "    <tr>\n",
       "      <th>min</th>\n",
       "      <td>0.000000</td>\n",
       "      <td>0.000000</td>\n",
       "      <td>21.000000</td>\n",
       "      <td>0.000000</td>\n",
       "      <td>0.000000</td>\n",
       "      <td>0.000000</td>\n",
       "      <td>0.000000</td>\n",
       "      <td>0.000000</td>\n",
       "      <td>0.000000</td>\n",
       "      <td>0.000000</td>\n",
       "      <td>0.000000</td>\n",
       "      <td>0.000000</td>\n",
       "    </tr>\n",
       "    <tr>\n",
       "      <th>25%</th>\n",
       "      <td>0.000000</td>\n",
       "      <td>0.028518</td>\n",
       "      <td>41.000000</td>\n",
       "      <td>0.000000</td>\n",
       "      <td>0.172178</td>\n",
       "      <td>3885.000000</td>\n",
       "      <td>5.000000</td>\n",
       "      <td>0.000000</td>\n",
       "      <td>0.000000</td>\n",
       "      <td>0.000000</td>\n",
       "      <td>0.000000</td>\n",
       "      <td>1.000000</td>\n",
       "    </tr>\n",
       "    <tr>\n",
       "      <th>50%</th>\n",
       "      <td>0.000000</td>\n",
       "      <td>0.143765</td>\n",
       "      <td>52.000000</td>\n",
       "      <td>0.000000</td>\n",
       "      <td>0.361039</td>\n",
       "      <td>6500.000000</td>\n",
       "      <td>8.000000</td>\n",
       "      <td>0.000000</td>\n",
       "      <td>1.000000</td>\n",
       "      <td>0.000000</td>\n",
       "      <td>0.000000</td>\n",
       "      <td>2.000000</td>\n",
       "    </tr>\n",
       "    <tr>\n",
       "      <th>75%</th>\n",
       "      <td>0.000000</td>\n",
       "      <td>0.525581</td>\n",
       "      <td>63.000000</td>\n",
       "      <td>0.000000</td>\n",
       "      <td>0.811555</td>\n",
       "      <td>7350.000000</td>\n",
       "      <td>11.000000</td>\n",
       "      <td>0.000000</td>\n",
       "      <td>2.000000</td>\n",
       "      <td>0.000000</td>\n",
       "      <td>1.000000</td>\n",
       "      <td>3.000000</td>\n",
       "    </tr>\n",
       "    <tr>\n",
       "      <th>max</th>\n",
       "      <td>1.000000</td>\n",
       "      <td>0.999990</td>\n",
       "      <td>109.000000</td>\n",
       "      <td>13.000000</td>\n",
       "      <td>1.604698</td>\n",
       "      <td>16880.000000</td>\n",
       "      <td>57.000000</td>\n",
       "      <td>17.000000</td>\n",
       "      <td>25.000000</td>\n",
       "      <td>11.000000</td>\n",
       "      <td>10.000000</td>\n",
       "      <td>4.000000</td>\n",
       "    </tr>\n",
       "  </tbody>\n",
       "</table>\n",
       "</div>"
      ],
      "text/plain": [
       "       serious_dlqin2yrs  revolving_utilization_of_unsecured_lines  \\\n",
       "count      144006.000000                             144006.000000   \n",
       "mean            0.055512                                  0.306820   \n",
       "std             0.228977                                  0.342482   \n",
       "min             0.000000                                  0.000000   \n",
       "25%             0.000000                                  0.028518   \n",
       "50%             0.000000                                  0.143765   \n",
       "75%             0.000000                                  0.525581   \n",
       "max             1.000000                                  0.999990   \n",
       "\n",
       "                 age  number_of_time30-59_days_past_due_not_worse  \\\n",
       "count  144006.000000                                144006.000000   \n",
       "mean       52.417358                                     0.197381   \n",
       "std        14.864049                                     0.603208   \n",
       "min        21.000000                                     0.000000   \n",
       "25%        41.000000                                     0.000000   \n",
       "50%        52.000000                                     0.000000   \n",
       "75%        63.000000                                     0.000000   \n",
       "max       109.000000                                    13.000000   \n",
       "\n",
       "          debt_ratio  monthly_income  number_of_open_credit_lines_and_loans  \\\n",
       "count  144006.000000   144006.000000                          144006.000000   \n",
       "mean        0.587775     6238.059699                               8.384116   \n",
       "std         0.568141     3399.965586                               5.027249   \n",
       "min         0.000000        0.000000                               0.000000   \n",
       "25%         0.172178     3885.000000                               5.000000   \n",
       "50%         0.361039     6500.000000                               8.000000   \n",
       "75%         0.811555     7350.000000                              11.000000   \n",
       "max         1.604698    16880.000000                              57.000000   \n",
       "\n",
       "       number_of_times90_days_late  number_real_estate_loans_or_lines  \\\n",
       "count                144006.000000                      144006.000000   \n",
       "mean                      0.055720                           0.989709   \n",
       "std                       0.364351                           1.026609   \n",
       "min                       0.000000                           0.000000   \n",
       "25%                       0.000000                           0.000000   \n",
       "50%                       0.000000                           1.000000   \n",
       "75%                       0.000000                           2.000000   \n",
       "max                      17.000000                          25.000000   \n",
       "\n",
       "       number_of_time60-89_days_past_due_not_worse  number_of_dependents  \\\n",
       "count                                144006.000000         144006.000000   \n",
       "mean                                      0.036582              0.711429   \n",
       "std                                       0.231226              1.076273   \n",
       "min                                       0.000000              0.000000   \n",
       "25%                                       0.000000              0.000000   \n",
       "50%                                       0.000000              0.000000   \n",
       "75%                                       0.000000              1.000000   \n",
       "max                                      11.000000             10.000000   \n",
       "\n",
       "       monthly_income_bin  \n",
       "count       144006.000000  \n",
       "mean             1.892643  \n",
       "std              1.370748  \n",
       "min              0.000000  \n",
       "25%              1.000000  \n",
       "50%              2.000000  \n",
       "75%              3.000000  \n",
       "max              4.000000  "
      ]
     },
     "execution_count": 81,
     "metadata": {},
     "output_type": "execute_result"
    }
   ],
   "source": [
    "borrowers_with_mean.describe()"
   ]
  },
  {
   "cell_type": "markdown",
   "metadata": {},
   "source": [
    "**OPEN POINT: Variable Binning**"
   ]
  },
  {
   "cell_type": "markdown",
   "metadata": {},
   "source": [
    "- Age: Age Binning containing bins for age group\n",
    "\n",
    "| Age Group | Bin | \n",
    "| --- | --- |\n",
    "| 21-30 | 1 |\n",
    "| 31-40 | 2 |\n",
    "| 41-50 | 3 |\n",
    "| 51-60 | 4 |\n",
    "| > 60 | 5 |\n",
    "\n",
    "\n",
    "- DebtRatio & RevolvingUtilizationOfUnsecuredLines: Created variables DebtRatio_Binning and RevolvingUtilizationOfUnsecuredLines_Binning with following cut off values:\n",
    "\n",
    "| Group | Bin | Remark |\n",
    "| --- | --- |  --- |\n",
    "| <=0.25  | 1 |  Good |\n",
    "| 0.25 - 0.50  | 2 |  Low Risk |\n",
    "| > 0.50 | 3 |  High Risk |\n",
    "\n",
    "\n",
    "- MonthlyIncome: Variable MonthlyIncome_Binning with 5 equal width bins"
   ]
  },
  {
   "cell_type": "code",
   "execution_count": null,
   "metadata": {},
   "outputs": [],
   "source": []
  },
  {
   "cell_type": "code",
   "execution_count": null,
   "metadata": {},
   "outputs": [],
   "source": []
  },
  {
   "cell_type": "markdown",
   "metadata": {},
   "source": [
    "### Exploratory Analysis"
   ]
  },
  {
   "cell_type": "markdown",
   "metadata": {},
   "source": [
    "### Delinquency over different categories"
   ]
  },
  {
   "cell_type": "markdown",
   "metadata": {},
   "source": [
    "**a) Age**"
   ]
  },
  {
   "cell_type": "code",
   "execution_count": 123,
   "metadata": {},
   "outputs": [
    {
     "data": {
      "image/png": "[encoded data removed]",
      "text/plain": [
       "<Figure size 432x288 with 1 Axes>"
      ]
     },
     "metadata": {},
     "output_type": "display_data"
    }
   ],
   "source": [
    "histograma(borrowers_with_mean['age'], color=\"#cf7c17\")"
   ]
  },
  {
   "cell_type": "code",
   "execution_count": 83,
   "metadata": {},
   "outputs": [
    {
     "data": {
      "text/plain": [
       "(80791, 12)"
      ]
     },
     "execution_count": 83,
     "metadata": {},
     "output_type": "execute_result"
    }
   ],
   "source": [
    "borrowers_with_mean[borrowers_with_mean['age'] >= 50].shape"
   ]
  },
  {
   "cell_type": "code",
   "execution_count": 84,
   "metadata": {},
   "outputs": [
    {
     "data": {
      "text/plain": [
       "(63215, 12)"
      ]
     },
     "execution_count": 84,
     "metadata": {},
     "output_type": "execute_result"
    }
   ],
   "source": [
    "borrowers_with_mean[borrowers_with_mean['age'] < 50].shape"
   ]
  },
  {
   "cell_type": "code",
   "execution_count": 85,
   "metadata": {},
   "outputs": [
    {
     "data": {
      "image/png": "[encoded data removed]",
      "text/plain": [
       "<Figure size 720x360 with 2 Axes>"
      ]
     },
     "metadata": {},
     "output_type": "display_data"
    }
   ],
   "source": [
    "# Explore Age vs Target\n",
    "g = sns.FacetGrid(borrowers_with_mean, col='serious_dlqin2yrs')\n",
    "plt.gcf().set_size_inches(10, 5)\n",
    "g = g.map(sns.distplot, \"age\")"
   ]
  },
  {
   "cell_type": "code",
   "execution_count": 125,
   "metadata": {},
   "outputs": [
    {
     "data": {
      "image/png": "[encoded data removed]",
      "text/plain": [
       "<Figure size 432x288 with 1 Axes>"
      ]
     },
     "metadata": {},
     "output_type": "display_data"
    }
   ],
   "source": [
    "risk_borrowers=borrowers_with_mean[(borrowers_with_mean['serious_dlqin2yrs'] == 1)]\n",
    "plt.hist(risk_borrowers['age'], color='#1ABC9C', label='Risk Borrowers Age', alpha=0.3)\n",
    "plt.xlabel('Ages', size=14)\n",
    "plt.legend()\n",
    "sns.despine()"
   ]
  },
  {
   "cell_type": "code",
   "execution_count": 87,
   "metadata": {},
   "outputs": [],
   "source": [
    "borrowers_with_mean['age_bin'] = pd.qcut(borrowers_with_mean.age.values, 5).codes"
   ]
  },
  {
   "cell_type": "code",
   "execution_count": 88,
   "metadata": {},
   "outputs": [
    {
     "data": {
      "image/png": "[encoded data removed]",
      "text/plain": [
       "<Figure size 432x432 with 1 Axes>"
      ]
     },
     "metadata": {},
     "output_type": "display_data"
    }
   ],
   "source": [
    "# Explore age feature vs Target\n",
    "g  = sns.factorplot(x=\"age_bin\",y=\"serious_dlqin2yrs\",data=borrowers_with_mean,kind=\"bar\", size = 6 , \n",
    "palette = \"summer\")\n",
    "g.despine(left=True)\n",
    "g = g.set_ylabels(\"Target probability\")"
   ]
  },
  {
   "cell_type": "markdown",
   "metadata": {},
   "source": [
    "**Observations:**\n",
    "- Maximum borrowers from age group 50+\n",
    "- Borrowers risk is highest for age group of 40-50 and Lowest in 20-30 age group.\n",
    "- We can see that age has an inverse relationship to default risk."
   ]
  },
  {
   "cell_type": "markdown",
   "metadata": {},
   "source": [
    "**b) Number of Dependents**"
   ]
  },
  {
   "cell_type": "code",
   "execution_count": 117,
   "metadata": {},
   "outputs": [
    {
     "data": {
      "text/plain": [
       "count    144006.000000\n",
       "mean          0.711429\n",
       "std           1.076273\n",
       "min           0.000000\n",
       "25%           0.000000\n",
       "50%           0.000000\n",
       "75%           1.000000\n",
       "max          10.000000\n",
       "Name: number_of_dependents, dtype: float64"
      ]
     },
     "execution_count": 117,
     "metadata": {},
     "output_type": "execute_result"
    }
   ],
   "source": [
    "borrowers_with_mean['number_of_dependents'].describe()"
   ]
  },
  {
   "cell_type": "code",
   "execution_count": 128,
   "metadata": {},
   "outputs": [
    {
     "data": {
      "image/png": "[encoded data removed]",
      "text/plain": [
       "<Figure size 432x288 with 1 Axes>"
      ]
     },
     "metadata": {},
     "output_type": "display_data"
    }
   ],
   "source": [
    "histograma(borrowers['number_of_dependents'], color=\"#cf7c17\")"
   ]
  },
  {
   "cell_type": "code",
   "execution_count": 131,
   "metadata": {},
   "outputs": [
    {
     "data": {
      "image/png": "[encoded data removed]",
      "text/plain": [
       "<Figure size 720x360 with 2 Axes>"
      ]
     },
     "metadata": {},
     "output_type": "display_data"
    }
   ],
   "source": [
    "# Explore number_of_dependents vs Target\n",
    "g = sns.FacetGrid(borrowers_with_mean, col='serious_dlqin2yrs')\n",
    "plt.gcf().set_size_inches(10, 5)\n",
    "g = g.map(sns.distplot, \"number_of_dependents\")"
   ]
  },
  {
   "cell_type": "code",
   "execution_count": 132,
   "metadata": {},
   "outputs": [
    {
     "data": {
      "image/png": "[encoded data removed]",
      "text/plain": [
       "<Figure size 432x288 with 1 Axes>"
      ]
     },
     "metadata": {},
     "output_type": "display_data"
    }
   ],
   "source": [
    "risk_borrowers=borrowers_with_mean[(borrowers_with_mean['serious_dlqin2yrs'] == 1)]\n",
    "plt.hist(risk_borrowers['number_of_dependents'], color='#1ABC9C', label='Risk Borrowers Number of Dependents', alpha=0.3)\n",
    "#plt.hist(borrowers_with_mean['serious_dlqin2yrs'], color='#EB984E', label='Todos', alpha=0.3)\n",
    "plt.xlabel('Number of Dependents', size=14)\n",
    "plt.legend()\n",
    "sns.despine()"
   ]
  },
  {
   "cell_type": "code",
   "execution_count": 133,
   "metadata": {},
   "outputs": [],
   "source": [
    "borrowers_with_mean['number_of_dependents_bin'] = pd.qcut(borrowers_with_mean.monthly_income.values, 5).codes"
   ]
  },
  {
   "cell_type": "code",
   "execution_count": 134,
   "metadata": {},
   "outputs": [
    {
     "data": {
      "image/png": "[encoded data removed]",
      "text/plain": [
       "<Figure size 432x432 with 1 Axes>"
      ]
     },
     "metadata": {},
     "output_type": "display_data"
    }
   ],
   "source": [
    "# Explore Monthly number_of_dependents_bin feature vs Target\n",
    "g  = sns.factorplot(x=\"number_of_dependents_bin\",y=\"serious_dlqin2yrs\",data=borrowers_with_mean,kind=\"bar\", size = 6 , \n",
    "palette = \"summer\")\n",
    "g.despine(left=True)\n",
    "g = g.set_ylabels(\"Target probability\")"
   ]
  },
  {
   "cell_type": "markdown",
   "metadata": {},
   "source": [
    "Dependents greater than '3'."
   ]
  },
  {
   "cell_type": "code",
   "execution_count": 141,
   "metadata": {},
   "outputs": [
    {
     "data": {
      "text/plain": [
       "8.041331611182867"
      ]
     },
     "execution_count": 141,
     "metadata": {},
     "output_type": "execute_result"
    }
   ],
   "source": [
    "borrowers_with_mean[borrowers_with_mean['number_of_dependents'] >= 3].shape[0] / borrowers_with_mean['number_of_dependents'].shape[0] * 100"
   ]
  },
  {
   "cell_type": "markdown",
   "metadata": {},
   "source": [
    "**Observations:**\n",
    "- Around 60% data have number of dependents as 0; Delinquency count and percentage also highest for this group.\n",
    "- Total percentage share of data with dependents greater than 3 is only around 8%."
   ]
  },
  {
   "cell_type": "markdown",
   "metadata": {},
   "source": [
    "**c) Debt Ratio**"
   ]
  },
  {
   "cell_type": "code",
   "execution_count": 108,
   "metadata": {},
   "outputs": [
    {
     "data": {
      "text/plain": [
       "count    144006.000000\n",
       "mean          0.587775\n",
       "std           0.568141\n",
       "min           0.000000\n",
       "25%           0.172178\n",
       "50%           0.361039\n",
       "75%           0.811555\n",
       "max           1.604698\n",
       "Name: debt_ratio, dtype: float64"
      ]
     },
     "execution_count": 108,
     "metadata": {},
     "output_type": "execute_result"
    }
   ],
   "source": [
    "borrowers_with_mean.debt_ratio.describe()"
   ]
  },
  {
   "cell_type": "code",
   "execution_count": 109,
   "metadata": {},
   "outputs": [],
   "source": [
    "bins_debt_ratio = [-1, 0.25, 0.5, 1.7]\n",
    "debt_ratio_categories = pd.cut(borrowers_with_mean['debt_ratio'], bins=bins_debt_ratio, \n",
    "                          labels=['Good', 'Low Risk', 'High Risk'])"
   ]
  },
  {
   "cell_type": "code",
   "execution_count": 111,
   "metadata": {},
   "outputs": [],
   "source": [
    "borrowers_with_mean['debt_ratio_bin']= debt_ratio_categories"
   ]
  },
  {
   "cell_type": "code",
   "execution_count": 112,
   "metadata": {},
   "outputs": [
    {
     "data": {
      "text/html": [
       "<div>\n",
       "<style scoped>\n",
       "    .dataframe tbody tr th:only-of-type {\n",
       "        vertical-align: middle;\n",
       "    }\n",
       "\n",
       "    .dataframe tbody tr th {\n",
       "        vertical-align: top;\n",
       "    }\n",
       "\n",
       "    .dataframe thead th {\n",
       "        text-align: right;\n",
       "    }\n",
       "</style>\n",
       "<table border=\"1\" class=\"dataframe\">\n",
       "  <thead>\n",
       "    <tr style=\"text-align: right;\">\n",
       "      <th>serious_dlqin2yrs</th>\n",
       "      <th>0</th>\n",
       "      <th>1</th>\n",
       "    </tr>\n",
       "    <tr>\n",
       "      <th>debt_ratio_bin</th>\n",
       "      <th></th>\n",
       "      <th></th>\n",
       "    </tr>\n",
       "  </thead>\n",
       "  <tbody>\n",
       "    <tr>\n",
       "      <th>Good</th>\n",
       "      <td>48220</td>\n",
       "      <td>2694</td>\n",
       "    </tr>\n",
       "    <tr>\n",
       "      <th>Low Risk</th>\n",
       "      <td>38084</td>\n",
       "      <td>2112</td>\n",
       "    </tr>\n",
       "    <tr>\n",
       "      <th>High Risk</th>\n",
       "      <td>49708</td>\n",
       "      <td>3188</td>\n",
       "    </tr>\n",
       "  </tbody>\n",
       "</table>\n",
       "</div>"
      ],
      "text/plain": [
       "serious_dlqin2yrs      0     1\n",
       "debt_ratio_bin                \n",
       "Good               48220  2694\n",
       "Low Risk           38084  2112\n",
       "High Risk          49708  3188"
      ]
     },
     "execution_count": 112,
     "metadata": {},
     "output_type": "execute_result"
    }
   ],
   "source": [
    "pd.crosstab(borrowers_with_mean['debt_ratio_bin'], borrowers_with_mean['serious_dlqin2yrs'])"
   ]
  },
  {
   "cell_type": "code",
   "execution_count": 113,
   "metadata": {},
   "outputs": [
    {
     "data": {
      "image/png": "[encoded data removed]",
      "text/plain": [
       "<Figure size 432x288 with 1 Axes>"
      ]
     },
     "metadata": {},
     "output_type": "display_data"
    }
   ],
   "source": [
    "sns.distplot(borrowers_with_mean['debt_ratio'])\n",
    "sns.despine()"
   ]
  },
  {
   "cell_type": "code",
   "execution_count": 114,
   "metadata": {},
   "outputs": [
    {
     "data": {
      "image/png": "[encoded data removed]",
      "text/plain": [
       "<Figure size 432x288 with 1 Axes>"
      ]
     },
     "metadata": {},
     "output_type": "display_data"
    }
   ],
   "source": [
    "sns.barplot(x='debt_ratio_bin', y='serious_dlqin2yrs', data=borrowers_with_mean, palette='summer')\n",
    "plt.xticks(size=12)\n",
    "plt.xlabel('debt_ratio_bin', size=12)\n",
    "plt.ylabel('Target probability', size=14)\n",
    "sns.despine()"
   ]
  },
  {
   "cell_type": "markdown",
   "metadata": {},
   "source": [
    "**Observations:**\n",
    "- Around 40% (3188) of borrowers risk from group with Debt Ratio > 0.5 (High Risk)."
   ]
  },
  {
   "cell_type": "markdown",
   "metadata": {},
   "source": [
    "**d) Revolving Utilization of Unsecured Lines**"
   ]
  },
  {
   "cell_type": "code",
   "execution_count": 100,
   "metadata": {},
   "outputs": [
    {
     "data": {
      "text/plain": [
       "count    144006.000000\n",
       "mean          0.306820\n",
       "std           0.342482\n",
       "min           0.000000\n",
       "25%           0.028518\n",
       "50%           0.143765\n",
       "75%           0.525581\n",
       "max           0.999990\n",
       "Name: revolving_utilization_of_unsecured_lines, dtype: float64"
      ]
     },
     "execution_count": 100,
     "metadata": {},
     "output_type": "execute_result"
    }
   ],
   "source": [
    "borrowers_with_mean.revolving_utilization_of_unsecured_lines.describe()"
   ]
  },
  {
   "cell_type": "code",
   "execution_count": 101,
   "metadata": {},
   "outputs": [],
   "source": [
    "bins_unsecured_lines = [-1, 0.25, 0.5, 0.999990]\n",
    "unsecured_lines_categories = pd.cut(borrowers_with_mean['revolving_utilization_of_unsecured_lines'], bins=bins_unsecured_lines, \n",
    "                          labels=['Good', 'Low Risk', 'High Risk'])"
   ]
  },
  {
   "cell_type": "code",
   "execution_count": 102,
   "metadata": {},
   "outputs": [],
   "source": [
    "borrowers_with_mean['revolving_utilization_of_unsecured_lines_bin']= unsecured_lines_categories"
   ]
  },
  {
   "cell_type": "code",
   "execution_count": 103,
   "metadata": {},
   "outputs": [
    {
     "data": {
      "text/html": [
       "<div>\n",
       "<style scoped>\n",
       "    .dataframe tbody tr th:only-of-type {\n",
       "        vertical-align: middle;\n",
       "    }\n",
       "\n",
       "    .dataframe tbody tr th {\n",
       "        vertical-align: top;\n",
       "    }\n",
       "\n",
       "    .dataframe thead th {\n",
       "        text-align: right;\n",
       "    }\n",
       "</style>\n",
       "<table border=\"1\" class=\"dataframe\">\n",
       "  <thead>\n",
       "    <tr style=\"text-align: right;\">\n",
       "      <th>serious_dlqin2yrs</th>\n",
       "      <th>0</th>\n",
       "      <th>1</th>\n",
       "    </tr>\n",
       "    <tr>\n",
       "      <th>revolving_utilization_of_unsecured_lines_bin</th>\n",
       "      <th></th>\n",
       "      <th></th>\n",
       "    </tr>\n",
       "  </thead>\n",
       "  <tbody>\n",
       "    <tr>\n",
       "      <th>Good</th>\n",
       "      <td>84423</td>\n",
       "      <td>1651</td>\n",
       "    </tr>\n",
       "    <tr>\n",
       "      <th>Low Risk</th>\n",
       "      <td>19366</td>\n",
       "      <td>960</td>\n",
       "    </tr>\n",
       "    <tr>\n",
       "      <th>High Risk</th>\n",
       "      <td>32223</td>\n",
       "      <td>5383</td>\n",
       "    </tr>\n",
       "  </tbody>\n",
       "</table>\n",
       "</div>"
      ],
      "text/plain": [
       "serious_dlqin2yrs                                 0     1\n",
       "revolving_utilization_of_unsecured_lines_bin             \n",
       "Good                                          84423  1651\n",
       "Low Risk                                      19366   960\n",
       "High Risk                                     32223  5383"
      ]
     },
     "execution_count": 103,
     "metadata": {},
     "output_type": "execute_result"
    }
   ],
   "source": [
    "#RevolvingUtilizationOfUnsecuredLines (Binned) * SeriousDlqin2yrs Crosstabulation\n",
    "pd.crosstab(borrowers_with_mean['revolving_utilization_of_unsecured_lines_bin'], borrowers_with_mean['serious_dlqin2yrs'])\n",
    "#.apply(lambda r: r/len(borrowers_with_mean)*100, axis=1)"
   ]
  },
  {
   "cell_type": "code",
   "execution_count": 104,
   "metadata": {},
   "outputs": [
    {
     "data": {
      "image/png": "[encoded data removed]",
      "text/plain": [
       "<Figure size 432x288 with 1 Axes>"
      ]
     },
     "metadata": {},
     "output_type": "display_data"
    }
   ],
   "source": [
    "sns.distplot(borrowers_with_mean['revolving_utilization_of_unsecured_lines'])\n",
    "sns.despine()"
   ]
  },
  {
   "cell_type": "code",
   "execution_count": 105,
   "metadata": {},
   "outputs": [
    {
     "data": {
      "image/png": "[encoded data removed]",
      "text/plain": [
       "<Figure size 432x288 with 1 Axes>"
      ]
     },
     "metadata": {},
     "output_type": "display_data"
    }
   ],
   "source": [
    "sns.barplot(x='revolving_utilization_of_unsecured_lines_bin', y='serious_dlqin2yrs', data=borrowers_with_mean, palette='summer')\n",
    "plt.xticks(size=12)\n",
    "plt.xlabel('unsecured_lines', size=12)\n",
    "plt.ylabel('Target probability', size=14)\n",
    "sns.despine()"
   ]
  },
  {
   "cell_type": "markdown",
   "metadata": {},
   "source": [
    "**Observations:**\n",
    "- We can that there is an almost exponential relationship between this variable and our target.\n",
    "- Around 69% (3.738707) of Delinquency from group with RevolvingUtilizationOfCreditLines > 0.5 (High Risk)"
   ]
  },
  {
   "cell_type": "code",
   "execution_count": 106,
   "metadata": {},
   "outputs": [
    {
     "data": {
      "image/png": "[encoded data removed]",
      "text/plain": [
       "<Figure size 432x216 with 2 Axes>"
      ]
     },
     "metadata": {},
     "output_type": "display_data"
    }
   ],
   "source": [
    "# Explore Age vs Survived\n",
    "g = sns.FacetGrid(borrowers_with_mean, col='serious_dlqin2yrs')\n",
    "g = g.map(sns.distplot, \"revolving_utilization_of_unsecured_lines\")"
   ]
  },
  {
   "cell_type": "markdown",
   "metadata": {},
   "source": [
    "**e) Monthly Income**"
   ]
  },
  {
   "cell_type": "code",
   "execution_count": 89,
   "metadata": {},
   "outputs": [
    {
     "data": {
      "text/plain": [
       "count    144006.000000\n",
       "mean       6238.059699\n",
       "std        3399.965586\n",
       "min           0.000000\n",
       "25%        3885.000000\n",
       "50%        6500.000000\n",
       "75%        7350.000000\n",
       "max       16880.000000\n",
       "Name: monthly_income, dtype: float64"
      ]
     },
     "execution_count": 89,
     "metadata": {},
     "output_type": "execute_result"
    }
   ],
   "source": [
    "borrowers_with_mean['monthly_income'].describe() # Algo no está bien si quedó con max 4 como sueldo."
   ]
  },
  {
   "cell_type": "code",
   "execution_count": 90,
   "metadata": {},
   "outputs": [
    {
     "data": {
      "image/png": "[encoded data removed]",
      "text/plain": [
       "<Figure size 720x360 with 2 Axes>"
      ]
     },
     "metadata": {},
     "output_type": "display_data"
    }
   ],
   "source": [
    "# Explore monthly_income vs Target\n",
    "g = sns.FacetGrid(borrowers_with_mean, col='serious_dlqin2yrs')\n",
    "plt.gcf().set_size_inches(10, 5)\n",
    "g = g.map(sns.distplot, \"monthly_income\")"
   ]
  },
  {
   "cell_type": "code",
   "execution_count": 92,
   "metadata": {},
   "outputs": [
    {
     "data": {
      "image/png": "[encoded data removed]",
      "text/plain": [
       "<Figure size 432x288 with 1 Axes>"
      ]
     },
     "metadata": {},
     "output_type": "display_data"
    }
   ],
   "source": [
    "risk_borrowers=borrowers_with_mean[(borrowers_with_mean['serious_dlqin2yrs'] == 1)]\n",
    "plt.hist(risk_borrowers['monthly_income'], color='#1ABC9C', label='Risk Borrowers Montly Income', alpha=0.3)\n",
    "plt.xlabel('Montly Income', size=14)\n",
    "plt.legend()\n",
    "sns.despine()"
   ]
  },
  {
   "cell_type": "code",
   "execution_count": 93,
   "metadata": {},
   "outputs": [],
   "source": [
    "borrowers_with_mean['monthly_income__bin'] = pd.qcut(borrowers_with_mean.monthly_income.values, 5).codes"
   ]
  },
  {
   "cell_type": "code",
   "execution_count": 94,
   "metadata": {},
   "outputs": [
    {
     "data": {
      "image/png": "[encoded data removed]",
      "text/plain": [
       "<Figure size 432x432 with 1 Axes>"
      ]
     },
     "metadata": {},
     "output_type": "display_data"
    }
   ],
   "source": [
    "# Explore Monthly Income feature vs Target\n",
    "g  = sns.factorplot(x=\"monthly_income__bin\",y=\"serious_dlqin2yrs\",data=borrowers_with_mean,kind=\"bar\", size = 6 , \n",
    "palette = \"summer\")\n",
    "g.despine(left=True)\n",
    "g = g.set_ylabels(\"Target probability\")"
   ]
  },
  {
   "cell_type": "markdown",
   "metadata": {},
   "source": [
    "**Observations:**\n",
    "- More than 50% of defaulters are accounted by lower 40% of the income range (Bin 0 and 1).\n",
    "- Other 3 groups have more or less same percentage of defaulters."
   ]
  },
  {
   "cell_type": "code",
   "execution_count": null,
   "metadata": {},
   "outputs": [],
   "source": [
    "Monthly Income vs. Other Financial Variables # GRAFICAR"
   ]
  },
  {
   "cell_type": "markdown",
   "metadata": {},
   "source": [
    "All parameters below have similar pattern: low income range attributing to high values of debt indicators.\n",
    "    \n",
    "i) RevolvingUtilizationOfUnecuredLines, <br>\n",
    "ii) DebtRatio, <br>\n",
    "iii) NumberOfTime30-59DaysPastDueNotWorse,  <br>\n",
    "iv) NumberOfTimes90DaysLate,  <br>\n",
    "v) NumberOfTime60-089DaysPastDueNotWorse,  <br>\n",
    "vi) NumberOfOpenCreditLinesAndLoans,  <br>\n",
    "vii) NumberOfRealEstateLoansOrLines"
   ]
  },
  {
   "cell_type": "markdown",
   "metadata": {},
   "source": [
    "#### 2.2 Attributes Correlations"
   ]
  },
  {
   "cell_type": "code",
   "execution_count": 142,
   "metadata": {},
   "outputs": [],
   "source": [
    "corr = borrowers_with_mean[['serious_dlqin2yrs', 'revolving_utilization_of_unsecured_lines', 'age', 'number_of_time30-59_days_past_due_not_worse', 'number_of_time60-89_days_past_due_not_worse', 'number_of_times90_days_late', 'debt_ratio', 'monthly_income', 'number_of_open_credit_lines_and_loans', 'number_real_estate_loans_or_lines', 'number_of_dependents', 'monthly_income_bin', 'age_bin', 'debt_ratio_bin', 'revolving_utilization_of_unsecured_lines_bin', 'number_of_dependents_bin']].corr(method = 'pearson')"
   ]
  },
  {
   "cell_type": "code",
   "execution_count": 143,
   "metadata": {},
   "outputs": [
    {
     "data": {
      "image/png": "[encoded data removed]",
      "text/plain": [
       "<Figure size 720x720 with 2 Axes>"
      ]
     },
     "metadata": {},
     "output_type": "display_data"
    }
   ],
   "source": [
    "plt.figure(figsize = (10,10))\n",
    "sns.heatmap(corr, cmap='YlGnBu', annot=True);"
   ]
  },
  {
   "cell_type": "markdown",
   "metadata": {},
   "source": [
    "There is a high correlation between:\n",
    "- `number_of_time30-59_days_past_due_not_worse`, `number_of_time60-89_days_past_due_not_worse` and `number_of_times90_days_late` variables. (NO SÉ PORQUÉ SE PERDIÓ LA CORRELACIÓN ENTRE ÉSTAS VARIABLES).\n",
    "- `number_of_open_credit_lines_and_loans` and `number_real_estate_loans_or_lines` variables."
   ]
  },
  {
   "cell_type": "markdown",
   "metadata": {},
   "source": [
    "**Save the modified dataframe for the following steps (building a model).**"
   ]
  },
  {
   "cell_type": "code",
   "execution_count": 144,
   "metadata": {},
   "outputs": [],
   "source": [
    "borrowers_with_mean.to_csv('credit-data-clean.csv')"
   ]
  },
  {
   "cell_type": "code",
   "execution_count": null,
   "metadata": {},
   "outputs": [],
   "source": []
  },
  {
   "cell_type": "code",
   "execution_count": null,
   "metadata": {},
   "outputs": [],
   "source": []
  },
  {
   "cell_type": "code",
   "execution_count": null,
   "metadata": {},
   "outputs": [],
   "source": []
  },
  {
   "cell_type": "code",
   "execution_count": null,
   "metadata": {},
   "outputs": [],
   "source": []
  }
 ],
 "metadata": {
  "@webio": {
   "lastCommId": "814db409262d41e59a8f535448fcae85",
   "lastKernelId": "3183b2f9-976f-49e9-9ea7-931bafbad9e4"
  },
  "kernelspec": {
   "display_name": "Python 3",
   "language": "python",
   "name": "python3"
  },
  "language_info": {
   "codemirror_mode": {
    "name": "ipython",
    "version": 3
   },
   "file_extension": ".py",
   "mimetype": "text/x-python",
   "name": "python",
   "nbconvert_exporter": "python",
   "pygments_lexer": "ipython3",
   "version": "3.6.8"
  }
 },
 "nbformat": 4,
 "nbformat_minor": 4
}
