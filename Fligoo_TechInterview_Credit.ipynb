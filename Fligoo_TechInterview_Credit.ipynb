{
 "cells": [
  {
   "cell_type": "markdown",
   "metadata": {},
   "source": [
    "# <img style=\"float: left; padding-right: 10px; width: 200px\" src=\"https://fligoo.com/img/logo-large.png\"> Fligoo - Credit Risk\n",
    "\n",
    "Tech Interview for Data Scientist\n",
    "\n",
    "<hr style=\"height:2pt\">"
   ]
  },
  {
   "cell_type": "markdown",
   "metadata": {},
   "source": [
    "## Motivation\n",
    "\n",
    "Credit risk is most simply defined as the potential that a bank borrower or counterparty will fail to meet its obligations in accordance with agreed terms. The goal of credit risk management is to maximise a bank's risk-adjusted rate of return by maintaining credit risk exposure within acceptable parameters. Banks need to manage the credit risk inherent in the entire portfolio as well as the risk in individual credits or transactions. \n",
    "\n",
    "## Description\n",
    "\n",
    "The following dataset has 150.000 records of borrowers taken from an anonymous bank, which are described through 12 different columns.\n",
    "\n",
    "The goal of this test is to perform an Exploratory Data Analysis (EDA) on this dataset, to understand the information contained and obtain insights that could be relevant to solve a business problem and develop a simple model that could predict the risk.\n",
    "\n",
    "You can find the data in this [link](https://s3-us-west-2.amazonaws.com/fligoo.data-science/TechInterviews/CreditEDA/data/credit-data.csv)\n",
    "\n",
    "Below is a description of the involved columns:\n",
    "\n",
    "| Variable Name | Description | \n",
    "| ------------- | ----------- |\n",
    "| unnamed:0 | ID of borrower |\n",
    "| serious_dlqin2yrs | Person experienced 90 days past due delinquency or worse |\n",
    "| revolving_utilization_of_unsecured_lines | Total balance on credit cards and personal lines of credit except real estate and no installment debt like car loans divided by the sum of credit limits |\n",
    "| age | Age of borrower in years | \n",
    "| number_of_time30-59_days_past_due_not_worse | Number of times borrower has been 30-59 days past due but no worse in the last 2 years |\n",
    "| debt_ratio | Monthly debt payments, alimony, living costs divided by monthy gross income |\n",
    "| monthly_income | Monthly income |\n",
    "| number_of_open_credit_lines_and_loans | Number of open loans (installment like car loan or mortgage) and lines of credit (e.g. credit cards) |\n",
    "| number_of_times90_days_late | Number of times borrower has been 90 days or more past due |\n",
    "| number_real_estate_loans_or_lines | Number of mortgage and real estate loans including home equity lines of credit |\n",
    "| number_of_time60-89_days_past_due_not_worse | Number of times borrower has been 60-89 days past due but no worse in the last 2 years |\n",
    "| number_of_dependents | Number of dependents in family excluding themselves (spouse, children etc.) |\n",
    "\n",
    "\n",
    "Please **read carefully** all the assignments to guide the work that is expected to find in this notebook."
   ]
  },
  {
   "cell_type": "markdown",
   "metadata": {},
   "source": [
    "## Goal\n",
    "\n",
    "In this notebook you have to load all the libraries you need to explore and process the given dataset, and then perform the analysis to extract meaningful facts in order to understand the information involved. You are free to make any kind of analytic you want, but at the end it is expected to have done the \"mandatory\" tasks on this work. In addition, there are some \"nice to have\" aspects that would enrich the work done.\n",
    "\n",
    "> Please provide reports in English and focus on findings and insights\n",
    "\n",
    "**Stack of technologies:** The analysis on this notebook should be done by using at least the following stack:   \n",
    "    - Python 3.x (not 2.x)\n",
    "    - Pandas 1.0.x\n",
    "\n",
    "### Assignment\n",
    "\n",
    "- **Report insights and conclusions:** Describe the results obtained during the exploratory analysis and provide conclusions from a business perspective, supported by charts / tables / metrics. \n",
    "- **Data Quality Check:** You must check the quality of the given dataset to make an assessment of how appropriate it is for later Data Science tasks. Propose a set of corrective actions over the data.     \n",
    "   \n",
    "- **Feature extraction:** Indicate some possible candidates of features that could properly describe the borrowers, either from the given columns or from their transformations.\n",
    "- **Machine Learning modeling:** at least one fitted model with the given data. You could use the `serious_dlqin2yrs` column as target.\n",
    "\n",
    "\n",
    "### Nice to have aspects\n",
    "\n",
    "- Dockerfile to setup environment.\n",
    "- Identify features and new attributes / tables that could be relevant or needed for better analysis\n",
    "- **Code versioning with Git** (you are free to publish it on your own Github/Bitbucket account!).\n",
    "- **Show proficiency in Python:** By showing good practices in the structure and documentation, usage of several programming paradigms (e.g. imperative, OOP, functional), etc.\n",
    "- **Use cases:** Describe possible use cases for this dataset that could add value to the given business, indicating methods / techniques and algorithms for each of them and justifying the choice made.\n",
    "- **Machine Learning approaches:** Describe the possible Machine Learning tasks that could be performed from the given data, which may be valuable in the context of the finance domain (just explain with words, don't fit a model).\n",
    "\n",
    "Once you complete the assessment, please send a ZIP file of the folder with all the resources used in this work (e.g. Jupyter notebook, Python scripts, text files, images, etc) to esteban.delboca@fligoo.com. Then you are going to have a final meeting with the team to discuss the work done in this notebook and answer the questions that could arise.\n",
    "\n",
    "**Have fun!**\n",
    "\n",
    "![Have fun](https://media1.tenor.com/images/8d13f337a8c6e5aab8ba1bd8acd4da0c/tenor.gif?itemid=5304821)"
   ]
  },
  {
   "cell_type": "markdown",
   "metadata": {},
   "source": [
    "## Tech Interview - Yanina Vanesa Iberra"
   ]
  },
  {
   "cell_type": "markdown",
   "metadata": {},
   "source": [
    "### 1. Data Analysis"
   ]
  },
  {
   "cell_type": "markdown",
   "metadata": {},
   "source": [
    "- Check pandas library version installed"
   ]
  },
  {
   "cell_type": "code",
   "execution_count": 1,
   "metadata": {},
   "outputs": [
    {
     "name": "stdout",
     "output_type": "stream",
     "text": [
      "1.0.5\n"
     ]
    }
   ],
   "source": [
    "import pandas as pd\n",
    "\n",
    "print(pd.__version__)"
   ]
  },
  {
   "cell_type": "markdown",
   "metadata": {},
   "source": [
    "- Check Python version installed"
   ]
  },
  {
   "cell_type": "code",
   "execution_count": 2,
   "metadata": {},
   "outputs": [
    {
     "name": "stdout",
     "output_type": "stream",
     "text": [
      "3.6.8 |Anaconda, Inc.| (default, Feb 21 2019, 18:30:04) [MSC v.1916 64 bit (AMD64)]\n"
     ]
    }
   ],
   "source": [
    "import sys\n",
    "\n",
    "print(sys.version)"
   ]
  },
  {
   "cell_type": "markdown",
   "metadata": {},
   "source": [
    "- **Import the necessary libraries**"
   ]
  },
  {
   "cell_type": "code",
   "execution_count": 3,
   "metadata": {},
   "outputs": [],
   "source": [
    "# Command that will allow to see a graphic in this notebook below the line of code that invokes it.\n",
    "%matplotlib inline"
   ]
  },
  {
   "cell_type": "code",
   "execution_count": 4,
   "metadata": {},
   "outputs": [],
   "source": [
    "import pandas as pd\n",
    "import numpy as np\n",
    "import matplotlib.pyplot as plt\n",
    "import seaborn as sns"
   ]
  },
  {
   "cell_type": "markdown",
   "metadata": {},
   "source": [
    "- **Reading the CSV data file using pandas** <br> <br>\n",
    "File separated by comma, de default read_csv function delimiter is comma, therefore, this parameter is omitted."
   ]
  },
  {
   "cell_type": "code",
   "execution_count": 5,
   "metadata": {},
   "outputs": [],
   "source": [
    "borrowers = pd.read_csv('https://s3-us-west-2.amazonaws.com/fligoo.data-science/TechInterviews/CreditEDA/data/credit-data.csv')"
   ]
  },
  {
   "cell_type": "markdown",
   "metadata": {},
   "source": [
    "- **Get an overview of the dataset**"
   ]
  },
  {
   "cell_type": "markdown",
   "metadata": {},
   "source": [
    "Let's inspect the first 10 rows of `borrowers` using the` .head () `function."
   ]
  },
  {
   "cell_type": "code",
   "execution_count": 6,
   "metadata": {},
   "outputs": [
    {
     "data": {
      "text/html": [
       "<div>\n",
       "<style scoped>\n",
       "    .dataframe tbody tr th:only-of-type {\n",
       "        vertical-align: middle;\n",
       "    }\n",
       "\n",
       "    .dataframe tbody tr th {\n",
       "        vertical-align: top;\n",
       "    }\n",
       "\n",
       "    .dataframe thead th {\n",
       "        text-align: right;\n",
       "    }\n",
       "</style>\n",
       "<table border=\"1\" class=\"dataframe\">\n",
       "  <thead>\n",
       "    <tr style=\"text-align: right;\">\n",
       "      <th></th>\n",
       "      <th>unnamed: 0</th>\n",
       "      <th>serious_dlqin2yrs</th>\n",
       "      <th>revolving_utilization_of_unsecured_lines</th>\n",
       "      <th>age</th>\n",
       "      <th>number_of_time30-59_days_past_due_not_worse</th>\n",
       "      <th>debt_ratio</th>\n",
       "      <th>monthly_income</th>\n",
       "      <th>number_of_open_credit_lines_and_loans</th>\n",
       "      <th>number_of_times90_days_late</th>\n",
       "      <th>number_real_estate_loans_or_lines</th>\n",
       "      <th>number_of_time60-89_days_past_due_not_worse</th>\n",
       "      <th>number_of_dependents</th>\n",
       "    </tr>\n",
       "  </thead>\n",
       "  <tbody>\n",
       "    <tr>\n",
       "      <th>0</th>\n",
       "      <td>1</td>\n",
       "      <td>1</td>\n",
       "      <td>0.766127</td>\n",
       "      <td>45</td>\n",
       "      <td>2</td>\n",
       "      <td>0.802982</td>\n",
       "      <td>9120.0</td>\n",
       "      <td>13</td>\n",
       "      <td>0</td>\n",
       "      <td>6</td>\n",
       "      <td>0</td>\n",
       "      <td>2.0</td>\n",
       "    </tr>\n",
       "    <tr>\n",
       "      <th>1</th>\n",
       "      <td>2</td>\n",
       "      <td>0</td>\n",
       "      <td>0.957151</td>\n",
       "      <td>40</td>\n",
       "      <td>0</td>\n",
       "      <td>0.121876</td>\n",
       "      <td>2600.0</td>\n",
       "      <td>4</td>\n",
       "      <td>0</td>\n",
       "      <td>0</td>\n",
       "      <td>0</td>\n",
       "      <td>1.0</td>\n",
       "    </tr>\n",
       "    <tr>\n",
       "      <th>2</th>\n",
       "      <td>3</td>\n",
       "      <td>0</td>\n",
       "      <td>0.658180</td>\n",
       "      <td>38</td>\n",
       "      <td>1</td>\n",
       "      <td>0.085113</td>\n",
       "      <td>3042.0</td>\n",
       "      <td>2</td>\n",
       "      <td>1</td>\n",
       "      <td>0</td>\n",
       "      <td>0</td>\n",
       "      <td>0.0</td>\n",
       "    </tr>\n",
       "    <tr>\n",
       "      <th>3</th>\n",
       "      <td>4</td>\n",
       "      <td>0</td>\n",
       "      <td>0.233810</td>\n",
       "      <td>30</td>\n",
       "      <td>0</td>\n",
       "      <td>0.036050</td>\n",
       "      <td>3300.0</td>\n",
       "      <td>5</td>\n",
       "      <td>0</td>\n",
       "      <td>0</td>\n",
       "      <td>0</td>\n",
       "      <td>0.0</td>\n",
       "    </tr>\n",
       "    <tr>\n",
       "      <th>4</th>\n",
       "      <td>5</td>\n",
       "      <td>0</td>\n",
       "      <td>0.907239</td>\n",
       "      <td>49</td>\n",
       "      <td>1</td>\n",
       "      <td>0.024926</td>\n",
       "      <td>63588.0</td>\n",
       "      <td>7</td>\n",
       "      <td>0</td>\n",
       "      <td>1</td>\n",
       "      <td>0</td>\n",
       "      <td>0.0</td>\n",
       "    </tr>\n",
       "    <tr>\n",
       "      <th>5</th>\n",
       "      <td>6</td>\n",
       "      <td>0</td>\n",
       "      <td>0.213179</td>\n",
       "      <td>74</td>\n",
       "      <td>0</td>\n",
       "      <td>0.375607</td>\n",
       "      <td>3500.0</td>\n",
       "      <td>3</td>\n",
       "      <td>0</td>\n",
       "      <td>1</td>\n",
       "      <td>0</td>\n",
       "      <td>1.0</td>\n",
       "    </tr>\n",
       "    <tr>\n",
       "      <th>6</th>\n",
       "      <td>7</td>\n",
       "      <td>0</td>\n",
       "      <td>0.305682</td>\n",
       "      <td>57</td>\n",
       "      <td>0</td>\n",
       "      <td>5710.000000</td>\n",
       "      <td>NaN</td>\n",
       "      <td>8</td>\n",
       "      <td>0</td>\n",
       "      <td>3</td>\n",
       "      <td>0</td>\n",
       "      <td>0.0</td>\n",
       "    </tr>\n",
       "    <tr>\n",
       "      <th>7</th>\n",
       "      <td>8</td>\n",
       "      <td>0</td>\n",
       "      <td>0.754464</td>\n",
       "      <td>39</td>\n",
       "      <td>0</td>\n",
       "      <td>0.209940</td>\n",
       "      <td>3500.0</td>\n",
       "      <td>8</td>\n",
       "      <td>0</td>\n",
       "      <td>0</td>\n",
       "      <td>0</td>\n",
       "      <td>0.0</td>\n",
       "    </tr>\n",
       "    <tr>\n",
       "      <th>8</th>\n",
       "      <td>9</td>\n",
       "      <td>0</td>\n",
       "      <td>0.116951</td>\n",
       "      <td>27</td>\n",
       "      <td>0</td>\n",
       "      <td>46.000000</td>\n",
       "      <td>NaN</td>\n",
       "      <td>2</td>\n",
       "      <td>0</td>\n",
       "      <td>0</td>\n",
       "      <td>0</td>\n",
       "      <td>0.0</td>\n",
       "    </tr>\n",
       "    <tr>\n",
       "      <th>9</th>\n",
       "      <td>10</td>\n",
       "      <td>0</td>\n",
       "      <td>0.189169</td>\n",
       "      <td>57</td>\n",
       "      <td>0</td>\n",
       "      <td>0.606291</td>\n",
       "      <td>23684.0</td>\n",
       "      <td>9</td>\n",
       "      <td>0</td>\n",
       "      <td>4</td>\n",
       "      <td>0</td>\n",
       "      <td>2.0</td>\n",
       "    </tr>\n",
       "  </tbody>\n",
       "</table>\n",
       "</div>"
      ],
      "text/plain": [
       "   unnamed: 0  serious_dlqin2yrs  revolving_utilization_of_unsecured_lines  \\\n",
       "0           1                  1                                  0.766127   \n",
       "1           2                  0                                  0.957151   \n",
       "2           3                  0                                  0.658180   \n",
       "3           4                  0                                  0.233810   \n",
       "4           5                  0                                  0.907239   \n",
       "5           6                  0                                  0.213179   \n",
       "6           7                  0                                  0.305682   \n",
       "7           8                  0                                  0.754464   \n",
       "8           9                  0                                  0.116951   \n",
       "9          10                  0                                  0.189169   \n",
       "\n",
       "   age  number_of_time30-59_days_past_due_not_worse   debt_ratio  \\\n",
       "0   45                                            2     0.802982   \n",
       "1   40                                            0     0.121876   \n",
       "2   38                                            1     0.085113   \n",
       "3   30                                            0     0.036050   \n",
       "4   49                                            1     0.024926   \n",
       "5   74                                            0     0.375607   \n",
       "6   57                                            0  5710.000000   \n",
       "7   39                                            0     0.209940   \n",
       "8   27                                            0    46.000000   \n",
       "9   57                                            0     0.606291   \n",
       "\n",
       "   monthly_income  number_of_open_credit_lines_and_loans  \\\n",
       "0          9120.0                                     13   \n",
       "1          2600.0                                      4   \n",
       "2          3042.0                                      2   \n",
       "3          3300.0                                      5   \n",
       "4         63588.0                                      7   \n",
       "5          3500.0                                      3   \n",
       "6             NaN                                      8   \n",
       "7          3500.0                                      8   \n",
       "8             NaN                                      2   \n",
       "9         23684.0                                      9   \n",
       "\n",
       "   number_of_times90_days_late  number_real_estate_loans_or_lines  \\\n",
       "0                            0                                  6   \n",
       "1                            0                                  0   \n",
       "2                            1                                  0   \n",
       "3                            0                                  0   \n",
       "4                            0                                  1   \n",
       "5                            0                                  1   \n",
       "6                            0                                  3   \n",
       "7                            0                                  0   \n",
       "8                            0                                  0   \n",
       "9                            0                                  4   \n",
       "\n",
       "   number_of_time60-89_days_past_due_not_worse  number_of_dependents  \n",
       "0                                            0                   2.0  \n",
       "1                                            0                   1.0  \n",
       "2                                            0                   0.0  \n",
       "3                                            0                   0.0  \n",
       "4                                            0                   0.0  \n",
       "5                                            0                   1.0  \n",
       "6                                            0                   0.0  \n",
       "7                                            0                   0.0  \n",
       "8                                            0                   0.0  \n",
       "9                                            0                   2.0  "
      ]
     },
     "execution_count": 6,
     "metadata": {},
     "output_type": "execute_result"
    }
   ],
   "source": [
    "borrowers.head(10)"
   ]
  },
  {
   "cell_type": "markdown",
   "metadata": {},
   "source": [
    "Let's inspect the last 10 rows of `borrowers` using the` .head () `function."
   ]
  },
  {
   "cell_type": "code",
   "execution_count": 7,
   "metadata": {},
   "outputs": [
    {
     "data": {
      "text/html": [
       "<div>\n",
       "<style scoped>\n",
       "    .dataframe tbody tr th:only-of-type {\n",
       "        vertical-align: middle;\n",
       "    }\n",
       "\n",
       "    .dataframe tbody tr th {\n",
       "        vertical-align: top;\n",
       "    }\n",
       "\n",
       "    .dataframe thead th {\n",
       "        text-align: right;\n",
       "    }\n",
       "</style>\n",
       "<table border=\"1\" class=\"dataframe\">\n",
       "  <thead>\n",
       "    <tr style=\"text-align: right;\">\n",
       "      <th></th>\n",
       "      <th>unnamed: 0</th>\n",
       "      <th>serious_dlqin2yrs</th>\n",
       "      <th>revolving_utilization_of_unsecured_lines</th>\n",
       "      <th>age</th>\n",
       "      <th>number_of_time30-59_days_past_due_not_worse</th>\n",
       "      <th>debt_ratio</th>\n",
       "      <th>monthly_income</th>\n",
       "      <th>number_of_open_credit_lines_and_loans</th>\n",
       "      <th>number_of_times90_days_late</th>\n",
       "      <th>number_real_estate_loans_or_lines</th>\n",
       "      <th>number_of_time60-89_days_past_due_not_worse</th>\n",
       "      <th>number_of_dependents</th>\n",
       "    </tr>\n",
       "  </thead>\n",
       "  <tbody>\n",
       "    <tr>\n",
       "      <th>149990</th>\n",
       "      <td>149991</td>\n",
       "      <td>0</td>\n",
       "      <td>0.055518</td>\n",
       "      <td>46</td>\n",
       "      <td>0</td>\n",
       "      <td>0.609779</td>\n",
       "      <td>4335.0</td>\n",
       "      <td>7</td>\n",
       "      <td>0</td>\n",
       "      <td>1</td>\n",
       "      <td>0</td>\n",
       "      <td>2.0</td>\n",
       "    </tr>\n",
       "    <tr>\n",
       "      <th>149991</th>\n",
       "      <td>149992</td>\n",
       "      <td>0</td>\n",
       "      <td>0.104112</td>\n",
       "      <td>59</td>\n",
       "      <td>0</td>\n",
       "      <td>0.477658</td>\n",
       "      <td>10316.0</td>\n",
       "      <td>10</td>\n",
       "      <td>0</td>\n",
       "      <td>2</td>\n",
       "      <td>0</td>\n",
       "      <td>0.0</td>\n",
       "    </tr>\n",
       "    <tr>\n",
       "      <th>149992</th>\n",
       "      <td>149993</td>\n",
       "      <td>0</td>\n",
       "      <td>0.871976</td>\n",
       "      <td>50</td>\n",
       "      <td>0</td>\n",
       "      <td>4132.000000</td>\n",
       "      <td>NaN</td>\n",
       "      <td>11</td>\n",
       "      <td>0</td>\n",
       "      <td>1</td>\n",
       "      <td>0</td>\n",
       "      <td>3.0</td>\n",
       "    </tr>\n",
       "    <tr>\n",
       "      <th>149993</th>\n",
       "      <td>149994</td>\n",
       "      <td>0</td>\n",
       "      <td>1.000000</td>\n",
       "      <td>22</td>\n",
       "      <td>0</td>\n",
       "      <td>0.000000</td>\n",
       "      <td>820.0</td>\n",
       "      <td>1</td>\n",
       "      <td>0</td>\n",
       "      <td>0</td>\n",
       "      <td>0</td>\n",
       "      <td>0.0</td>\n",
       "    </tr>\n",
       "    <tr>\n",
       "      <th>149994</th>\n",
       "      <td>149995</td>\n",
       "      <td>0</td>\n",
       "      <td>0.385742</td>\n",
       "      <td>50</td>\n",
       "      <td>0</td>\n",
       "      <td>0.404293</td>\n",
       "      <td>3400.0</td>\n",
       "      <td>7</td>\n",
       "      <td>0</td>\n",
       "      <td>0</td>\n",
       "      <td>0</td>\n",
       "      <td>0.0</td>\n",
       "    </tr>\n",
       "    <tr>\n",
       "      <th>149995</th>\n",
       "      <td>149996</td>\n",
       "      <td>0</td>\n",
       "      <td>0.040674</td>\n",
       "      <td>74</td>\n",
       "      <td>0</td>\n",
       "      <td>0.225131</td>\n",
       "      <td>2100.0</td>\n",
       "      <td>4</td>\n",
       "      <td>0</td>\n",
       "      <td>1</td>\n",
       "      <td>0</td>\n",
       "      <td>0.0</td>\n",
       "    </tr>\n",
       "    <tr>\n",
       "      <th>149996</th>\n",
       "      <td>149997</td>\n",
       "      <td>0</td>\n",
       "      <td>0.299745</td>\n",
       "      <td>44</td>\n",
       "      <td>0</td>\n",
       "      <td>0.716562</td>\n",
       "      <td>5584.0</td>\n",
       "      <td>4</td>\n",
       "      <td>0</td>\n",
       "      <td>1</td>\n",
       "      <td>0</td>\n",
       "      <td>2.0</td>\n",
       "    </tr>\n",
       "    <tr>\n",
       "      <th>149997</th>\n",
       "      <td>149998</td>\n",
       "      <td>0</td>\n",
       "      <td>0.246044</td>\n",
       "      <td>58</td>\n",
       "      <td>0</td>\n",
       "      <td>3870.000000</td>\n",
       "      <td>NaN</td>\n",
       "      <td>18</td>\n",
       "      <td>0</td>\n",
       "      <td>1</td>\n",
       "      <td>0</td>\n",
       "      <td>0.0</td>\n",
       "    </tr>\n",
       "    <tr>\n",
       "      <th>149998</th>\n",
       "      <td>149999</td>\n",
       "      <td>0</td>\n",
       "      <td>0.000000</td>\n",
       "      <td>30</td>\n",
       "      <td>0</td>\n",
       "      <td>0.000000</td>\n",
       "      <td>5716.0</td>\n",
       "      <td>4</td>\n",
       "      <td>0</td>\n",
       "      <td>0</td>\n",
       "      <td>0</td>\n",
       "      <td>0.0</td>\n",
       "    </tr>\n",
       "    <tr>\n",
       "      <th>149999</th>\n",
       "      <td>150000</td>\n",
       "      <td>0</td>\n",
       "      <td>0.850283</td>\n",
       "      <td>64</td>\n",
       "      <td>0</td>\n",
       "      <td>0.249908</td>\n",
       "      <td>8158.0</td>\n",
       "      <td>8</td>\n",
       "      <td>0</td>\n",
       "      <td>2</td>\n",
       "      <td>0</td>\n",
       "      <td>0.0</td>\n",
       "    </tr>\n",
       "  </tbody>\n",
       "</table>\n",
       "</div>"
      ],
      "text/plain": [
       "        unnamed: 0  serious_dlqin2yrs  \\\n",
       "149990      149991                  0   \n",
       "149991      149992                  0   \n",
       "149992      149993                  0   \n",
       "149993      149994                  0   \n",
       "149994      149995                  0   \n",
       "149995      149996                  0   \n",
       "149996      149997                  0   \n",
       "149997      149998                  0   \n",
       "149998      149999                  0   \n",
       "149999      150000                  0   \n",
       "\n",
       "        revolving_utilization_of_unsecured_lines  age  \\\n",
       "149990                                  0.055518   46   \n",
       "149991                                  0.104112   59   \n",
       "149992                                  0.871976   50   \n",
       "149993                                  1.000000   22   \n",
       "149994                                  0.385742   50   \n",
       "149995                                  0.040674   74   \n",
       "149996                                  0.299745   44   \n",
       "149997                                  0.246044   58   \n",
       "149998                                  0.000000   30   \n",
       "149999                                  0.850283   64   \n",
       "\n",
       "        number_of_time30-59_days_past_due_not_worse   debt_ratio  \\\n",
       "149990                                            0     0.609779   \n",
       "149991                                            0     0.477658   \n",
       "149992                                            0  4132.000000   \n",
       "149993                                            0     0.000000   \n",
       "149994                                            0     0.404293   \n",
       "149995                                            0     0.225131   \n",
       "149996                                            0     0.716562   \n",
       "149997                                            0  3870.000000   \n",
       "149998                                            0     0.000000   \n",
       "149999                                            0     0.249908   \n",
       "\n",
       "        monthly_income  number_of_open_credit_lines_and_loans  \\\n",
       "149990          4335.0                                      7   \n",
       "149991         10316.0                                     10   \n",
       "149992             NaN                                     11   \n",
       "149993           820.0                                      1   \n",
       "149994          3400.0                                      7   \n",
       "149995          2100.0                                      4   \n",
       "149996          5584.0                                      4   \n",
       "149997             NaN                                     18   \n",
       "149998          5716.0                                      4   \n",
       "149999          8158.0                                      8   \n",
       "\n",
       "        number_of_times90_days_late  number_real_estate_loans_or_lines  \\\n",
       "149990                            0                                  1   \n",
       "149991                            0                                  2   \n",
       "149992                            0                                  1   \n",
       "149993                            0                                  0   \n",
       "149994                            0                                  0   \n",
       "149995                            0                                  1   \n",
       "149996                            0                                  1   \n",
       "149997                            0                                  1   \n",
       "149998                            0                                  0   \n",
       "149999                            0                                  2   \n",
       "\n",
       "        number_of_time60-89_days_past_due_not_worse  number_of_dependents  \n",
       "149990                                            0                   2.0  \n",
       "149991                                            0                   0.0  \n",
       "149992                                            0                   3.0  \n",
       "149993                                            0                   0.0  \n",
       "149994                                            0                   0.0  \n",
       "149995                                            0                   0.0  \n",
       "149996                                            0                   2.0  \n",
       "149997                                            0                   0.0  \n",
       "149998                                            0                   0.0  \n",
       "149999                                            0                   0.0  "
      ]
     },
     "execution_count": 7,
     "metadata": {},
     "output_type": "execute_result"
    }
   ],
   "source": [
    "borrowers.tail(10)"
   ]
  },
  {
   "cell_type": "markdown",
   "metadata": {},
   "source": [
    "- **Delete row Unnamed: 0**"
   ]
  },
  {
   "cell_type": "code",
   "execution_count": 8,
   "metadata": {},
   "outputs": [],
   "source": [
    "borrowers.drop('unnamed: 0', axis=1, inplace=True)"
   ]
  },
  {
   "cell_type": "code",
   "execution_count": 9,
   "metadata": {},
   "outputs": [
    {
     "data": {
      "text/html": [
       "<div>\n",
       "<style scoped>\n",
       "    .dataframe tbody tr th:only-of-type {\n",
       "        vertical-align: middle;\n",
       "    }\n",
       "\n",
       "    .dataframe tbody tr th {\n",
       "        vertical-align: top;\n",
       "    }\n",
       "\n",
       "    .dataframe thead th {\n",
       "        text-align: right;\n",
       "    }\n",
       "</style>\n",
       "<table border=\"1\" class=\"dataframe\">\n",
       "  <thead>\n",
       "    <tr style=\"text-align: right;\">\n",
       "      <th></th>\n",
       "      <th>serious_dlqin2yrs</th>\n",
       "      <th>revolving_utilization_of_unsecured_lines</th>\n",
       "      <th>age</th>\n",
       "      <th>number_of_time30-59_days_past_due_not_worse</th>\n",
       "      <th>debt_ratio</th>\n",
       "      <th>monthly_income</th>\n",
       "      <th>number_of_open_credit_lines_and_loans</th>\n",
       "      <th>number_of_times90_days_late</th>\n",
       "      <th>number_real_estate_loans_or_lines</th>\n",
       "      <th>number_of_time60-89_days_past_due_not_worse</th>\n",
       "      <th>number_of_dependents</th>\n",
       "    </tr>\n",
       "  </thead>\n",
       "  <tbody>\n",
       "    <tr>\n",
       "      <th>0</th>\n",
       "      <td>1</td>\n",
       "      <td>0.766127</td>\n",
       "      <td>45</td>\n",
       "      <td>2</td>\n",
       "      <td>0.802982</td>\n",
       "      <td>9120.0</td>\n",
       "      <td>13</td>\n",
       "      <td>0</td>\n",
       "      <td>6</td>\n",
       "      <td>0</td>\n",
       "      <td>2.0</td>\n",
       "    </tr>\n",
       "    <tr>\n",
       "      <th>1</th>\n",
       "      <td>0</td>\n",
       "      <td>0.957151</td>\n",
       "      <td>40</td>\n",
       "      <td>0</td>\n",
       "      <td>0.121876</td>\n",
       "      <td>2600.0</td>\n",
       "      <td>4</td>\n",
       "      <td>0</td>\n",
       "      <td>0</td>\n",
       "      <td>0</td>\n",
       "      <td>1.0</td>\n",
       "    </tr>\n",
       "    <tr>\n",
       "      <th>2</th>\n",
       "      <td>0</td>\n",
       "      <td>0.658180</td>\n",
       "      <td>38</td>\n",
       "      <td>1</td>\n",
       "      <td>0.085113</td>\n",
       "      <td>3042.0</td>\n",
       "      <td>2</td>\n",
       "      <td>1</td>\n",
       "      <td>0</td>\n",
       "      <td>0</td>\n",
       "      <td>0.0</td>\n",
       "    </tr>\n",
       "    <tr>\n",
       "      <th>3</th>\n",
       "      <td>0</td>\n",
       "      <td>0.233810</td>\n",
       "      <td>30</td>\n",
       "      <td>0</td>\n",
       "      <td>0.036050</td>\n",
       "      <td>3300.0</td>\n",
       "      <td>5</td>\n",
       "      <td>0</td>\n",
       "      <td>0</td>\n",
       "      <td>0</td>\n",
       "      <td>0.0</td>\n",
       "    </tr>\n",
       "    <tr>\n",
       "      <th>4</th>\n",
       "      <td>0</td>\n",
       "      <td>0.907239</td>\n",
       "      <td>49</td>\n",
       "      <td>1</td>\n",
       "      <td>0.024926</td>\n",
       "      <td>63588.0</td>\n",
       "      <td>7</td>\n",
       "      <td>0</td>\n",
       "      <td>1</td>\n",
       "      <td>0</td>\n",
       "      <td>0.0</td>\n",
       "    </tr>\n",
       "    <tr>\n",
       "      <th>5</th>\n",
       "      <td>0</td>\n",
       "      <td>0.213179</td>\n",
       "      <td>74</td>\n",
       "      <td>0</td>\n",
       "      <td>0.375607</td>\n",
       "      <td>3500.0</td>\n",
       "      <td>3</td>\n",
       "      <td>0</td>\n",
       "      <td>1</td>\n",
       "      <td>0</td>\n",
       "      <td>1.0</td>\n",
       "    </tr>\n",
       "    <tr>\n",
       "      <th>6</th>\n",
       "      <td>0</td>\n",
       "      <td>0.305682</td>\n",
       "      <td>57</td>\n",
       "      <td>0</td>\n",
       "      <td>5710.000000</td>\n",
       "      <td>NaN</td>\n",
       "      <td>8</td>\n",
       "      <td>0</td>\n",
       "      <td>3</td>\n",
       "      <td>0</td>\n",
       "      <td>0.0</td>\n",
       "    </tr>\n",
       "    <tr>\n",
       "      <th>7</th>\n",
       "      <td>0</td>\n",
       "      <td>0.754464</td>\n",
       "      <td>39</td>\n",
       "      <td>0</td>\n",
       "      <td>0.209940</td>\n",
       "      <td>3500.0</td>\n",
       "      <td>8</td>\n",
       "      <td>0</td>\n",
       "      <td>0</td>\n",
       "      <td>0</td>\n",
       "      <td>0.0</td>\n",
       "    </tr>\n",
       "    <tr>\n",
       "      <th>8</th>\n",
       "      <td>0</td>\n",
       "      <td>0.116951</td>\n",
       "      <td>27</td>\n",
       "      <td>0</td>\n",
       "      <td>46.000000</td>\n",
       "      <td>NaN</td>\n",
       "      <td>2</td>\n",
       "      <td>0</td>\n",
       "      <td>0</td>\n",
       "      <td>0</td>\n",
       "      <td>0.0</td>\n",
       "    </tr>\n",
       "    <tr>\n",
       "      <th>9</th>\n",
       "      <td>0</td>\n",
       "      <td>0.189169</td>\n",
       "      <td>57</td>\n",
       "      <td>0</td>\n",
       "      <td>0.606291</td>\n",
       "      <td>23684.0</td>\n",
       "      <td>9</td>\n",
       "      <td>0</td>\n",
       "      <td>4</td>\n",
       "      <td>0</td>\n",
       "      <td>2.0</td>\n",
       "    </tr>\n",
       "  </tbody>\n",
       "</table>\n",
       "</div>"
      ],
      "text/plain": [
       "   serious_dlqin2yrs  revolving_utilization_of_unsecured_lines  age  \\\n",
       "0                  1                                  0.766127   45   \n",
       "1                  0                                  0.957151   40   \n",
       "2                  0                                  0.658180   38   \n",
       "3                  0                                  0.233810   30   \n",
       "4                  0                                  0.907239   49   \n",
       "5                  0                                  0.213179   74   \n",
       "6                  0                                  0.305682   57   \n",
       "7                  0                                  0.754464   39   \n",
       "8                  0                                  0.116951   27   \n",
       "9                  0                                  0.189169   57   \n",
       "\n",
       "   number_of_time30-59_days_past_due_not_worse   debt_ratio  monthly_income  \\\n",
       "0                                            2     0.802982          9120.0   \n",
       "1                                            0     0.121876          2600.0   \n",
       "2                                            1     0.085113          3042.0   \n",
       "3                                            0     0.036050          3300.0   \n",
       "4                                            1     0.024926         63588.0   \n",
       "5                                            0     0.375607          3500.0   \n",
       "6                                            0  5710.000000             NaN   \n",
       "7                                            0     0.209940          3500.0   \n",
       "8                                            0    46.000000             NaN   \n",
       "9                                            0     0.606291         23684.0   \n",
       "\n",
       "   number_of_open_credit_lines_and_loans  number_of_times90_days_late  \\\n",
       "0                                     13                            0   \n",
       "1                                      4                            0   \n",
       "2                                      2                            1   \n",
       "3                                      5                            0   \n",
       "4                                      7                            0   \n",
       "5                                      3                            0   \n",
       "6                                      8                            0   \n",
       "7                                      8                            0   \n",
       "8                                      2                            0   \n",
       "9                                      9                            0   \n",
       "\n",
       "   number_real_estate_loans_or_lines  \\\n",
       "0                                  6   \n",
       "1                                  0   \n",
       "2                                  0   \n",
       "3                                  0   \n",
       "4                                  1   \n",
       "5                                  1   \n",
       "6                                  3   \n",
       "7                                  0   \n",
       "8                                  0   \n",
       "9                                  4   \n",
       "\n",
       "   number_of_time60-89_days_past_due_not_worse  number_of_dependents  \n",
       "0                                            0                   2.0  \n",
       "1                                            0                   1.0  \n",
       "2                                            0                   0.0  \n",
       "3                                            0                   0.0  \n",
       "4                                            0                   0.0  \n",
       "5                                            0                   1.0  \n",
       "6                                            0                   0.0  \n",
       "7                                            0                   0.0  \n",
       "8                                            0                   0.0  \n",
       "9                                            0                   2.0  "
      ]
     },
     "execution_count": 9,
     "metadata": {},
     "output_type": "execute_result"
    }
   ],
   "source": [
    "borrowers.head(10)"
   ]
  },
  {
   "cell_type": "markdown",
   "metadata": {},
   "source": [
    "- **Let's see how many rows and columns `borrowers` has.**"
   ]
  },
  {
   "cell_type": "code",
   "execution_count": 10,
   "metadata": {},
   "outputs": [
    {
     "name": "stdout",
     "output_type": "stream",
     "text": [
      "Borrowers dataframe rows: 150000\n",
      "Borrowers dataframe columns: 11\n"
     ]
    }
   ],
   "source": [
    "row, col = borrowers.shape\n",
    "\n",
    "print(f\"Borrowers dataframe rows: {row}\")\n",
    "\n",
    "print(f\"Borrowers dataframe columns: {col}\")"
   ]
  },
  {
   "cell_type": "markdown",
   "metadata": {},
   "source": [
    "- **Let's see what kind of data structure the variable `borrowers` contains.**"
   ]
  },
  {
   "cell_type": "code",
   "execution_count": 11,
   "metadata": {},
   "outputs": [
    {
     "data": {
      "text/plain": [
       "pandas.core.frame.DataFrame"
      ]
     },
     "execution_count": 11,
     "metadata": {},
     "output_type": "execute_result"
    }
   ],
   "source": [
    "type(borrowers)"
   ]
  },
  {
   "cell_type": "markdown",
   "metadata": {},
   "source": [
    "- **Let's see what types of data each of the `borrowers` columns contain**"
   ]
  },
  {
   "cell_type": "code",
   "execution_count": 12,
   "metadata": {},
   "outputs": [
    {
     "data": {
      "text/plain": [
       "serious_dlqin2yrs                                int64\n",
       "revolving_utilization_of_unsecured_lines       float64\n",
       "age                                              int64\n",
       "number_of_time30-59_days_past_due_not_worse      int64\n",
       "debt_ratio                                     float64\n",
       "monthly_income                                 float64\n",
       "number_of_open_credit_lines_and_loans            int64\n",
       "number_of_times90_days_late                      int64\n",
       "number_real_estate_loans_or_lines                int64\n",
       "number_of_time60-89_days_past_due_not_worse      int64\n",
       "number_of_dependents                           float64\n",
       "dtype: object"
      ]
     },
     "execution_count": 12,
     "metadata": {},
     "output_type": "execute_result"
    }
   ],
   "source": [
    "borrowers.dtypes"
   ]
  },
  {
   "cell_type": "markdown",
   "metadata": {},
   "source": [
    "There are no categorical variables."
   ]
  },
  {
   "cell_type": "markdown",
   "metadata": {},
   "source": [
    "- The info() method of pandas.DataFrame can display information such as the number of rows and columns, the total memory usage, the data type of each column, and the number of non-NaN elements."
   ]
  },
  {
   "cell_type": "code",
   "execution_count": 13,
   "metadata": {},
   "outputs": [
    {
     "name": "stdout",
     "output_type": "stream",
     "text": [
      "<class 'pandas.core.frame.DataFrame'>\n",
      "RangeIndex: 150000 entries, 0 to 149999\n",
      "Data columns (total 11 columns):\n",
      " #   Column                                       Non-Null Count   Dtype  \n",
      "---  ------                                       --------------   -----  \n",
      " 0   serious_dlqin2yrs                            150000 non-null  int64  \n",
      " 1   revolving_utilization_of_unsecured_lines     150000 non-null  float64\n",
      " 2   age                                          150000 non-null  int64  \n",
      " 3   number_of_time30-59_days_past_due_not_worse  150000 non-null  int64  \n",
      " 4   debt_ratio                                   150000 non-null  float64\n",
      " 5   monthly_income                               120269 non-null  float64\n",
      " 6   number_of_open_credit_lines_and_loans        150000 non-null  int64  \n",
      " 7   number_of_times90_days_late                  150000 non-null  int64  \n",
      " 8   number_real_estate_loans_or_lines            150000 non-null  int64  \n",
      " 9   number_of_time60-89_days_past_due_not_worse  150000 non-null  int64  \n",
      " 10  number_of_dependents                         150000 non-null  float64\n",
      "dtypes: float64(4), int64(7)\n",
      "memory usage: 12.6 MB\n"
     ]
    }
   ],
   "source": [
    "borrowers.info()"
   ]
  },
  {
   "cell_type": "markdown",
   "metadata": {},
   "source": [
    "**Descriptive Statistics** <br> <br>\n",
    "Describe the all dataset statistical properties."
   ]
  },
  {
   "cell_type": "code",
   "execution_count": 14,
   "metadata": {
    "scrolled": true
   },
   "outputs": [
    {
     "data": {
      "text/html": [
       "<div>\n",
       "<style scoped>\n",
       "    .dataframe tbody tr th:only-of-type {\n",
       "        vertical-align: middle;\n",
       "    }\n",
       "\n",
       "    .dataframe tbody tr th {\n",
       "        vertical-align: top;\n",
       "    }\n",
       "\n",
       "    .dataframe thead th {\n",
       "        text-align: right;\n",
       "    }\n",
       "</style>\n",
       "<table border=\"1\" class=\"dataframe\">\n",
       "  <thead>\n",
       "    <tr style=\"text-align: right;\">\n",
       "      <th></th>\n",
       "      <th>revolving_utilization_of_unsecured_lines</th>\n",
       "      <th>age</th>\n",
       "      <th>number_of_time30-59_days_past_due_not_worse</th>\n",
       "      <th>debt_ratio</th>\n",
       "      <th>monthly_income</th>\n",
       "      <th>number_of_open_credit_lines_and_loans</th>\n",
       "      <th>number_of_times90_days_late</th>\n",
       "      <th>number_real_estate_loans_or_lines</th>\n",
       "      <th>number_of_time60-89_days_past_due_not_worse</th>\n",
       "      <th>number_of_dependents</th>\n",
       "    </tr>\n",
       "  </thead>\n",
       "  <tbody>\n",
       "    <tr>\n",
       "      <th>count</th>\n",
       "      <td>150000.000000</td>\n",
       "      <td>150000.000000</td>\n",
       "      <td>150000.000000</td>\n",
       "      <td>150000.000000</td>\n",
       "      <td>1.202690e+05</td>\n",
       "      <td>150000.000000</td>\n",
       "      <td>150000.000000</td>\n",
       "      <td>150000.000000</td>\n",
       "      <td>150000.000000</td>\n",
       "      <td>150000.000000</td>\n",
       "    </tr>\n",
       "    <tr>\n",
       "      <th>mean</th>\n",
       "      <td>6.048438</td>\n",
       "      <td>52.295207</td>\n",
       "      <td>0.421033</td>\n",
       "      <td>353.005076</td>\n",
       "      <td>6.670221e+03</td>\n",
       "      <td>8.452760</td>\n",
       "      <td>0.265973</td>\n",
       "      <td>1.018240</td>\n",
       "      <td>0.240387</td>\n",
       "      <td>0.737413</td>\n",
       "    </tr>\n",
       "    <tr>\n",
       "      <th>std</th>\n",
       "      <td>249.755371</td>\n",
       "      <td>14.771866</td>\n",
       "      <td>4.192781</td>\n",
       "      <td>2037.818523</td>\n",
       "      <td>1.438467e+04</td>\n",
       "      <td>5.145951</td>\n",
       "      <td>4.169304</td>\n",
       "      <td>1.129771</td>\n",
       "      <td>4.155179</td>\n",
       "      <td>1.107021</td>\n",
       "    </tr>\n",
       "    <tr>\n",
       "      <th>min</th>\n",
       "      <td>0.000000</td>\n",
       "      <td>0.000000</td>\n",
       "      <td>0.000000</td>\n",
       "      <td>0.000000</td>\n",
       "      <td>0.000000e+00</td>\n",
       "      <td>0.000000</td>\n",
       "      <td>0.000000</td>\n",
       "      <td>0.000000</td>\n",
       "      <td>0.000000</td>\n",
       "      <td>0.000000</td>\n",
       "    </tr>\n",
       "    <tr>\n",
       "      <th>25%</th>\n",
       "      <td>0.029867</td>\n",
       "      <td>41.000000</td>\n",
       "      <td>0.000000</td>\n",
       "      <td>0.175074</td>\n",
       "      <td>3.400000e+03</td>\n",
       "      <td>5.000000</td>\n",
       "      <td>0.000000</td>\n",
       "      <td>0.000000</td>\n",
       "      <td>0.000000</td>\n",
       "      <td>0.000000</td>\n",
       "    </tr>\n",
       "    <tr>\n",
       "      <th>50%</th>\n",
       "      <td>0.154181</td>\n",
       "      <td>52.000000</td>\n",
       "      <td>0.000000</td>\n",
       "      <td>0.366508</td>\n",
       "      <td>5.400000e+03</td>\n",
       "      <td>8.000000</td>\n",
       "      <td>0.000000</td>\n",
       "      <td>1.000000</td>\n",
       "      <td>0.000000</td>\n",
       "      <td>0.000000</td>\n",
       "    </tr>\n",
       "    <tr>\n",
       "      <th>75%</th>\n",
       "      <td>0.559046</td>\n",
       "      <td>63.000000</td>\n",
       "      <td>0.000000</td>\n",
       "      <td>0.868254</td>\n",
       "      <td>8.249000e+03</td>\n",
       "      <td>11.000000</td>\n",
       "      <td>0.000000</td>\n",
       "      <td>2.000000</td>\n",
       "      <td>0.000000</td>\n",
       "      <td>1.000000</td>\n",
       "    </tr>\n",
       "    <tr>\n",
       "      <th>max</th>\n",
       "      <td>50708.000000</td>\n",
       "      <td>109.000000</td>\n",
       "      <td>98.000000</td>\n",
       "      <td>329664.000000</td>\n",
       "      <td>3.008750e+06</td>\n",
       "      <td>58.000000</td>\n",
       "      <td>98.000000</td>\n",
       "      <td>54.000000</td>\n",
       "      <td>98.000000</td>\n",
       "      <td>20.000000</td>\n",
       "    </tr>\n",
       "  </tbody>\n",
       "</table>\n",
       "</div>"
      ],
      "text/plain": [
       "       revolving_utilization_of_unsecured_lines            age  \\\n",
       "count                             150000.000000  150000.000000   \n",
       "mean                                   6.048438      52.295207   \n",
       "std                                  249.755371      14.771866   \n",
       "min                                    0.000000       0.000000   \n",
       "25%                                    0.029867      41.000000   \n",
       "50%                                    0.154181      52.000000   \n",
       "75%                                    0.559046      63.000000   \n",
       "max                                50708.000000     109.000000   \n",
       "\n",
       "       number_of_time30-59_days_past_due_not_worse     debt_ratio  \\\n",
       "count                                150000.000000  150000.000000   \n",
       "mean                                      0.421033     353.005076   \n",
       "std                                       4.192781    2037.818523   \n",
       "min                                       0.000000       0.000000   \n",
       "25%                                       0.000000       0.175074   \n",
       "50%                                       0.000000       0.366508   \n",
       "75%                                       0.000000       0.868254   \n",
       "max                                      98.000000  329664.000000   \n",
       "\n",
       "       monthly_income  number_of_open_credit_lines_and_loans  \\\n",
       "count    1.202690e+05                          150000.000000   \n",
       "mean     6.670221e+03                               8.452760   \n",
       "std      1.438467e+04                               5.145951   \n",
       "min      0.000000e+00                               0.000000   \n",
       "25%      3.400000e+03                               5.000000   \n",
       "50%      5.400000e+03                               8.000000   \n",
       "75%      8.249000e+03                              11.000000   \n",
       "max      3.008750e+06                              58.000000   \n",
       "\n",
       "       number_of_times90_days_late  number_real_estate_loans_or_lines  \\\n",
       "count                150000.000000                      150000.000000   \n",
       "mean                      0.265973                           1.018240   \n",
       "std                       4.169304                           1.129771   \n",
       "min                       0.000000                           0.000000   \n",
       "25%                       0.000000                           0.000000   \n",
       "50%                       0.000000                           1.000000   \n",
       "75%                       0.000000                           2.000000   \n",
       "max                      98.000000                          54.000000   \n",
       "\n",
       "       number_of_time60-89_days_past_due_not_worse  number_of_dependents  \n",
       "count                                150000.000000         150000.000000  \n",
       "mean                                      0.240387              0.737413  \n",
       "std                                       4.155179              1.107021  \n",
       "min                                       0.000000              0.000000  \n",
       "25%                                       0.000000              0.000000  \n",
       "50%                                       0.000000              0.000000  \n",
       "75%                                       0.000000              1.000000  \n",
       "max                                      98.000000             20.000000  "
      ]
     },
     "execution_count": 14,
     "metadata": {},
     "output_type": "execute_result"
    }
   ],
   "source": [
    "borrowers[borrowers.columns[1:]].describe()"
   ]
  },
  {
   "cell_type": "markdown",
   "metadata": {},
   "source": [
    "**Observations**:\n",
    "- There are 150000 cases in dataset.\n",
    "- Out of 11 variables available, `serious_dlqin2yrs` is the binary dependent variable for which model has to be developed.\n",
    "- `monthly_income` has large number of missing values.\n",
    "- There are high numbers of extreme values(outliers) for `revolving_utilization_of_unsecured_lines`, `debt_ratio` and `monthly_income` as indicated by high Standard Deviation.\n",
    "- `age` variable have one case showing 0."
   ]
  },
  {
   "cell_type": "markdown",
   "metadata": {},
   "source": [
    "**Calculation of what percentage of values each possible value of the target variable `serious_dlqin2yrs` has.**"
   ]
  },
  {
   "cell_type": "code",
   "execution_count": 15,
   "metadata": {},
   "outputs": [
    {
     "data": {
      "text/plain": [
       "0    93.316\n",
       "1     6.684\n",
       "Name: serious_dlqin2yrs, dtype: float64"
      ]
     },
     "execution_count": 15,
     "metadata": {},
     "output_type": "execute_result"
    }
   ],
   "source": [
    "target_len = len(borrowers['serious_dlqin2yrs'])\n",
    "percentage_var = (borrowers['serious_dlqin2yrs'].value_counts()/target_len)*100\n",
    "percentage_var"
   ]
  },
  {
   "cell_type": "markdown",
   "metadata": {},
   "source": [
    "Graph of the percentages for each possible target value."
   ]
  },
  {
   "cell_type": "code",
   "execution_count": 16,
   "metadata": {},
   "outputs": [
    {
     "data": {
      "image/png": "[encoded data removed]",
      "text/plain": [
       "<Figure size 432x288 with 1 Axes>"
      ]
     },
     "metadata": {},
     "output_type": "display_data"
    }
   ],
   "source": [
    "sns.set()\n",
    "sns.countplot(borrowers.serious_dlqin2yrs, palette='summer').set_title('Target Values Distribution')\n",
    "ax = plt.gca()\n",
    "for p in ax.patches:\n",
    "    height = p.get_height()\n",
    "    ax.text(p.get_x() + p.get_width()/2.,\n",
    "            height + 2,\n",
    "            '{:.2f}%'.format(100*(height/target_len)),\n",
    "            fontsize=12, ha='center', va='bottom')\n",
    "ax.set_xlabel(\"Values of serious_dlqin2yrs attribute\")\n",
    "ax.set_ylabel(\"# Records\")\n",
    "plt.show()"
   ]
  },
  {
   "cell_type": "markdown",
   "metadata": {},
   "source": [
    "**Observation:** <br><br>\n",
    "Disproportionate percentage of samples for dependent variable. Sampling of training dataset required to remove bias in model development."
   ]
  },
  {
   "cell_type": "markdown",
   "metadata": {},
   "source": [
    "### 2. Data Pre- Processing"
   ]
  },
  {
   "cell_type": "markdown",
   "metadata": {},
   "source": [
    "#### 2.1 Missing Value Analysis"
   ]
  },
  {
   "cell_type": "markdown",
   "metadata": {},
   "source": [
    ".isnull (). Returns a new DataFrame in which we will have the value False if it is not missing and True if that value is missing."
   ]
  },
  {
   "cell_type": "code",
   "execution_count": 17,
   "metadata": {},
   "outputs": [
    {
     "data": {
      "text/html": [
       "<div>\n",
       "<style scoped>\n",
       "    .dataframe tbody tr th:only-of-type {\n",
       "        vertical-align: middle;\n",
       "    }\n",
       "\n",
       "    .dataframe tbody tr th {\n",
       "        vertical-align: top;\n",
       "    }\n",
       "\n",
       "    .dataframe thead th {\n",
       "        text-align: right;\n",
       "    }\n",
       "</style>\n",
       "<table border=\"1\" class=\"dataframe\">\n",
       "  <thead>\n",
       "    <tr style=\"text-align: right;\">\n",
       "      <th></th>\n",
       "      <th>serious_dlqin2yrs</th>\n",
       "      <th>revolving_utilization_of_unsecured_lines</th>\n",
       "      <th>age</th>\n",
       "      <th>number_of_time30-59_days_past_due_not_worse</th>\n",
       "      <th>debt_ratio</th>\n",
       "      <th>monthly_income</th>\n",
       "      <th>number_of_open_credit_lines_and_loans</th>\n",
       "      <th>number_of_times90_days_late</th>\n",
       "      <th>number_real_estate_loans_or_lines</th>\n",
       "      <th>number_of_time60-89_days_past_due_not_worse</th>\n",
       "      <th>number_of_dependents</th>\n",
       "    </tr>\n",
       "  </thead>\n",
       "  <tbody>\n",
       "    <tr>\n",
       "      <th>0</th>\n",
       "      <td>False</td>\n",
       "      <td>False</td>\n",
       "      <td>False</td>\n",
       "      <td>False</td>\n",
       "      <td>False</td>\n",
       "      <td>False</td>\n",
       "      <td>False</td>\n",
       "      <td>False</td>\n",
       "      <td>False</td>\n",
       "      <td>False</td>\n",
       "      <td>False</td>\n",
       "    </tr>\n",
       "    <tr>\n",
       "      <th>1</th>\n",
       "      <td>False</td>\n",
       "      <td>False</td>\n",
       "      <td>False</td>\n",
       "      <td>False</td>\n",
       "      <td>False</td>\n",
       "      <td>False</td>\n",
       "      <td>False</td>\n",
       "      <td>False</td>\n",
       "      <td>False</td>\n",
       "      <td>False</td>\n",
       "      <td>False</td>\n",
       "    </tr>\n",
       "    <tr>\n",
       "      <th>2</th>\n",
       "      <td>False</td>\n",
       "      <td>False</td>\n",
       "      <td>False</td>\n",
       "      <td>False</td>\n",
       "      <td>False</td>\n",
       "      <td>False</td>\n",
       "      <td>False</td>\n",
       "      <td>False</td>\n",
       "      <td>False</td>\n",
       "      <td>False</td>\n",
       "      <td>False</td>\n",
       "    </tr>\n",
       "    <tr>\n",
       "      <th>3</th>\n",
       "      <td>False</td>\n",
       "      <td>False</td>\n",
       "      <td>False</td>\n",
       "      <td>False</td>\n",
       "      <td>False</td>\n",
       "      <td>False</td>\n",
       "      <td>False</td>\n",
       "      <td>False</td>\n",
       "      <td>False</td>\n",
       "      <td>False</td>\n",
       "      <td>False</td>\n",
       "    </tr>\n",
       "    <tr>\n",
       "      <th>4</th>\n",
       "      <td>False</td>\n",
       "      <td>False</td>\n",
       "      <td>False</td>\n",
       "      <td>False</td>\n",
       "      <td>False</td>\n",
       "      <td>False</td>\n",
       "      <td>False</td>\n",
       "      <td>False</td>\n",
       "      <td>False</td>\n",
       "      <td>False</td>\n",
       "      <td>False</td>\n",
       "    </tr>\n",
       "    <tr>\n",
       "      <th>...</th>\n",
       "      <td>...</td>\n",
       "      <td>...</td>\n",
       "      <td>...</td>\n",
       "      <td>...</td>\n",
       "      <td>...</td>\n",
       "      <td>...</td>\n",
       "      <td>...</td>\n",
       "      <td>...</td>\n",
       "      <td>...</td>\n",
       "      <td>...</td>\n",
       "      <td>...</td>\n",
       "    </tr>\n",
       "    <tr>\n",
       "      <th>149995</th>\n",
       "      <td>False</td>\n",
       "      <td>False</td>\n",
       "      <td>False</td>\n",
       "      <td>False</td>\n",
       "      <td>False</td>\n",
       "      <td>False</td>\n",
       "      <td>False</td>\n",
       "      <td>False</td>\n",
       "      <td>False</td>\n",
       "      <td>False</td>\n",
       "      <td>False</td>\n",
       "    </tr>\n",
       "    <tr>\n",
       "      <th>149996</th>\n",
       "      <td>False</td>\n",
       "      <td>False</td>\n",
       "      <td>False</td>\n",
       "      <td>False</td>\n",
       "      <td>False</td>\n",
       "      <td>False</td>\n",
       "      <td>False</td>\n",
       "      <td>False</td>\n",
       "      <td>False</td>\n",
       "      <td>False</td>\n",
       "      <td>False</td>\n",
       "    </tr>\n",
       "    <tr>\n",
       "      <th>149997</th>\n",
       "      <td>False</td>\n",
       "      <td>False</td>\n",
       "      <td>False</td>\n",
       "      <td>False</td>\n",
       "      <td>False</td>\n",
       "      <td>True</td>\n",
       "      <td>False</td>\n",
       "      <td>False</td>\n",
       "      <td>False</td>\n",
       "      <td>False</td>\n",
       "      <td>False</td>\n",
       "    </tr>\n",
       "    <tr>\n",
       "      <th>149998</th>\n",
       "      <td>False</td>\n",
       "      <td>False</td>\n",
       "      <td>False</td>\n",
       "      <td>False</td>\n",
       "      <td>False</td>\n",
       "      <td>False</td>\n",
       "      <td>False</td>\n",
       "      <td>False</td>\n",
       "      <td>False</td>\n",
       "      <td>False</td>\n",
       "      <td>False</td>\n",
       "    </tr>\n",
       "    <tr>\n",
       "      <th>149999</th>\n",
       "      <td>False</td>\n",
       "      <td>False</td>\n",
       "      <td>False</td>\n",
       "      <td>False</td>\n",
       "      <td>False</td>\n",
       "      <td>False</td>\n",
       "      <td>False</td>\n",
       "      <td>False</td>\n",
       "      <td>False</td>\n",
       "      <td>False</td>\n",
       "      <td>False</td>\n",
       "    </tr>\n",
       "  </tbody>\n",
       "</table>\n",
       "<p>150000 rows × 11 columns</p>\n",
       "</div>"
      ],
      "text/plain": [
       "        serious_dlqin2yrs  revolving_utilization_of_unsecured_lines    age  \\\n",
       "0                   False                                     False  False   \n",
       "1                   False                                     False  False   \n",
       "2                   False                                     False  False   \n",
       "3                   False                                     False  False   \n",
       "4                   False                                     False  False   \n",
       "...                   ...                                       ...    ...   \n",
       "149995              False                                     False  False   \n",
       "149996              False                                     False  False   \n",
       "149997              False                                     False  False   \n",
       "149998              False                                     False  False   \n",
       "149999              False                                     False  False   \n",
       "\n",
       "        number_of_time30-59_days_past_due_not_worse  debt_ratio  \\\n",
       "0                                             False       False   \n",
       "1                                             False       False   \n",
       "2                                             False       False   \n",
       "3                                             False       False   \n",
       "4                                             False       False   \n",
       "...                                             ...         ...   \n",
       "149995                                        False       False   \n",
       "149996                                        False       False   \n",
       "149997                                        False       False   \n",
       "149998                                        False       False   \n",
       "149999                                        False       False   \n",
       "\n",
       "        monthly_income  number_of_open_credit_lines_and_loans  \\\n",
       "0                False                                  False   \n",
       "1                False                                  False   \n",
       "2                False                                  False   \n",
       "3                False                                  False   \n",
       "4                False                                  False   \n",
       "...                ...                                    ...   \n",
       "149995           False                                  False   \n",
       "149996           False                                  False   \n",
       "149997            True                                  False   \n",
       "149998           False                                  False   \n",
       "149999           False                                  False   \n",
       "\n",
       "        number_of_times90_days_late  number_real_estate_loans_or_lines  \\\n",
       "0                             False                              False   \n",
       "1                             False                              False   \n",
       "2                             False                              False   \n",
       "3                             False                              False   \n",
       "4                             False                              False   \n",
       "...                             ...                                ...   \n",
       "149995                        False                              False   \n",
       "149996                        False                              False   \n",
       "149997                        False                              False   \n",
       "149998                        False                              False   \n",
       "149999                        False                              False   \n",
       "\n",
       "        number_of_time60-89_days_past_due_not_worse  number_of_dependents  \n",
       "0                                             False                 False  \n",
       "1                                             False                 False  \n",
       "2                                             False                 False  \n",
       "3                                             False                 False  \n",
       "4                                             False                 False  \n",
       "...                                             ...                   ...  \n",
       "149995                                        False                 False  \n",
       "149996                                        False                 False  \n",
       "149997                                        False                 False  \n",
       "149998                                        False                 False  \n",
       "149999                                        False                 False  \n",
       "\n",
       "[150000 rows x 11 columns]"
      ]
     },
     "execution_count": 17,
     "metadata": {},
     "output_type": "execute_result"
    }
   ],
   "source": [
    "borrowers.isnull()"
   ]
  },
  {
   "cell_type": "code",
   "execution_count": 18,
   "metadata": {},
   "outputs": [
    {
     "data": {
      "text/html": [
       "<div>\n",
       "<style scoped>\n",
       "    .dataframe tbody tr th:only-of-type {\n",
       "        vertical-align: middle;\n",
       "    }\n",
       "\n",
       "    .dataframe tbody tr th {\n",
       "        vertical-align: top;\n",
       "    }\n",
       "\n",
       "    .dataframe thead th {\n",
       "        text-align: right;\n",
       "    }\n",
       "</style>\n",
       "<table border=\"1\" class=\"dataframe\">\n",
       "  <thead>\n",
       "    <tr style=\"text-align: right;\">\n",
       "      <th></th>\n",
       "      <th>serious_dlqin2yrs</th>\n",
       "      <th>revolving_utilization_of_unsecured_lines</th>\n",
       "      <th>age</th>\n",
       "      <th>number_of_time30-59_days_past_due_not_worse</th>\n",
       "      <th>debt_ratio</th>\n",
       "      <th>monthly_income</th>\n",
       "      <th>number_of_open_credit_lines_and_loans</th>\n",
       "      <th>number_of_times90_days_late</th>\n",
       "      <th>number_real_estate_loans_or_lines</th>\n",
       "      <th>number_of_time60-89_days_past_due_not_worse</th>\n",
       "      <th>number_of_dependents</th>\n",
       "    </tr>\n",
       "  </thead>\n",
       "  <tbody>\n",
       "    <tr>\n",
       "      <th>0</th>\n",
       "      <td>False</td>\n",
       "      <td>False</td>\n",
       "      <td>False</td>\n",
       "      <td>False</td>\n",
       "      <td>False</td>\n",
       "      <td>False</td>\n",
       "      <td>False</td>\n",
       "      <td>False</td>\n",
       "      <td>False</td>\n",
       "      <td>False</td>\n",
       "      <td>False</td>\n",
       "    </tr>\n",
       "    <tr>\n",
       "      <th>1</th>\n",
       "      <td>False</td>\n",
       "      <td>False</td>\n",
       "      <td>False</td>\n",
       "      <td>False</td>\n",
       "      <td>False</td>\n",
       "      <td>False</td>\n",
       "      <td>False</td>\n",
       "      <td>False</td>\n",
       "      <td>False</td>\n",
       "      <td>False</td>\n",
       "      <td>False</td>\n",
       "    </tr>\n",
       "    <tr>\n",
       "      <th>2</th>\n",
       "      <td>False</td>\n",
       "      <td>False</td>\n",
       "      <td>False</td>\n",
       "      <td>False</td>\n",
       "      <td>False</td>\n",
       "      <td>False</td>\n",
       "      <td>False</td>\n",
       "      <td>False</td>\n",
       "      <td>False</td>\n",
       "      <td>False</td>\n",
       "      <td>False</td>\n",
       "    </tr>\n",
       "    <tr>\n",
       "      <th>3</th>\n",
       "      <td>False</td>\n",
       "      <td>False</td>\n",
       "      <td>False</td>\n",
       "      <td>False</td>\n",
       "      <td>False</td>\n",
       "      <td>False</td>\n",
       "      <td>False</td>\n",
       "      <td>False</td>\n",
       "      <td>False</td>\n",
       "      <td>False</td>\n",
       "      <td>False</td>\n",
       "    </tr>\n",
       "    <tr>\n",
       "      <th>4</th>\n",
       "      <td>False</td>\n",
       "      <td>False</td>\n",
       "      <td>False</td>\n",
       "      <td>False</td>\n",
       "      <td>False</td>\n",
       "      <td>False</td>\n",
       "      <td>False</td>\n",
       "      <td>False</td>\n",
       "      <td>False</td>\n",
       "      <td>False</td>\n",
       "      <td>False</td>\n",
       "    </tr>\n",
       "    <tr>\n",
       "      <th>...</th>\n",
       "      <td>...</td>\n",
       "      <td>...</td>\n",
       "      <td>...</td>\n",
       "      <td>...</td>\n",
       "      <td>...</td>\n",
       "      <td>...</td>\n",
       "      <td>...</td>\n",
       "      <td>...</td>\n",
       "      <td>...</td>\n",
       "      <td>...</td>\n",
       "      <td>...</td>\n",
       "    </tr>\n",
       "    <tr>\n",
       "      <th>149995</th>\n",
       "      <td>False</td>\n",
       "      <td>False</td>\n",
       "      <td>False</td>\n",
       "      <td>False</td>\n",
       "      <td>False</td>\n",
       "      <td>False</td>\n",
       "      <td>False</td>\n",
       "      <td>False</td>\n",
       "      <td>False</td>\n",
       "      <td>False</td>\n",
       "      <td>False</td>\n",
       "    </tr>\n",
       "    <tr>\n",
       "      <th>149996</th>\n",
       "      <td>False</td>\n",
       "      <td>False</td>\n",
       "      <td>False</td>\n",
       "      <td>False</td>\n",
       "      <td>False</td>\n",
       "      <td>False</td>\n",
       "      <td>False</td>\n",
       "      <td>False</td>\n",
       "      <td>False</td>\n",
       "      <td>False</td>\n",
       "      <td>False</td>\n",
       "    </tr>\n",
       "    <tr>\n",
       "      <th>149997</th>\n",
       "      <td>False</td>\n",
       "      <td>False</td>\n",
       "      <td>False</td>\n",
       "      <td>False</td>\n",
       "      <td>False</td>\n",
       "      <td>True</td>\n",
       "      <td>False</td>\n",
       "      <td>False</td>\n",
       "      <td>False</td>\n",
       "      <td>False</td>\n",
       "      <td>False</td>\n",
       "    </tr>\n",
       "    <tr>\n",
       "      <th>149998</th>\n",
       "      <td>False</td>\n",
       "      <td>False</td>\n",
       "      <td>False</td>\n",
       "      <td>False</td>\n",
       "      <td>False</td>\n",
       "      <td>False</td>\n",
       "      <td>False</td>\n",
       "      <td>False</td>\n",
       "      <td>False</td>\n",
       "      <td>False</td>\n",
       "      <td>False</td>\n",
       "    </tr>\n",
       "    <tr>\n",
       "      <th>149999</th>\n",
       "      <td>False</td>\n",
       "      <td>False</td>\n",
       "      <td>False</td>\n",
       "      <td>False</td>\n",
       "      <td>False</td>\n",
       "      <td>False</td>\n",
       "      <td>False</td>\n",
       "      <td>False</td>\n",
       "      <td>False</td>\n",
       "      <td>False</td>\n",
       "      <td>False</td>\n",
       "    </tr>\n",
       "  </tbody>\n",
       "</table>\n",
       "<p>150000 rows × 11 columns</p>\n",
       "</div>"
      ],
      "text/plain": [
       "        serious_dlqin2yrs  revolving_utilization_of_unsecured_lines    age  \\\n",
       "0                   False                                     False  False   \n",
       "1                   False                                     False  False   \n",
       "2                   False                                     False  False   \n",
       "3                   False                                     False  False   \n",
       "4                   False                                     False  False   \n",
       "...                   ...                                       ...    ...   \n",
       "149995              False                                     False  False   \n",
       "149996              False                                     False  False   \n",
       "149997              False                                     False  False   \n",
       "149998              False                                     False  False   \n",
       "149999              False                                     False  False   \n",
       "\n",
       "        number_of_time30-59_days_past_due_not_worse  debt_ratio  \\\n",
       "0                                             False       False   \n",
       "1                                             False       False   \n",
       "2                                             False       False   \n",
       "3                                             False       False   \n",
       "4                                             False       False   \n",
       "...                                             ...         ...   \n",
       "149995                                        False       False   \n",
       "149996                                        False       False   \n",
       "149997                                        False       False   \n",
       "149998                                        False       False   \n",
       "149999                                        False       False   \n",
       "\n",
       "        monthly_income  number_of_open_credit_lines_and_loans  \\\n",
       "0                False                                  False   \n",
       "1                False                                  False   \n",
       "2                False                                  False   \n",
       "3                False                                  False   \n",
       "4                False                                  False   \n",
       "...                ...                                    ...   \n",
       "149995           False                                  False   \n",
       "149996           False                                  False   \n",
       "149997            True                                  False   \n",
       "149998           False                                  False   \n",
       "149999           False                                  False   \n",
       "\n",
       "        number_of_times90_days_late  number_real_estate_loans_or_lines  \\\n",
       "0                             False                              False   \n",
       "1                             False                              False   \n",
       "2                             False                              False   \n",
       "3                             False                              False   \n",
       "4                             False                              False   \n",
       "...                             ...                                ...   \n",
       "149995                        False                              False   \n",
       "149996                        False                              False   \n",
       "149997                        False                              False   \n",
       "149998                        False                              False   \n",
       "149999                        False                              False   \n",
       "\n",
       "        number_of_time60-89_days_past_due_not_worse  number_of_dependents  \n",
       "0                                             False                 False  \n",
       "1                                             False                 False  \n",
       "2                                             False                 False  \n",
       "3                                             False                 False  \n",
       "4                                             False                 False  \n",
       "...                                             ...                   ...  \n",
       "149995                                        False                 False  \n",
       "149996                                        False                 False  \n",
       "149997                                        False                 False  \n",
       "149998                                        False                 False  \n",
       "149999                                        False                 False  \n",
       "\n",
       "[150000 rows x 11 columns]"
      ]
     },
     "execution_count": 18,
     "metadata": {},
     "output_type": "execute_result"
    }
   ],
   "source": [
    "borrowers.isna() #another option"
   ]
  },
  {
   "cell_type": "markdown",
   "metadata": {},
   "source": [
    "We can however combine this function with others in order to obtain the total number of missing data. For example, we can use .isnull().sum(). <br> These numbers return the number of missing values in each column."
   ]
  },
  {
   "cell_type": "code",
   "execution_count": 19,
   "metadata": {},
   "outputs": [
    {
     "name": "stdout",
     "output_type": "stream",
     "text": [
      "Missing values in each attribute: \n",
      "serious_dlqin2yrs                                  0\n",
      "revolving_utilization_of_unsecured_lines           0\n",
      "age                                                0\n",
      "number_of_time30-59_days_past_due_not_worse        0\n",
      "debt_ratio                                         0\n",
      "monthly_income                                 29731\n",
      "number_of_open_credit_lines_and_loans              0\n",
      "number_of_times90_days_late                        0\n",
      "number_real_estate_loans_or_lines                  0\n",
      "number_of_time60-89_days_past_due_not_worse        0\n",
      "number_of_dependents                               0\n",
      "dtype: int64\n"
     ]
    }
   ],
   "source": [
    "print(f\"Missing values in each attribute: \\n{borrowers.isnull().sum()}\")"
   ]
  },
  {
   "cell_type": "markdown",
   "metadata": {},
   "source": [
    "Graphical representation of the missing values."
   ]
  },
  {
   "cell_type": "code",
   "execution_count": 20,
   "metadata": {},
   "outputs": [
    {
     "data": {
      "image/png": "[encoded data removed]",
      "text/plain": [
       "<Figure size 432x288 with 1 Axes>"
      ]
     },
     "metadata": {},
     "output_type": "display_data"
    }
   ],
   "source": [
    "x = borrowers.columns\n",
    "y = borrowers.isnull().sum()\n",
    "sns.set()\n",
    "sns.barplot(x,y, palette='summer').set_title('Missing Values Distribution')\n",
    "ax = plt.gca()\n",
    "for p in ax.patches:\n",
    "    height = p.get_height()\n",
    "    ax.text(p.get_x() + p.get_width()/2.,\n",
    "            height + 2,\n",
    "            int(height),\n",
    "            fontsize=10, ha='center', va='bottom')\n",
    "ax.set_xlabel(\"Data Attributes\")\n",
    "ax.set_ylabel(\"# Missing records for each attribute\")\n",
    "plt.xticks(rotation=90)\n",
    "plt.show()"
   ]
  },
  {
   "cell_type": "markdown",
   "metadata": {},
   "source": [
    "Let's see the lost values in percentages."
   ]
  },
  {
   "cell_type": "code",
   "execution_count": 21,
   "metadata": {},
   "outputs": [
    {
     "name": "stdout",
     "output_type": "stream",
     "text": [
      "Missing values in each attribute: \n",
      "serious_dlqin2yrs                               0.000000\n",
      "revolving_utilization_of_unsecured_lines        0.000000\n",
      "age                                             0.000000\n",
      "number_of_time30-59_days_past_due_not_worse     0.000000\n",
      "debt_ratio                                      0.000000\n",
      "monthly_income                                 19.820667\n",
      "number_of_open_credit_lines_and_loans           0.000000\n",
      "number_of_times90_days_late                     0.000000\n",
      "number_real_estate_loans_or_lines               0.000000\n",
      "number_of_time60-89_days_past_due_not_worse     0.000000\n",
      "number_of_dependents                            0.000000\n",
      "dtype: float64\n"
     ]
    }
   ],
   "source": [
    "print(f\"Missing values in each attribute: \\n{borrowers.isnull().sum() / row * 100}\")"
   ]
  },
  {
   "cell_type": "markdown",
   "metadata": {},
   "source": [
    "**Observations:**"
   ]
  },
  {
   "cell_type": "markdown",
   "metadata": {},
   "source": [
    "- `monthly_income` attribute has large number of missing values. We can see that the variable has 29731 null values. And this represent the 20% approx.\n",
    "- We can eliminate all the rows that have missing values, but this requires an analysis of the amount of missing data and its impact first. <br>\n",
    "- From our intuition, we know that `monthly_income` is an important predictor for credit scoring, therefore we won’t drop those data-points and find the best strategy to replace NULL values.<br>\n",
    "- It may be necessary to complete some of them with one of the following methods: mean, median, mode, k-nearest neighbor.\n",
    "<br><br>\n",
    "Let's see some statistical details of `monthly_income` column of a DataFrame using the .describe () function."
   ]
  },
  {
   "cell_type": "code",
   "execution_count": 22,
   "metadata": {},
   "outputs": [
    {
     "data": {
      "text/plain": [
       "count    1.202690e+05\n",
       "mean     6.670221e+03\n",
       "std      1.438467e+04\n",
       "min      0.000000e+00\n",
       "25%      3.400000e+03\n",
       "50%      5.400000e+03\n",
       "75%      8.249000e+03\n",
       "max      3.008750e+06\n",
       "Name: monthly_income, dtype: float64"
      ]
     },
     "execution_count": 22,
     "metadata": {},
     "output_type": "execute_result"
    }
   ],
   "source": [
    "borrowers['monthly_income'].describe()"
   ]
  },
  {
   "cell_type": "code",
   "execution_count": 23,
   "metadata": {},
   "outputs": [
    {
     "data": {
      "text/plain": [
       "5400.0"
      ]
     },
     "execution_count": 23,
     "metadata": {},
     "output_type": "execute_result"
    }
   ],
   "source": [
    "borrowers_median = borrowers['monthly_income'].median()\n",
    "borrowers_median"
   ]
  },
  {
   "cell_type": "code",
   "execution_count": 24,
   "metadata": {},
   "outputs": [
    {
     "data": {
      "text/plain": [
       "6670.221237392844"
      ]
     },
     "execution_count": 24,
     "metadata": {},
     "output_type": "execute_result"
    }
   ],
   "source": [
    "borrowers_mean = borrowers['monthly_income'].mean()\n",
    "borrowers_mean"
   ]
  },
  {
   "cell_type": "markdown",
   "metadata": {},
   "source": [
    "**We will test the whole process with a new dataframes with null values replaced by the mean.**"
   ]
  },
  {
   "cell_type": "code",
   "execution_count": 25,
   "metadata": {},
   "outputs": [],
   "source": [
    "# Reemplazar ésta parte por el uso de \n",
    "# from sklearn.impute import SimpleImputer"
   ]
  },
  {
   "cell_type": "code",
   "execution_count": 26,
   "metadata": {},
   "outputs": [],
   "source": [
    "borrowers_with_mean= borrowers.apply(lambda x: x.fillna(x.mean()),axis=0)"
   ]
  },
  {
   "cell_type": "markdown",
   "metadata": {},
   "source": [
    "**Verify that there are no more null values.**"
   ]
  },
  {
   "cell_type": "code",
   "execution_count": 27,
   "metadata": {},
   "outputs": [
    {
     "data": {
      "text/plain": [
       "serious_dlqin2yrs                              0\n",
       "revolving_utilization_of_unsecured_lines       0\n",
       "age                                            0\n",
       "number_of_time30-59_days_past_due_not_worse    0\n",
       "debt_ratio                                     0\n",
       "monthly_income                                 0\n",
       "number_of_open_credit_lines_and_loans          0\n",
       "number_of_times90_days_late                    0\n",
       "number_real_estate_loans_or_lines              0\n",
       "number_of_time60-89_days_past_due_not_worse    0\n",
       "number_of_dependents                           0\n",
       "dtype: int64"
      ]
     },
     "execution_count": 27,
     "metadata": {},
     "output_type": "execute_result"
    }
   ],
   "source": [
    "borrowers_with_mean.isnull().sum()"
   ]
  },
  {
   "cell_type": "markdown",
   "metadata": {},
   "source": [
    "The number of records has not been changed."
   ]
  },
  {
   "cell_type": "code",
   "execution_count": 28,
   "metadata": {},
   "outputs": [
    {
     "data": {
      "text/plain": [
       "(150000, 11)"
      ]
     },
     "execution_count": 28,
     "metadata": {},
     "output_type": "execute_result"
    }
   ],
   "source": [
    "borrowers_with_mean.shape"
   ]
  },
  {
   "cell_type": "markdown",
   "metadata": {},
   "source": [
    "The original dataframe was not modified."
   ]
  },
  {
   "cell_type": "code",
   "execution_count": 29,
   "metadata": {},
   "outputs": [
    {
     "data": {
      "text/plain": [
       "serious_dlqin2yrs                                  0\n",
       "revolving_utilization_of_unsecured_lines           0\n",
       "age                                                0\n",
       "number_of_time30-59_days_past_due_not_worse        0\n",
       "debt_ratio                                         0\n",
       "monthly_income                                 29731\n",
       "number_of_open_credit_lines_and_loans              0\n",
       "number_of_times90_days_late                        0\n",
       "number_real_estate_loans_or_lines                  0\n",
       "number_of_time60-89_days_past_due_not_worse        0\n",
       "number_of_dependents                               0\n",
       "dtype: int64"
      ]
     },
     "execution_count": 29,
     "metadata": {},
     "output_type": "execute_result"
    }
   ],
   "source": [
    "borrowers.isnull().sum()"
   ]
  },
  {
   "cell_type": "markdown",
   "metadata": {},
   "source": [
    "#### 2.2 Outliers Detection"
   ]
  },
  {
   "cell_type": "markdown",
   "metadata": {},
   "source": [
    "- **`age` attribute**"
   ]
  },
  {
   "cell_type": "markdown",
   "metadata": {},
   "source": [
    "The `age` variable has a record with value '0', as it is a single record we decided to eliminate it."
   ]
  },
  {
   "cell_type": "code",
   "execution_count": 30,
   "metadata": {},
   "outputs": [],
   "source": [
    "borrowers_with_mean.drop(borrowers_with_mean[borrowers_with_mean.age == 0].index, inplace=True)"
   ]
  },
  {
   "cell_type": "markdown",
   "metadata": {},
   "source": [
    "- **`number_of_time30-59_days_past_due_not_worse` attribute**"
   ]
  },
  {
   "cell_type": "markdown",
   "metadata": {},
   "source": [
    "The `number_of_time30-59_days_past_due_not_worse` variable has a record with value '96' and '98', we replace them with the median value."
   ]
  },
  {
   "cell_type": "code",
   "execution_count": 31,
   "metadata": {},
   "outputs": [],
   "source": [
    "import collections"
   ]
  },
  {
   "cell_type": "code",
   "execution_count": 32,
   "metadata": {},
   "outputs": [
    {
     "data": {
      "text/plain": [
       "Counter({2: 4598,\n",
       "         0: 126018,\n",
       "         1: 16032,\n",
       "         3: 1754,\n",
       "         4: 747,\n",
       "         5: 342,\n",
       "         7: 54,\n",
       "         10: 4,\n",
       "         6: 140,\n",
       "         98: 264,\n",
       "         12: 2,\n",
       "         8: 25,\n",
       "         9: 12,\n",
       "         96: 5,\n",
       "         13: 1,\n",
       "         11: 1})"
      ]
     },
     "execution_count": 32,
     "metadata": {},
     "output_type": "execute_result"
    }
   ],
   "source": [
    "collections.Counter(borrowers_with_mean['number_of_time30-59_days_past_due_not_worse'])"
   ]
  },
  {
   "cell_type": "code",
   "execution_count": 33,
   "metadata": {},
   "outputs": [],
   "source": [
    "def outlier_days_past_due_not_worse(attribute):\n",
    "    New = []\n",
    "    med = borrowers_with_mean[attribute].median()\n",
    "    for val in borrowers_with_mean[attribute]:\n",
    "        if ((val == 98) | (val == 96)):\n",
    "            New.append(med)\n",
    "        else:\n",
    "            New.append(val)\n",
    "    borrowers_with_mean[attribute] = New\n",
    "    #return borrowers_with_mean"
   ]
  },
  {
   "cell_type": "code",
   "execution_count": 34,
   "metadata": {},
   "outputs": [],
   "source": [
    "outlier_days_past_due_not_worse('number_of_time30-59_days_past_due_not_worse')"
   ]
  },
  {
   "cell_type": "code",
   "execution_count": 35,
   "metadata": {},
   "outputs": [
    {
     "data": {
      "text/plain": [
       "Counter({2.0: 4598,\n",
       "         0.0: 126287,\n",
       "         1.0: 16032,\n",
       "         3.0: 1754,\n",
       "         4.0: 747,\n",
       "         5.0: 342,\n",
       "         7.0: 54,\n",
       "         10.0: 4,\n",
       "         6.0: 140,\n",
       "         12.0: 2,\n",
       "         8.0: 25,\n",
       "         9.0: 12,\n",
       "         13.0: 1,\n",
       "         11.0: 1})"
      ]
     },
     "execution_count": 35,
     "metadata": {},
     "output_type": "execute_result"
    }
   ],
   "source": [
    "collections.Counter(borrowers_with_mean['number_of_time30-59_days_past_due_not_worse'])"
   ]
  },
  {
   "cell_type": "markdown",
   "metadata": {},
   "source": [
    "Apply the same function to the other attributes of type \"days_past_due_not_worse\"."
   ]
  },
  {
   "cell_type": "code",
   "execution_count": 36,
   "metadata": {},
   "outputs": [],
   "source": [
    "outlier_days_past_due_not_worse('number_of_times90_days_late')"
   ]
  },
  {
   "cell_type": "code",
   "execution_count": 37,
   "metadata": {},
   "outputs": [],
   "source": [
    "outlier_days_past_due_not_worse('number_of_time60-89_days_past_due_not_worse')"
   ]
  },
  {
   "cell_type": "code",
   "execution_count": 38,
   "metadata": {},
   "outputs": [
    {
     "data": {
      "text/plain": [
       "Counter({0.0: 141930,\n",
       "         1.0: 5243,\n",
       "         3.0: 667,\n",
       "         2.0: 1555,\n",
       "         5.0: 131,\n",
       "         4.0: 291,\n",
       "         10.0: 8,\n",
       "         9.0: 19,\n",
       "         6.0: 80,\n",
       "         7.0: 38,\n",
       "         8.0: 21,\n",
       "         15.0: 2,\n",
       "         11.0: 5,\n",
       "         13.0: 4,\n",
       "         14.0: 2,\n",
       "         17.0: 1,\n",
       "         12.0: 2})"
      ]
     },
     "execution_count": 38,
     "metadata": {},
     "output_type": "execute_result"
    }
   ],
   "source": [
    "collections.Counter(borrowers_with_mean['number_of_times90_days_late'])"
   ]
  },
  {
   "cell_type": "code",
   "execution_count": 39,
   "metadata": {},
   "outputs": [
    {
     "data": {
      "text/plain": [
       "Counter({0.0: 142664,\n",
       "         1.0: 5731,\n",
       "         2.0: 1118,\n",
       "         5.0: 34,\n",
       "         3.0: 318,\n",
       "         4.0: 105,\n",
       "         6.0: 16,\n",
       "         7.0: 9,\n",
       "         8.0: 2,\n",
       "         11.0: 1,\n",
       "         9.0: 1})"
      ]
     },
     "execution_count": 39,
     "metadata": {},
     "output_type": "execute_result"
    }
   ],
   "source": [
    "collections.Counter(borrowers_with_mean['number_of_time60-89_days_past_due_not_worse'])"
   ]
  },
  {
   "cell_type": "markdown",
   "metadata": {},
   "source": [
    "**Descriptive Statistics After Data Cleaning**"
   ]
  },
  {
   "cell_type": "code",
   "execution_count": 40,
   "metadata": {},
   "outputs": [
    {
     "data": {
      "text/html": [
       "<div>\n",
       "<style scoped>\n",
       "    .dataframe tbody tr th:only-of-type {\n",
       "        vertical-align: middle;\n",
       "    }\n",
       "\n",
       "    .dataframe tbody tr th {\n",
       "        vertical-align: top;\n",
       "    }\n",
       "\n",
       "    .dataframe thead th {\n",
       "        text-align: right;\n",
       "    }\n",
       "</style>\n",
       "<table border=\"1\" class=\"dataframe\">\n",
       "  <thead>\n",
       "    <tr style=\"text-align: right;\">\n",
       "      <th></th>\n",
       "      <th>serious_dlqin2yrs</th>\n",
       "      <th>revolving_utilization_of_unsecured_lines</th>\n",
       "      <th>age</th>\n",
       "      <th>number_of_time30-59_days_past_due_not_worse</th>\n",
       "      <th>debt_ratio</th>\n",
       "      <th>monthly_income</th>\n",
       "      <th>number_of_open_credit_lines_and_loans</th>\n",
       "      <th>number_of_times90_days_late</th>\n",
       "      <th>number_real_estate_loans_or_lines</th>\n",
       "      <th>number_of_time60-89_days_past_due_not_worse</th>\n",
       "      <th>number_of_dependents</th>\n",
       "    </tr>\n",
       "  </thead>\n",
       "  <tbody>\n",
       "    <tr>\n",
       "      <th>count</th>\n",
       "      <td>149999.000000</td>\n",
       "      <td>149999.000000</td>\n",
       "      <td>149999.000000</td>\n",
       "      <td>149999.000000</td>\n",
       "      <td>149999.000000</td>\n",
       "      <td>1.499990e+05</td>\n",
       "      <td>149999.000000</td>\n",
       "      <td>149999.000000</td>\n",
       "      <td>149999.000000</td>\n",
       "      <td>149999.000000</td>\n",
       "      <td>149999.000000</td>\n",
       "    </tr>\n",
       "    <tr>\n",
       "      <th>mean</th>\n",
       "      <td>0.066840</td>\n",
       "      <td>6.048472</td>\n",
       "      <td>52.295555</td>\n",
       "      <td>0.245348</td>\n",
       "      <td>353.007426</td>\n",
       "      <td>6.670226e+03</td>\n",
       "      <td>8.452776</td>\n",
       "      <td>0.090294</td>\n",
       "      <td>1.018233</td>\n",
       "      <td>0.064707</td>\n",
       "      <td>0.737405</td>\n",
       "    </tr>\n",
       "    <tr>\n",
       "      <th>std</th>\n",
       "      <td>0.249746</td>\n",
       "      <td>249.756203</td>\n",
       "      <td>14.771298</td>\n",
       "      <td>0.697231</td>\n",
       "      <td>2037.825113</td>\n",
       "      <td>1.288049e+04</td>\n",
       "      <td>5.145964</td>\n",
       "      <td>0.485108</td>\n",
       "      <td>1.129772</td>\n",
       "      <td>0.329790</td>\n",
       "      <td>1.107020</td>\n",
       "    </tr>\n",
       "    <tr>\n",
       "      <th>min</th>\n",
       "      <td>0.000000</td>\n",
       "      <td>0.000000</td>\n",
       "      <td>21.000000</td>\n",
       "      <td>0.000000</td>\n",
       "      <td>0.000000</td>\n",
       "      <td>0.000000e+00</td>\n",
       "      <td>0.000000</td>\n",
       "      <td>0.000000</td>\n",
       "      <td>0.000000</td>\n",
       "      <td>0.000000</td>\n",
       "      <td>0.000000</td>\n",
       "    </tr>\n",
       "    <tr>\n",
       "      <th>25%</th>\n",
       "      <td>0.000000</td>\n",
       "      <td>0.029867</td>\n",
       "      <td>41.000000</td>\n",
       "      <td>0.000000</td>\n",
       "      <td>0.175074</td>\n",
       "      <td>3.903000e+03</td>\n",
       "      <td>5.000000</td>\n",
       "      <td>0.000000</td>\n",
       "      <td>0.000000</td>\n",
       "      <td>0.000000</td>\n",
       "      <td>0.000000</td>\n",
       "    </tr>\n",
       "    <tr>\n",
       "      <th>50%</th>\n",
       "      <td>0.000000</td>\n",
       "      <td>0.154176</td>\n",
       "      <td>52.000000</td>\n",
       "      <td>0.000000</td>\n",
       "      <td>0.366503</td>\n",
       "      <td>6.600000e+03</td>\n",
       "      <td>8.000000</td>\n",
       "      <td>0.000000</td>\n",
       "      <td>1.000000</td>\n",
       "      <td>0.000000</td>\n",
       "      <td>0.000000</td>\n",
       "    </tr>\n",
       "    <tr>\n",
       "      <th>75%</th>\n",
       "      <td>0.000000</td>\n",
       "      <td>0.559044</td>\n",
       "      <td>63.000000</td>\n",
       "      <td>0.000000</td>\n",
       "      <td>0.868257</td>\n",
       "      <td>7.400000e+03</td>\n",
       "      <td>11.000000</td>\n",
       "      <td>0.000000</td>\n",
       "      <td>2.000000</td>\n",
       "      <td>0.000000</td>\n",
       "      <td>1.000000</td>\n",
       "    </tr>\n",
       "    <tr>\n",
       "      <th>max</th>\n",
       "      <td>1.000000</td>\n",
       "      <td>50708.000000</td>\n",
       "      <td>109.000000</td>\n",
       "      <td>13.000000</td>\n",
       "      <td>329664.000000</td>\n",
       "      <td>3.008750e+06</td>\n",
       "      <td>58.000000</td>\n",
       "      <td>17.000000</td>\n",
       "      <td>54.000000</td>\n",
       "      <td>11.000000</td>\n",
       "      <td>20.000000</td>\n",
       "    </tr>\n",
       "  </tbody>\n",
       "</table>\n",
       "</div>"
      ],
      "text/plain": [
       "       serious_dlqin2yrs  revolving_utilization_of_unsecured_lines  \\\n",
       "count      149999.000000                             149999.000000   \n",
       "mean            0.066840                                  6.048472   \n",
       "std             0.249746                                249.756203   \n",
       "min             0.000000                                  0.000000   \n",
       "25%             0.000000                                  0.029867   \n",
       "50%             0.000000                                  0.154176   \n",
       "75%             0.000000                                  0.559044   \n",
       "max             1.000000                              50708.000000   \n",
       "\n",
       "                 age  number_of_time30-59_days_past_due_not_worse  \\\n",
       "count  149999.000000                                149999.000000   \n",
       "mean       52.295555                                     0.245348   \n",
       "std        14.771298                                     0.697231   \n",
       "min        21.000000                                     0.000000   \n",
       "25%        41.000000                                     0.000000   \n",
       "50%        52.000000                                     0.000000   \n",
       "75%        63.000000                                     0.000000   \n",
       "max       109.000000                                    13.000000   \n",
       "\n",
       "          debt_ratio  monthly_income  number_of_open_credit_lines_and_loans  \\\n",
       "count  149999.000000    1.499990e+05                          149999.000000   \n",
       "mean      353.007426    6.670226e+03                               8.452776   \n",
       "std      2037.825113    1.288049e+04                               5.145964   \n",
       "min         0.000000    0.000000e+00                               0.000000   \n",
       "25%         0.175074    3.903000e+03                               5.000000   \n",
       "50%         0.366503    6.600000e+03                               8.000000   \n",
       "75%         0.868257    7.400000e+03                              11.000000   \n",
       "max    329664.000000    3.008750e+06                              58.000000   \n",
       "\n",
       "       number_of_times90_days_late  number_real_estate_loans_or_lines  \\\n",
       "count                149999.000000                      149999.000000   \n",
       "mean                      0.090294                           1.018233   \n",
       "std                       0.485108                           1.129772   \n",
       "min                       0.000000                           0.000000   \n",
       "25%                       0.000000                           0.000000   \n",
       "50%                       0.000000                           1.000000   \n",
       "75%                       0.000000                           2.000000   \n",
       "max                      17.000000                          54.000000   \n",
       "\n",
       "       number_of_time60-89_days_past_due_not_worse  number_of_dependents  \n",
       "count                                149999.000000         149999.000000  \n",
       "mean                                      0.064707              0.737405  \n",
       "std                                       0.329790              1.107020  \n",
       "min                                       0.000000              0.000000  \n",
       "25%                                       0.000000              0.000000  \n",
       "50%                                       0.000000              0.000000  \n",
       "75%                                       0.000000              1.000000  \n",
       "max                                      11.000000             20.000000  "
      ]
     },
     "execution_count": 40,
     "metadata": {},
     "output_type": "execute_result"
    }
   ],
   "source": [
    "borrowers_with_mean.describe()"
   ]
  },
  {
   "cell_type": "markdown",
   "metadata": {},
   "source": [
    "- After data cleaning total number of cases down to 149999.\n",
    "- The minimum value of the `age` attribute is no longer `0` but `21`.\n",
    "- Outliers in variables `revolving_utilization_of_unsecured_lines`, `debt_ratio` and `monthly_income` to be removed through binning."
   ]
  },
  {
   "cell_type": "markdown",
   "metadata": {},
   "source": [
    "**Let's see if some of the variables have values that can be described as outliers (attributes with high Standard Deviation)."
   ]
  },
  {
   "cell_type": "markdown",
   "metadata": {},
   "source": [
    "- **`revolving_utilization_of_unsecured_lines` attribute outliers**"
   ]
  },
  {
   "cell_type": "code",
   "execution_count": 41,
   "metadata": {},
   "outputs": [
    {
     "data": {
      "image/png": "[encoded data removed]",
      "text/plain": [
       "<Figure size 432x288 with 1 Axes>"
      ]
     },
     "metadata": {},
     "output_type": "display_data"
    }
   ],
   "source": [
    "sns.boxplot(x='revolving_utilization_of_unsecured_lines', data=borrowers_with_mean, color='#1ABC9C')\n",
    "sns.despine()"
   ]
  },
  {
   "cell_type": "markdown",
   "metadata": {},
   "source": [
    "- **`debt_ratio` attribute outliers**"
   ]
  },
  {
   "cell_type": "code",
   "execution_count": 42,
   "metadata": {},
   "outputs": [
    {
     "data": {
      "image/png": "[encoded data removed]",
      "text/plain": [
       "<Figure size 432x288 with 1 Axes>"
      ]
     },
     "metadata": {},
     "output_type": "display_data"
    }
   ],
   "source": [
    "sns.boxplot(x='debt_ratio', data=borrowers_with_mean, color='#1ABC9C')\n",
    "sns.despine()"
   ]
  },
  {
   "cell_type": "markdown",
   "metadata": {},
   "source": [
    "- **`monthly_income` attribute outliers**"
   ]
  },
  {
   "cell_type": "code",
   "execution_count": 43,
   "metadata": {},
   "outputs": [
    {
     "data": {
      "image/png": "[encoded data removed]",
      "text/plain": [
       "<Figure size 432x288 with 1 Axes>"
      ]
     },
     "metadata": {},
     "output_type": "display_data"
    }
   ],
   "source": [
    "sns.boxplot(x='monthly_income', data=borrowers_with_mean, color='#1ABC9C')\n",
    "sns.despine()"
   ]
  },
  {
   "cell_type": "markdown",
   "metadata": {},
   "source": [
    "- Way to decrease outliers:\n",
    "    - z-score\n",
    "        - Consider that any value that is far from the average=0 is an outlier.\n",
    "        - It depends on the mean and the standard deviation to measure centrality and dispersion, which are very affected by outliers. If the variables do not have a normal distribution, I end up removing many outliers from the dataset.\n",
    "        - It does not work well in very small datasets.\n",
    "    - Interquartile range: \n",
    "        - It is robust and not as sensitive to outliers."
   ]
  },
  {
   "cell_type": "code",
   "execution_count": 44,
   "metadata": {},
   "outputs": [],
   "source": [
    "from scipy import stats"
   ]
  },
  {
   "cell_type": "code",
   "execution_count": 45,
   "metadata": {},
   "outputs": [
    {
     "name": "stdout",
     "output_type": "stream",
     "text": [
      "[[3.73644234 0.02115008 0.49390241 ... 4.40954773 0.19620791 1.14053851]\n",
      " [0.26763426 0.02038523 0.83239782 ... 0.90127648 0.19620791 0.2372097 ]\n",
      " [0.26763426 0.02158228 0.96779599 ... 0.90127648 0.19620791 0.6661191 ]\n",
      " ...\n",
      " [0.26763426 0.02323244 0.38618568 ... 0.01613911 0.19620791 0.6661191 ]\n",
      " [0.26763426 0.02421758 1.50938866 ... 0.90127648 0.19620791 0.6661191 ]\n",
      " [0.26763426 0.02081312 0.79238018 ... 0.86899826 0.19620791 0.6661191 ]]\n"
     ]
    }
   ],
   "source": [
    "z = np.abs(stats.zscore(borrowers_with_mean))\n",
    "print(z)"
   ]
  },
  {
   "cell_type": "code",
   "execution_count": 53,
   "metadata": {},
   "outputs": [
    {
     "name": "stdout",
     "output_type": "stream",
     "text": [
      "(array([     0,      0,      0, ..., 149977, 149978, 149980], dtype=int64), array([ 0,  3,  8, ...,  3,  0, 10], dtype=int64))\n"
     ]
    }
   ],
   "source": [
    "threshold = 3\n",
    "print(np.where(z > 2.5))"
   ]
  },
  {
   "cell_type": "code",
   "execution_count": 54,
   "metadata": {},
   "outputs": [],
   "source": [
    "borrowers_with_mean_o = borrowers_with_mean[(z < 2.5).all(axis=1)]"
   ]
  },
  {
   "cell_type": "code",
   "execution_count": 55,
   "metadata": {},
   "outputs": [
    {
     "data": {
      "text/html": [
       "<div>\n",
       "<style scoped>\n",
       "    .dataframe tbody tr th:only-of-type {\n",
       "        vertical-align: middle;\n",
       "    }\n",
       "\n",
       "    .dataframe tbody tr th {\n",
       "        vertical-align: top;\n",
       "    }\n",
       "\n",
       "    .dataframe thead th {\n",
       "        text-align: right;\n",
       "    }\n",
       "</style>\n",
       "<table border=\"1\" class=\"dataframe\">\n",
       "  <thead>\n",
       "    <tr style=\"text-align: right;\">\n",
       "      <th></th>\n",
       "      <th>serious_dlqin2yrs</th>\n",
       "      <th>revolving_utilization_of_unsecured_lines</th>\n",
       "      <th>age</th>\n",
       "      <th>number_of_time30-59_days_past_due_not_worse</th>\n",
       "      <th>debt_ratio</th>\n",
       "      <th>monthly_income</th>\n",
       "      <th>number_of_open_credit_lines_and_loans</th>\n",
       "      <th>number_of_times90_days_late</th>\n",
       "      <th>number_real_estate_loans_or_lines</th>\n",
       "      <th>number_of_time60-89_days_past_due_not_worse</th>\n",
       "      <th>number_of_dependents</th>\n",
       "    </tr>\n",
       "  </thead>\n",
       "  <tbody>\n",
       "    <tr>\n",
       "      <th>count</th>\n",
       "      <td>120492.0</td>\n",
       "      <td>120492.000000</td>\n",
       "      <td>120492.000000</td>\n",
       "      <td>120492.000000</td>\n",
       "      <td>120492.000000</td>\n",
       "      <td>120492.000000</td>\n",
       "      <td>120492.000000</td>\n",
       "      <td>120492.000000</td>\n",
       "      <td>120492.000000</td>\n",
       "      <td>120492.0</td>\n",
       "      <td>120492.000000</td>\n",
       "    </tr>\n",
       "    <tr>\n",
       "      <th>mean</th>\n",
       "      <td>0.0</td>\n",
       "      <td>0.346679</td>\n",
       "      <td>52.896018</td>\n",
       "      <td>0.091492</td>\n",
       "      <td>292.702327</td>\n",
       "      <td>6281.865929</td>\n",
       "      <td>7.994771</td>\n",
       "      <td>0.018649</td>\n",
       "      <td>0.908849</td>\n",
       "      <td>0.0</td>\n",
       "      <td>0.618265</td>\n",
       "    </tr>\n",
       "    <tr>\n",
       "      <th>std</th>\n",
       "      <td>0.0</td>\n",
       "      <td>5.362397</td>\n",
       "      <td>14.894519</td>\n",
       "      <td>0.288308</td>\n",
       "      <td>820.863757</td>\n",
       "      <td>3752.713470</td>\n",
       "      <td>4.371158</td>\n",
       "      <td>0.135281</td>\n",
       "      <td>0.861305</td>\n",
       "      <td>0.0</td>\n",
       "      <td>0.928862</td>\n",
       "    </tr>\n",
       "    <tr>\n",
       "      <th>min</th>\n",
       "      <td>0.0</td>\n",
       "      <td>0.000000</td>\n",
       "      <td>21.000000</td>\n",
       "      <td>0.000000</td>\n",
       "      <td>0.000000</td>\n",
       "      <td>0.000000</td>\n",
       "      <td>0.000000</td>\n",
       "      <td>0.000000</td>\n",
       "      <td>0.000000</td>\n",
       "      <td>0.0</td>\n",
       "      <td>0.000000</td>\n",
       "    </tr>\n",
       "    <tr>\n",
       "      <th>25%</th>\n",
       "      <td>0.0</td>\n",
       "      <td>0.024323</td>\n",
       "      <td>42.000000</td>\n",
       "      <td>0.000000</td>\n",
       "      <td>0.165701</td>\n",
       "      <td>3900.000000</td>\n",
       "      <td>5.000000</td>\n",
       "      <td>0.000000</td>\n",
       "      <td>0.000000</td>\n",
       "      <td>0.0</td>\n",
       "      <td>0.000000</td>\n",
       "    </tr>\n",
       "    <tr>\n",
       "      <th>50%</th>\n",
       "      <td>0.0</td>\n",
       "      <td>0.114685</td>\n",
       "      <td>53.000000</td>\n",
       "      <td>0.000000</td>\n",
       "      <td>0.352152</td>\n",
       "      <td>6521.000000</td>\n",
       "      <td>7.000000</td>\n",
       "      <td>0.000000</td>\n",
       "      <td>1.000000</td>\n",
       "      <td>0.0</td>\n",
       "      <td>0.000000</td>\n",
       "    </tr>\n",
       "    <tr>\n",
       "      <th>75%</th>\n",
       "      <td>0.0</td>\n",
       "      <td>0.437138</td>\n",
       "      <td>63.000000</td>\n",
       "      <td>0.000000</td>\n",
       "      <td>0.862599</td>\n",
       "      <td>7175.000000</td>\n",
       "      <td>11.000000</td>\n",
       "      <td>0.000000</td>\n",
       "      <td>2.000000</td>\n",
       "      <td>0.0</td>\n",
       "      <td>1.000000</td>\n",
       "    </tr>\n",
       "    <tr>\n",
       "      <th>max</th>\n",
       "      <td>0.0</td>\n",
       "      <td>616.000000</td>\n",
       "      <td>89.000000</td>\n",
       "      <td>1.000000</td>\n",
       "      <td>5446.000000</td>\n",
       "      <td>38583.000000</td>\n",
       "      <td>21.000000</td>\n",
       "      <td>1.000000</td>\n",
       "      <td>3.000000</td>\n",
       "      <td>0.0</td>\n",
       "      <td>3.000000</td>\n",
       "    </tr>\n",
       "  </tbody>\n",
       "</table>\n",
       "</div>"
      ],
      "text/plain": [
       "       serious_dlqin2yrs  revolving_utilization_of_unsecured_lines  \\\n",
       "count           120492.0                             120492.000000   \n",
       "mean                 0.0                                  0.346679   \n",
       "std                  0.0                                  5.362397   \n",
       "min                  0.0                                  0.000000   \n",
       "25%                  0.0                                  0.024323   \n",
       "50%                  0.0                                  0.114685   \n",
       "75%                  0.0                                  0.437138   \n",
       "max                  0.0                                616.000000   \n",
       "\n",
       "                 age  number_of_time30-59_days_past_due_not_worse  \\\n",
       "count  120492.000000                                120492.000000   \n",
       "mean       52.896018                                     0.091492   \n",
       "std        14.894519                                     0.288308   \n",
       "min        21.000000                                     0.000000   \n",
       "25%        42.000000                                     0.000000   \n",
       "50%        53.000000                                     0.000000   \n",
       "75%        63.000000                                     0.000000   \n",
       "max        89.000000                                     1.000000   \n",
       "\n",
       "          debt_ratio  monthly_income  number_of_open_credit_lines_and_loans  \\\n",
       "count  120492.000000   120492.000000                          120492.000000   \n",
       "mean      292.702327     6281.865929                               7.994771   \n",
       "std       820.863757     3752.713470                               4.371158   \n",
       "min         0.000000        0.000000                               0.000000   \n",
       "25%         0.165701     3900.000000                               5.000000   \n",
       "50%         0.352152     6521.000000                               7.000000   \n",
       "75%         0.862599     7175.000000                              11.000000   \n",
       "max      5446.000000    38583.000000                              21.000000   \n",
       "\n",
       "       number_of_times90_days_late  number_real_estate_loans_or_lines  \\\n",
       "count                120492.000000                      120492.000000   \n",
       "mean                      0.018649                           0.908849   \n",
       "std                       0.135281                           0.861305   \n",
       "min                       0.000000                           0.000000   \n",
       "25%                       0.000000                           0.000000   \n",
       "50%                       0.000000                           1.000000   \n",
       "75%                       0.000000                           2.000000   \n",
       "max                       1.000000                           3.000000   \n",
       "\n",
       "       number_of_time60-89_days_past_due_not_worse  number_of_dependents  \n",
       "count                                     120492.0         120492.000000  \n",
       "mean                                           0.0              0.618265  \n",
       "std                                            0.0              0.928862  \n",
       "min                                            0.0              0.000000  \n",
       "25%                                            0.0              0.000000  \n",
       "50%                                            0.0              0.000000  \n",
       "75%                                            0.0              1.000000  \n",
       "max                                            0.0              3.000000  "
      ]
     },
     "execution_count": 55,
     "metadata": {},
     "output_type": "execute_result"
    }
   ],
   "source": [
    "borrowers_with_mean_o.describe()"
   ]
  },
  {
   "cell_type": "code",
   "execution_count": 56,
   "metadata": {},
   "outputs": [
    {
     "data": {
      "image/png": "[encoded data removed]",
      "text/plain": [
       "<Figure size 432x288 with 1 Axes>"
      ]
     },
     "metadata": {},
     "output_type": "display_data"
    }
   ],
   "source": [
    "sns.boxplot(x='revolving_utilization_of_unsecured_lines', data=borrowers_with_mean_o, color='#1ABC9C')\n",
    "sns.despine()"
   ]
  },
  {
   "cell_type": "code",
   "execution_count": 58,
   "metadata": {},
   "outputs": [
    {
     "data": {
      "image/png": "[encoded data removed]",
      "text/plain": [
       "<Figure size 432x288 with 1 Axes>"
      ]
     },
     "metadata": {},
     "output_type": "display_data"
    }
   ],
   "source": [
    "sns.boxplot(x='debt_ratio', data=borrowers_with_mean_o, color='#1ABC9C')\n",
    "sns.despine()"
   ]
  },
  {
   "cell_type": "code",
   "execution_count": 59,
   "metadata": {},
   "outputs": [
    {
     "data": {
      "image/png": "[encoded data removed]",
      "text/plain": [
       "<Figure size 432x288 with 1 Axes>"
      ]
     },
     "metadata": {},
     "output_type": "display_data"
    }
   ],
   "source": [
    "sns.boxplot(x='monthly_income', data=borrowers_with_mean_o, color='#1ABC9C')\n",
    "sns.despine()"
   ]
  },
  {
   "cell_type": "markdown",
   "metadata": {},
   "source": [
    "**Variable Binning**"
   ]
  },
  {
   "cell_type": "markdown",
   "metadata": {},
   "source": [
    "- Age: Age Binning containing bins for age group\n",
    "\n",
    "| Age Group | Bin | \n",
    "| --- | --- |\n",
    "| 21-30 | 1 |\n",
    "| 31-40 | 2 |\n",
    "| 41-50 | 3 |\n",
    "| 51-60 | 4 |\n",
    "| > 60 | 5 |\n",
    "\n",
    "\n",
    "- DebtRatio & RevolvingUtilizationOfUnsecuredLines: Created variables DebtRatio_Binning and RevolvingUtilizationOfUnsecuredLines_Binning with following cut off values:\n",
    "\n",
    "| Group | Bin | Remark |\n",
    "| --- | --- |  --- |\n",
    "| <=0.25  | 1 |  Good |\n",
    "| 0.25 - 0.50  | 2 |  Low Risk |\n",
    "| > 0.50 | 3 |  High Risk |\n",
    "\n",
    "\n",
    "- MonthlyIncome: Variable MonthlyIncome_Binning with 5 equal width bins"
   ]
  },
  {
   "cell_type": "code",
   "execution_count": null,
   "metadata": {},
   "outputs": [],
   "source": []
  },
  {
   "cell_type": "code",
   "execution_count": null,
   "metadata": {},
   "outputs": [],
   "source": []
  },
  {
   "cell_type": "markdown",
   "metadata": {},
   "source": [
    "### Exploratory Analysis"
   ]
  },
  {
   "cell_type": "markdown",
   "metadata": {},
   "source": [
    "### Delinquency over different categories"
   ]
  },
  {
   "cell_type": "markdown",
   "metadata": {},
   "source": [
    "**a) Age**"
   ]
  },
  {
   "cell_type": "code",
   "execution_count": 49,
   "metadata": {},
   "outputs": [
    {
     "ename": "SyntaxError",
     "evalue": "invalid syntax (<ipython-input-49-bf65e700db4b>, line 1)",
     "output_type": "error",
     "traceback": [
      "\u001b[1;36m  File \u001b[1;32m\"<ipython-input-49-bf65e700db4b>\"\u001b[1;36m, line \u001b[1;32m1\u001b[0m\n\u001b[1;33m    Age_Binning * SeriousDlqin2yrs Crosstabulation\u001b[0m\n\u001b[1;37m                                                 ^\u001b[0m\n\u001b[1;31mSyntaxError\u001b[0m\u001b[1;31m:\u001b[0m invalid syntax\n"
     ]
    }
   ],
   "source": [
    "Age_Binning * SeriousDlqin2yrs Crosstabulation\n",
    "\n",
    "# Hacer gráfico Age vs Delinquency"
   ]
  },
  {
   "cell_type": "markdown",
   "metadata": {},
   "source": [
    "**Observations:**\n",
    "- Maximum borrowers from age group 60+\n",
    "- Delinquency risk is highest for age group of 41-50 and Lowest in 21-30 age group."
   ]
  },
  {
   "cell_type": "markdown",
   "metadata": {},
   "source": [
    "**b) Number of Dependents**"
   ]
  },
  {
   "cell_type": "code",
   "execution_count": null,
   "metadata": {},
   "outputs": [],
   "source": [
    "NumberOfDependents * SeriousDlqin2yrs Crosstabulation"
   ]
  },
  {
   "cell_type": "markdown",
   "metadata": {},
   "source": [
    "**Observations:**\n",
    "- Around 60% data have number of dependents as 0; Delinquency count and percentage also highest for this group.\n",
    "- Total percentage share of data with dependents greater than 3 is only around 2%."
   ]
  },
  {
   "cell_type": "markdown",
   "metadata": {},
   "source": [
    "**c) Debt Ratio**"
   ]
  },
  {
   "cell_type": "code",
   "execution_count": null,
   "metadata": {},
   "outputs": [],
   "source": [
    "DebtRatio (Binned) * SeriousDlqin2yrs Crosstabulation"
   ]
  },
  {
   "cell_type": "markdown",
   "metadata": {},
   "source": [
    "**Observations:**\n",
    "- Around 44% of Delinquency from group with Debt Ratio > 0.5"
   ]
  },
  {
   "cell_type": "markdown",
   "metadata": {},
   "source": [
    "**d) RevolvingUtilizationOfCreditLines**"
   ]
  },
  {
   "cell_type": "code",
   "execution_count": null,
   "metadata": {},
   "outputs": [],
   "source": [
    "RevolvingUtilizationOfUnsecuredLines (Binned) * SeriousDlqin2yrs Crosstabulation"
   ]
  },
  {
   "cell_type": "markdown",
   "metadata": {},
   "source": [
    "**Observations:**\n",
    "- Around 69% of Delinquency from group with RevolvingUtilizationOfCreditLines > 0.5"
   ]
  },
  {
   "cell_type": "markdown",
   "metadata": {},
   "source": [
    "**e) Monthly Income**"
   ]
  },
  {
   "cell_type": "code",
   "execution_count": null,
   "metadata": {},
   "outputs": [],
   "source": [
    "MonthlyIncome (Binned) * SeriousDlqin2yrs Crosstabulation"
   ]
  },
  {
   "cell_type": "markdown",
   "metadata": {},
   "source": [
    "**Observations:**\n",
    "- More than 50% of defaulters are accounted by lower 40% of the income range.\n",
    "- Other 3 groups have more or less same percentage of defaulters."
   ]
  },
  {
   "cell_type": "code",
   "execution_count": null,
   "metadata": {},
   "outputs": [],
   "source": [
    "Monthly Income vs. Other Financial Variables # GRAFICAR"
   ]
  },
  {
   "cell_type": "markdown",
   "metadata": {},
   "source": [
    "All parameters below have similar pattern: low income range attributing to high values of debt indicators.\n",
    "    \n",
    "i) RevolvingUtilizationOfUnecuredLines, <br>\n",
    "ii) DebtRatio, <br>\n",
    "iii) NumberOfTime30-59DaysPastDueNotWorse,  <br>\n",
    "iv) NumberOfTimes90DaysLate,  <br>\n",
    "v) NumberOfTime60-089DaysPastDueNotWorse,  <br>\n",
    "vi) NumberOfOpenCreditLinesAndLoans,  <br>\n",
    "vii) NumberOfRealEstateLoansOrLines"
   ]
  },
  {
   "cell_type": "markdown",
   "metadata": {},
   "source": [
    "**Comparison of the distributions of the three dataframes without null values**"
   ]
  },
  {
   "cell_type": "code",
   "execution_count": null,
   "metadata": {},
   "outputs": [],
   "source": [
    "sns.distplot(borrowers_dropna['monthly_income'], color='#1ABC9C', label='Without null Values', bins=1)\n",
    "sns.distplot(borrowers_with_mean['monthly_income'], color='#EB984E', label='With mean replacing null values', bins=1)\n",
    "sns.distplot(borrowers_with_median['monthly_income'], color='#F4D03F', label='With mean replacing null values', bins=1)\n",
    "plt.xlabel('Monthly Income', size=14)\n",
    "plt.legend()\n",
    "sns.despine()"
   ]
  },
  {
   "cell_type": "code",
   "execution_count": null,
   "metadata": {},
   "outputs": [],
   "source": [
    "borrowers_dropna['monthly_income'].describe()"
   ]
  },
  {
   "cell_type": "code",
   "execution_count": null,
   "metadata": {},
   "outputs": [],
   "source": [
    "plt.figure()\n",
    "sns.distplot(borrowers_dropna[\"monthly_income\"], color=\"#5ea88e\", bins=1)\n",
    "plt.xlabel('monthly_income')\n",
    "plt.ylabel('Frequency')\n",
    "sns.despine()\n",
    "plt.show()"
   ]
  },
  {
   "cell_type": "code",
   "execution_count": null,
   "metadata": {},
   "outputs": [],
   "source": [
    "borrowers_dropna['monthly_income'].plot()"
   ]
  },
  {
   "cell_type": "code",
   "execution_count": null,
   "metadata": {},
   "outputs": [],
   "source": [
    "borrowers['age'].describe()"
   ]
  },
  {
   "cell_type": "code",
   "execution_count": null,
   "metadata": {},
   "outputs": [],
   "source": [
    "plt.figure()\n",
    "sns.distplot(borrowers_dropna[\"age\"], color=\"#5ea88e\", bins=1)\n",
    "plt.xlabel('monthly_income')\n",
    "plt.ylabel('Frequency')\n",
    "sns.despine()\n",
    "plt.show()"
   ]
  },
  {
   "cell_type": "code",
   "execution_count": null,
   "metadata": {},
   "outputs": [],
   "source": [
    "def histograma(variable, color):\n",
    "    plt.figure()\n",
    "    name = variable.name\n",
    "    plt.hist(variable, color=color, alpha=0.5, bins=20)\n",
    "    plt.xlabel(name)\n",
    "    plt.ylabel('Events')\n",
    "    plt.title(f'Distribucion de la variable {name}')\n",
    "    plt.gca().spines['right'].set_visible(False)\n",
    "    plt.gca().spines['top'].set_visible(False)\n",
    "    plt.show()"
   ]
  },
  {
   "cell_type": "code",
   "execution_count": null,
   "metadata": {},
   "outputs": [],
   "source": [
    "histograma(borrowers_dropna['age'], color=\"#cf7c17\")"
   ]
  },
  {
   "cell_type": "code",
   "execution_count": null,
   "metadata": {},
   "outputs": [],
   "source": [
    "plt.figure()\n",
    "sns.distplot(borrowers_dropna['age'], color=\"#5ea88e\", bins=20)\n",
    "plt.xlabel('Age')\n",
    "plt.ylabel('Frequency')\n",
    "sns.despine()\n",
    "plt.show()"
   ]
  },
  {
   "cell_type": "code",
   "execution_count": null,
   "metadata": {},
   "outputs": [],
   "source": [
    "corr = borrowers_dropna[['serious_dlqin2yrs', 'revolving_utilization_of_unsecured_lines', 'age', 'number_of_time30-59_days_past_due_not_worse', 'number_of_time60-89_days_past_due_not_worse', 'number_of_times90_days_late', 'debt_ratio', 'monthly_income', 'number_of_open_credit_lines_and_loans', 'number_real_estate_loans_or_lines', 'number_of_dependents']].corr(method = 'pearson')"
   ]
  },
  {
   "cell_type": "code",
   "execution_count": null,
   "metadata": {},
   "outputs": [],
   "source": [
    "plt.figure(figsize = (10,10))\n",
    "sns.heatmap(corr, cmap='YlGnBu', annot=True);"
   ]
  },
  {
   "cell_type": "markdown",
   "metadata": {},
   "source": [
    "There is a high correlation between:\n",
    "- `number_of_time30-59_days_past_due_not_worse`, `number_of_time60-89_days_past_due_not_worse` and `number_of_times90_days_late` variables.\n",
    "- `number_of_open_credit_lines_and_loans` and `number_real_estate_loans_or_lines` variables."
   ]
  },
  {
   "cell_type": "markdown",
   "metadata": {},
   "source": [
    "*** ¿Podría sumarizar esas variables en sólo dos? Obteniendo \"days_past_due_not_worse\" en el primer caso y \"numbres_of_loans_or_lines\" en el segundo ***"
   ]
  },
  {
   "cell_type": "markdown",
   "metadata": {},
   "source": [
    "### 2. Outliers Detection"
   ]
  },
  {
   "cell_type": "markdown",
   "metadata": {},
   "source": [
    "Let's see if some of the variables have values that can be described as outliers."
   ]
  },
  {
   "cell_type": "code",
   "execution_count": null,
   "metadata": {},
   "outputs": [],
   "source": [
    "sns.distplot(borrowers_dropna['number_of_dependents'])\n",
    "sns.despine()"
   ]
  },
  {
   "cell_type": "code",
   "execution_count": null,
   "metadata": {},
   "outputs": [],
   "source": [
    "sns.boxplot(x='number_of_dependents', data=borrowers_dropna, color='#1ABC9C')\n",
    "sns.despine()"
   ]
  },
  {
   "cell_type": "markdown",
   "metadata": {},
   "source": [
    "- Way to decrease outliers:\n",
    "    - z-score\n",
    "        - Consider that any value that is far from the average=0 is an outlier.\n",
    "        - It depends on the mean and the standard deviation to measure centrality and dispersion, which are very affected by outliers. If the variables do not have a normal distribution, I end up removing many outliers from the dataset.\n",
    "        - It does not work well in very small datasets.\n",
    "    - Interquartile range: \n",
    "        - It is robust and not as sensitive to outliers."
   ]
  },
  {
   "cell_type": "markdown",
   "metadata": {},
   "source": [
    "**Variable Binning**"
   ]
  },
  {
   "cell_type": "markdown",
   "metadata": {},
   "source": [
    "- Age: Age Binning containing bins for age group\n",
    "\n",
    "| Age Group | Bin | \n",
    "| --- | --- |\n",
    "| 21-30 | 1 |\n",
    "| 31-40 | 2 |\n",
    "| 41-50 | 3 |\n",
    "| 51-60 | 4 |\n",
    "| > 60 | 5 |\n",
    "\n",
    "\n",
    "- DebtRatio & RevolvingUtilizationOfUnsecuredLines: Created variables DebtRatio_Binning and RevolvingUtilizationOfUnsecuredLines_Binning with following cut off values:\n",
    "\n",
    "| Age Group | Bin | Remark |\n",
    "| --- | --- |  --- |\n",
    "| <=0.25  | 1 |  Good |\n",
    "| 0.25 - 0.50  | 2 |  Low Risk |\n",
    "| > 0.50 | 3 |  High Risk |\n",
    "\n",
    "\n",
    "- MonthlyIncome: Variable MonthlyIncome_Binning with 5 equal width bins"
   ]
  },
  {
   "cell_type": "markdown",
   "metadata": {},
   "source": [
    "### 3. Discovering new variables"
   ]
  },
  {
   "cell_type": "markdown",
   "metadata": {},
   "source": [
    "- The way to combine variables already present that can capture dependent effects between the two and affect the outcome is:\n",
    "    - Adding or subtracting variables\n",
    "    - Multiplying or dividing variables"
   ]
  },
  {
   "cell_type": "markdown",
   "metadata": {},
   "source": [
    "### 4. Variables transformation"
   ]
  },
  {
   "cell_type": "markdown",
   "metadata": {},
   "source": [
    "Most machine learning algorithms do not support strings as variables and require the variables to be numerical. For that reason, it is necessary to convert the variables categories in their representation numerical. <br>\n",
    "In this case there are no categorical variables."
   ]
  },
  {
   "cell_type": "code",
   "execution_count": null,
   "metadata": {},
   "outputs": [],
   "source": [
    "from sklearn.preprocessing import KBinsDiscretizer"
   ]
  },
  {
   "cell_type": "code",
   "execution_count": null,
   "metadata": {},
   "outputs": [],
   "source": [
    "kbins = KBinsDiscretizer(n_bins=10, encode='ordinal', strategy='quantile')"
   ]
  },
  {
   "cell_type": "code",
   "execution_count": null,
   "metadata": {},
   "outputs": [],
   "source": [
    "bins = kbins.fit_transform(borrowers_dropna[['monthly_income']]).flatten()"
   ]
  },
  {
   "cell_type": "code",
   "execution_count": null,
   "metadata": {},
   "outputs": [],
   "source": [
    "sns.countplot(bins, palette='summer')\n",
    "sns.despine()"
   ]
  },
  {
   "cell_type": "code",
   "execution_count": null,
   "metadata": {},
   "outputs": [],
   "source": [
    "kbins.bin_edges_"
   ]
  },
  {
   "cell_type": "markdown",
   "metadata": {},
   "source": [
    "### 5. Data standardization"
   ]
  },
  {
   "cell_type": "markdown",
   "metadata": {},
   "source": [
    "There are two methods to standardize or rescale variables: `StandardScaler` which uses z-score and `MinMaxScaler` which rescales the data linearly."
   ]
  },
  {
   "cell_type": "markdown",
   "metadata": {},
   "source": [
    "### 6. Machine Learning Model"
   ]
  },
  {
   "cell_type": "markdown",
   "metadata": {},
   "source": [
    "#### Target (y) and variables (X) selection"
   ]
  },
  {
   "cell_type": "markdown",
   "metadata": {},
   "source": [
    "Using the variable `serious_dlqin2yrs` as a target."
   ]
  },
  {
   "cell_type": "code",
   "execution_count": null,
   "metadata": {},
   "outputs": [],
   "source": [
    "borrowers_dropna2 = borrowers_dropna"
   ]
  },
  {
   "cell_type": "markdown",
   "metadata": {},
   "source": [
    "Remove those variables that I do not want to include in the model and save them in `x` variable."
   ]
  },
  {
   "cell_type": "code",
   "execution_count": null,
   "metadata": {},
   "outputs": [],
   "source": [
    "x = borrowers_dropna2.drop(['number_of_time30-59_days_past_due_not_worse', 'number_of_times90_days_late', 'number_real_estate_loans_or_lines'], \n",
    "                  axis=1)"
   ]
  },
  {
   "cell_type": "code",
   "execution_count": null,
   "metadata": {},
   "outputs": [],
   "source": [
    "lista_atributos = x.columns"
   ]
  },
  {
   "cell_type": "code",
   "execution_count": null,
   "metadata": {},
   "outputs": [],
   "source": [
    "# Ahora selecciono las etiquetas y las guardo en y.\n",
    "y = borrowers_dropna2['serious_dlqin2yrs']"
   ]
  },
  {
   "cell_type": "code",
   "execution_count": null,
   "metadata": {},
   "outputs": [],
   "source": [
    "x, y = np.array(x), np.array(y)"
   ]
  },
  {
   "cell_type": "markdown",
   "metadata": {},
   "source": [
    "#### Separating dataset in Train / Test sets"
   ]
  },
  {
   "cell_type": "markdown",
   "metadata": {},
   "source": [
    "The way the data is normally divided is 80% training -20% evaluation."
   ]
  },
  {
   "cell_type": "code",
   "execution_count": null,
   "metadata": {},
   "outputs": [],
   "source": [
    "from sklearn.model_selection import train_test_split"
   ]
  },
  {
   "cell_type": "code",
   "execution_count": null,
   "metadata": {},
   "outputs": [],
   "source": [
    "X_train, X_test, y_train, y_test = train_test_split(x, y, test_size = 0.2, \n",
    "                                                    random_state = 42)"
   ]
  },
  {
   "cell_type": "markdown",
   "metadata": {},
   "source": [
    "#### Random Forest"
   ]
  },
  {
   "cell_type": "code",
   "execution_count": null,
   "metadata": {},
   "outputs": [],
   "source": [
    "from sklearn.ensemble import RandomForestRegressor "
   ]
  },
  {
   "cell_type": "code",
   "execution_count": null,
   "metadata": {},
   "outputs": [],
   "source": [
    "from sklearn.metrics import mean_absolute_error"
   ]
  },
  {
   "cell_type": "markdown",
   "metadata": {},
   "source": [
    "Initialize the model."
   ]
  },
  {
   "cell_type": "code",
   "execution_count": null,
   "metadata": {},
   "outputs": [],
   "source": [
    "regresor = RandomForestRegressor(criterion='mae', random_state = 42)"
   ]
  },
  {
   "cell_type": "markdown",
   "metadata": {},
   "source": [
    "Train the model"
   ]
  },
  {
   "cell_type": "code",
   "execution_count": null,
   "metadata": {},
   "outputs": [],
   "source": [
    "regresor.fit(X_train, y_train);"
   ]
  },
  {
   "cell_type": "code",
   "execution_count": null,
   "metadata": {},
   "outputs": [],
   "source": [
    "regresor.get_params()"
   ]
  },
  {
   "cell_type": "markdown",
   "metadata": {},
   "source": [
    "#### Model evaluation"
   ]
  },
  {
   "cell_type": "markdown",
   "metadata": {},
   "source": [
    "We use a regression algorithm, so we will use the errors to be able to evaluate the performance of our model. First, we will create some functions that will allow us to obtain the errors easily and to graph the results."
   ]
  },
  {
   "cell_type": "code",
   "execution_count": null,
   "metadata": {},
   "outputs": [],
   "source": [
    "def evaluation(y_test, predictions):\n",
    "    \"\"\"\n",
    "    Funcion que devuelve el error absoluto medio y el error porcentual absoluto medio.\n",
    "    \n",
    "    :param y_test: valores reales\n",
    "    :param predictions: valores predichos\n",
    "    \n",
    "    :return: Devuelve el error absoluto medio y el error porcentual absoluto medio.\n",
    "    \"\"\"\n",
    "    # Calcula mae \n",
    "    mae = mean_absolute_error(y_test, predictions)\n",
    "    #calculate mape \n",
    "    mape = np.mean((np.abs(y_test - predictions)/y_test)*100)\n",
    "    #print calculated values\n",
    "    print(f\"El error absoluto medio para el modelo es {round(mae, 2)}\")\n",
    "    print(f\"El error porcentual absoluto medio para el modelo es {round(mape, 2)}\")"
   ]
  },
  {
   "cell_type": "code",
   "execution_count": null,
   "metadata": {},
   "outputs": [],
   "source": [
    "def graph_real_pred(y_test, predictions, color):\n",
    "    \"\"\"\n",
    "    Funcion que grafica los valores reales vs. predichos\n",
    "    :param y_test: valores reales\n",
    "    :param predictions: valores predichos\n",
    "    :param color: color para el plot.\n",
    "    \n",
    "    :return: Scatterplot mostrando la relacion entre el valor real y el predicho\n",
    "    \"\"\"\n",
    "    plt.scatter(y_test, predictions, c=color, s=10)    \n",
    "    plt.gca().spines['top'].set_visible(False)\n",
    "    plt.gca().spines['bottom'].set_visible(False)\n",
    "    plt.gca().spines['left'].set_visible(False)\n",
    "    plt.gca().spines['right'].set_visible(False)\n",
    "    plt.xlabel('Real', size=15, labelpad=1)\n",
    "    plt.ylabel('Predicted', size=15, labelpad=1)\n",
    "    plt.show()"
   ]
  },
  {
   "cell_type": "code",
   "execution_count": null,
   "metadata": {},
   "outputs": [],
   "source": [
    "def feature_importance(model, feature_list):\n",
    "    \"\"\"\n",
    "    Function that gets and plots the feature importance\n",
    "    for the given model\n",
    "    :param model: the model to evaluaate\n",
    "    :param feature_list: a list of features contained in the model\n",
    "\n",
    "    :returns a plot with feature importance\n",
    "    \"\"\"\n",
    "    # Obtiene la lista de importancias \n",
    "    importances = list(model.feature_importances_)\n",
    "    # Junta los nombres de los atributos y las importancias\n",
    "    feature_importances = [(feature, round(importance, 2)) for feature, importance in zip(feature_list, importances)]\n",
    "    # Ordena por orden de importancia\n",
    "    feature_importances = sorted(feature_importances, key = lambda x: x[1], reverse = True)\n",
    "    # Print la lista de importancias\n",
    "    [print('Variable: {} Importance: {}'.format(*pair)) for pair in feature_importances];\n",
    "    # Colores\n",
    "    colors = cm.rainbow(np.linspace(0, 1, len(feature_list)))\n",
    "    \n",
    "    # Caracteristicas en orden de importancia \n",
    "    characteristics = [x[0] for x in feature_importances]\n",
    "    # Obtiene las importancias\n",
    "    importances_plot = [x[1] for x in feature_importances]\n",
    "    # Grafica un bar plot\n",
    "    plt.bar(characteristics, importances_plot, color=colors)\n",
    "    # Personalizamos el grafico\n",
    "    plt.xticks(list(range(len(characteristics))), characteristics, rotation = 90)\n",
    "    plt.gca().spines['top'].set_visible(False)\n",
    "    plt.gca().spines['bottom'].set_visible(False)\n",
    "    plt.gca().spines['left'].set_visible(False)\n",
    "    plt.gca().spines['right'].set_visible(False)\n",
    "    plt.gcf().subplots_adjust(bottom=0.3);"
   ]
  },
  {
   "cell_type": "markdown",
   "metadata": {},
   "source": [
    "Let's evaluate the model. First, we make predictions for the evaluation set and then we compare it with the actual values."
   ]
  },
  {
   "cell_type": "markdown",
   "metadata": {},
   "source": [
    "Predicting the values for the test set."
   ]
  },
  {
   "cell_type": "code",
   "execution_count": null,
   "metadata": {},
   "outputs": [],
   "source": [
    "y_pred = regresor.predict(X_test)"
   ]
  },
  {
   "cell_type": "markdown",
   "metadata": {},
   "source": [
    "Calculate the mean absolute error."
   ]
  },
  {
   "cell_type": "code",
   "execution_count": null,
   "metadata": {},
   "outputs": [],
   "source": [
    "mean_absolute_error(y_test, y_pred)"
   ]
  },
  {
   "cell_type": "markdown",
   "metadata": {},
   "source": [
    "Calculate the average percentage error."
   ]
  },
  {
   "cell_type": "code",
   "execution_count": null,
   "metadata": {},
   "outputs": [],
   "source": [
    "np.mean((np.abs(y_test - y_pred)/y_test)*100)"
   ]
  },
  {
   "cell_type": "markdown",
   "metadata": {},
   "source": [
    "Predict the values for the training set."
   ]
  },
  {
   "cell_type": "code",
   "execution_count": null,
   "metadata": {},
   "outputs": [],
   "source": [
    "y_pred_train = regresor.predict(X_train)"
   ]
  },
  {
   "cell_type": "code",
   "execution_count": null,
   "metadata": {},
   "outputs": [],
   "source": [
    "mean_absolute_error(y_train, y_pred_train)"
   ]
  },
  {
   "cell_type": "markdown",
   "metadata": {},
   "source": [
    "Calculate the mean percentage error for training."
   ]
  },
  {
   "cell_type": "code",
   "execution_count": null,
   "metadata": {},
   "outputs": [],
   "source": [
    "np.mean((np.abs(y_train - y_pred_train)/y_train)*100)"
   ]
  },
  {
   "cell_type": "markdown",
   "metadata": {},
   "source": [
    "Get the importance of each feature using `feature_importances_`."
   ]
  },
  {
   "cell_type": "code",
   "execution_count": null,
   "metadata": {},
   "outputs": [],
   "source": [
    "for x, y in list(zip(lista_atributos,regresor.feature_importances_)):\n",
    "    print(f'Atributo: {x}, Importancia: {y}') "
   ]
  },
  {
   "cell_type": "markdown",
   "metadata": {},
   "source": [
    "#### kNN classifier"
   ]
  },
  {
   "cell_type": "code",
   "execution_count": null,
   "metadata": {},
   "outputs": [],
   "source": [
    "from sklearn.neighbors import KNeighborsClassifier"
   ]
  },
  {
   "cell_type": "code",
   "execution_count": null,
   "metadata": {},
   "outputs": [],
   "source": [
    "# metricas\n",
    "from sklearn.metrics import (\n",
    "    roc_curve, \n",
    "    accuracy_score, \n",
    "    roc_auc_score,\n",
    "    confusion_matrix, \n",
    "    precision_score, \n",
    "    recall_score, \n",
    "    f1_score\n",
    ")"
   ]
  },
  {
   "cell_type": "code",
   "execution_count": null,
   "metadata": {},
   "outputs": [],
   "source": [
    "knn = KNeighborsClassifier()"
   ]
  },
  {
   "cell_type": "code",
   "execution_count": null,
   "metadata": {},
   "outputs": [],
   "source": [
    "# Entrenamos el modelo\n",
    "knn.fit(X_train, y_train); "
   ]
  },
  {
   "cell_type": "code",
   "execution_count": null,
   "metadata": {},
   "outputs": [],
   "source": [
    "# Predecimos \n",
    "predicciones_cla = knn.predict(X_test)"
   ]
  },
  {
   "cell_type": "code",
   "execution_count": null,
   "metadata": {},
   "outputs": [],
   "source": [
    "predicciones_train = knn.predict(X_train)"
   ]
  },
  {
   "cell_type": "code",
   "execution_count": null,
   "metadata": {},
   "outputs": [],
   "source": [
    "accuracy = accuracy_score(y_train, predicciones_train)*100\n",
    "print(f'{round(accuracy, 2)}%')"
   ]
  },
  {
   "cell_type": "code",
   "execution_count": null,
   "metadata": {},
   "outputs": [],
   "source": [
    "accuracy = accuracy_score(y_test, predicciones_cla)*100\n",
    "print(f'{round(accuracy, 2)}%')"
   ]
  },
  {
   "cell_type": "markdown",
   "metadata": {},
   "source": [
    "**Model optimization**"
   ]
  },
  {
   "cell_type": "code",
   "execution_count": null,
   "metadata": {},
   "outputs": [],
   "source": [
    "ACC_train = []\n",
    "ACC_test = []\n",
    "vecinos = [1, 3, 5, 10, 15, 20, 25, 30]\n",
    "for n in vecinos: # entreno diferentes modelos con diferntes vecinos\n",
    "    clf = KNeighborsClassifier(n_neighbors=n)\n",
    "    clf.fit(X_train, y_train)\n",
    "    y_train_pred = clf.predict(X_train)\n",
    "    train_acc = accuracy_score(y_train, y_train_pred)\n",
    "    ACC_train.append(train_acc)\n",
    "    y_test_pred = clf.predict(X_test)\n",
    "    test_acc = accuracy_score(y_test, y_test_pred)\n",
    "    ACC_test.append(test_acc)"
   ]
  },
  {
   "cell_type": "code",
   "execution_count": null,
   "metadata": {},
   "outputs": [],
   "source": [
    "plt.plot(vecinos,ACC_train,'o-',label='train', color='#DCE775')\n",
    "plt.plot(vecinos,ACC_test,'o-',label='test', color='#EC407A')\n",
    "plt.legend() #Grafico las predicciones para el testeo y para el de entrenamiento, en el eje X está la cantidad de vecinos y en el eje y se grafica el ACCURACY. \n",
    "# Elijo donde el ACC  de entrenamienot y Testeo son parecidos, elijo 15."
   ]
  },
  {
   "cell_type": "code",
   "execution_count": null,
   "metadata": {},
   "outputs": [],
   "source": [
    "# Valores para los parametros a optimizar\n",
    "param_grid_vec = {\n",
    "    'n_neighbors': [13, 15, 17], # Busco vecinos cercanos a 15, para ver si se puede optimizar más\n",
    "    'weights': ['uniform','distance'],\n",
    "    'metric': ['euclidean', 'manhattan'],\n",
    "}"
   ]
  },
  {
   "cell_type": "code",
   "execution_count": null,
   "metadata": {},
   "outputs": [],
   "source": [
    "knn_search = KNeighborsClassifier()"
   ]
  },
  {
   "cell_type": "code",
   "execution_count": null,
   "metadata": {},
   "outputs": [],
   "source": [
    "from sklearn.model_selection import GridSearchCV"
   ]
  },
  {
   "cell_type": "code",
   "execution_count": null,
   "metadata": {},
   "outputs": [],
   "source": [
    "vecinos_search = GridSearchCV(estimator=knn_search, param_grid=param_grid_vec,\n",
    "                         cv=3, verbose=2, n_jobs=-1)"
   ]
  },
  {
   "cell_type": "code",
   "execution_count": null,
   "metadata": {},
   "outputs": [],
   "source": [
    "vecinos_search.fit(X_train, y_train)"
   ]
  },
  {
   "cell_type": "markdown",
   "metadata": {},
   "source": [
    "What is our best estimator?"
   ]
  },
  {
   "cell_type": "code",
   "execution_count": null,
   "metadata": {},
   "outputs": [],
   "source": [
    "vecinos_search.best_estimator_ # metrica mejor es la manhattan, con weights distance, n_neighbors=13"
   ]
  },
  {
   "cell_type": "code",
   "execution_count": null,
   "metadata": {},
   "outputs": [],
   "source": [
    "vecinos_search.best_score_"
   ]
  },
  {
   "cell_type": "code",
   "execution_count": null,
   "metadata": {},
   "outputs": [],
   "source": [
    "knn_best = vecinos_search.best_estimator_"
   ]
  },
  {
   "cell_type": "code",
   "execution_count": null,
   "metadata": {},
   "outputs": [],
   "source": [
    "knn_best.fit(X_train, y_train)"
   ]
  },
  {
   "cell_type": "code",
   "execution_count": null,
   "metadata": {},
   "outputs": [],
   "source": [
    "new_predictions = knn_best.predict(X_test)"
   ]
  },
  {
   "cell_type": "markdown",
   "metadata": {},
   "source": [
    "**Metrics** \n",
    "\n",
    "Confusion matrix:\n",
    "\n",
    "True Negative (TN)  |  False positive (FP)   \n",
    "= = = = = = = = = = = = = = = = = = = = =       \n",
    "False negative (FN) | True positive (TP)  \n"
   ]
  },
  {
   "cell_type": "code",
   "execution_count": null,
   "metadata": {},
   "outputs": [],
   "source": [
    "plt.figure()\n",
    "random_confusion = confusion_matrix(y_test, new_predictions)\n",
    "sns.heatmap(random_confusion, cmap=\"YlGnBu\",annot=True);"
   ]
  },
  {
   "cell_type": "code",
   "execution_count": null,
   "metadata": {},
   "outputs": [],
   "source": [
    "print(f\"Accuracy: {accuracy_score(y_test, new_predictions)*100 :.2f}%\")\n",
    "print(f\"Precision: {precision_score(y_test, new_predictions)*100 :.2f}%\")\n",
    "print(f\"Recall: {recall_score(y_test, new_predictions)*100 :.2f}%\")\n",
    "print(f\"F1 score: {f1_score(y_test, new_predictions)*100 :.2f}%\")"
   ]
  },
  {
   "cell_type": "code",
   "execution_count": null,
   "metadata": {},
   "outputs": [],
   "source": []
  },
  {
   "cell_type": "code",
   "execution_count": null,
   "metadata": {},
   "outputs": [],
   "source": []
  }
 ],
 "metadata": {
  "@webio": {
   "lastCommId": "814db409262d41e59a8f535448fcae85",
   "lastKernelId": "3183b2f9-976f-49e9-9ea7-931bafbad9e4"
  },
  "kernelspec": {
   "display_name": "Python 3",
   "language": "python",
   "name": "python3"
  },
  "language_info": {
   "codemirror_mode": {
    "name": "ipython",
    "version": 3
   },
   "file_extension": ".py",
   "mimetype": "text/x-python",
   "name": "python",
   "nbconvert_exporter": "python",
   "pygments_lexer": "ipython3",
   "version": "3.6.8"
  }
 },
 "nbformat": 4,
 "nbformat_minor": 4
}
