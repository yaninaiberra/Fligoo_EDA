{
 "cells": [
  {
   "cell_type": "markdown",
   "metadata": {},
   "source": [
    "# <img style=\"float: left; padding-right: 10px; width: 200px\" src=\"https://fligoo.com/img/logo-large.png\"> Fligoo - Credit Risk (Cont.)\n",
    "\n",
    "Tech Interview for Data Scientist\n",
    "\n",
    "<hr style=\"height:2pt\">"
   ]
  },
  {
   "cell_type": "markdown",
   "metadata": {},
   "source": [
    "## Motivation\n",
    "\n",
    "Credit risk is most simply defined as the potential that a bank borrower or counterparty will fail to meet its obligations in accordance with agreed terms. The goal of credit risk management is to maximise a bank's risk-adjusted rate of return by maintaining credit risk exposure within acceptable parameters. Banks need to manage the credit risk inherent in the entire portfolio as well as the risk in individual credits or transactions. \n",
    "\n",
    "## Description\n",
    "\n",
    "The following dataset has 150.000 records of borrowers taken from an anonymous bank, which are described through 12 different columns.\n",
    "\n",
    "The goal of this test is to perform an Exploratory Data Analysis (EDA) on this dataset, to understand the information contained and obtain insights that could be relevant to solve a business problem and develop a simple model that could predict the risk.\n",
    "\n",
    "You can find the data in this [link](https://s3-us-west-2.amazonaws.com/fligoo.data-science/TechInterviews/CreditEDA/data/credit-data.csv)\n",
    "\n",
    "Below is a description of the involved columns:\n",
    "\n",
    "| Variable Name | Description | \n",
    "| ------------- | ----------- |\n",
    "| unnamed:0 | ID of borrower |\n",
    "| serious_dlqin2yrs | Person experienced 90 days past due delinquency or worse |\n",
    "| revolving_utilization_of_unsecured_lines | Total balance on credit cards and personal lines of credit except real estate and no installment debt like car loans divided by the sum of credit limits |\n",
    "| age | Age of borrower in years | \n",
    "| number_of_time30-59_days_past_due_not_worse | Number of times borrower has been 30-59 days past due but no worse in the last 2 years |\n",
    "| debt_ratio | Monthly debt payments, alimony, living costs divided by monthy gross income |\n",
    "| monthly_income | Monthly income |\n",
    "| number_of_open_credit_lines_and_loans | Number of open loans (installment like car loan or mortgage) and lines of credit (e.g. credit cards) |\n",
    "| number_of_times90_days_late | Number of times borrower has been 90 days or more past due |\n",
    "| number_real_estate_loans_or_lines | Number of mortgage and real estate loans including home equity lines of credit |\n",
    "| number_of_time60-89_days_past_due_not_worse | Number of times borrower has been 60-89 days past due but no worse in the last 2 years |\n",
    "| number_of_dependents | Number of dependents in family excluding themselves (spouse, children etc.) |\n",
    "\n",
    "\n",
    "Please **read carefully** all the assignments to guide the work that is expected to find in this notebook."
   ]
  },
  {
   "cell_type": "markdown",
   "metadata": {},
   "source": [
    "## Goal\n",
    "\n",
    "In this notebook you have to load all the libraries you need to explore and process the given dataset, and then perform the analysis to extract meaningful facts in order to understand the information involved. You are free to make any kind of analytic you want, but at the end it is expected to have done the \"mandatory\" tasks on this work. In addition, there are some \"nice to have\" aspects that would enrich the work done.\n",
    "\n",
    "> Please provide reports in English and focus on findings and insights\n",
    "\n",
    "**Stack of technologies:** The analysis on this notebook should be done by using at least the following stack:   \n",
    "    - Python 3.x (not 2.x)\n",
    "    - Pandas 1.0.x\n",
    "\n",
    "### Assignment\n",
    "\n",
    "- **Report insights and conclusions:** Describe the results obtained during the exploratory analysis and provide conclusions from a business perspective, supported by charts / tables / metrics. \n",
    "- **Data Quality Check:** You must check the quality of the given dataset to make an assessment of how appropriate it is for later Data Science tasks. Propose a set of corrective actions over the data.     \n",
    "   \n",
    "- **Feature extraction:** Indicate some possible candidates of features that could properly describe the borrowers, either from the given columns or from their transformations.\n",
    "- **Machine Learning modeling:** at least one fitted model with the given data. You could use the `serious_dlqin2yrs` column as target.\n",
    "\n",
    "\n",
    "### Nice to have aspects\n",
    "\n",
    "- Dockerfile to setup environment.\n",
    "- Identify features and new attributes / tables that could be relevant or needed for better analysis\n",
    "- **Code versioning with Git** (you are free to publish it on your own Github/Bitbucket account!).\n",
    "- **Show proficiency in Python:** By showing good practices in the structure and documentation, usage of several programming paradigms (e.g. imperative, OOP, functional), etc.\n",
    "- **Use cases:** Describe possible use cases for this dataset that could add value to the given business, indicating methods / techniques and algorithms for each of them and justifying the choice made.\n",
    "- **Machine Learning approaches:** Describe the possible Machine Learning tasks that could be performed from the given data, which may be valuable in the context of the finance domain (just explain with words, don't fit a model).\n",
    "\n",
    "Once you complete the assessment, please send a ZIP file of the folder with all the resources used in this work (e.g. Jupyter notebook, Python scripts, text files, images, etc) to esteban.delboca@fligoo.com. Then you are going to have a final meeting with the team to discuss the work done in this notebook and answer the questions that could arise.\n",
    "\n",
    "**Have fun!**\n",
    "\n",
    "![Have fun](https://media1.tenor.com/images/8d13f337a8c6e5aab8ba1bd8acd4da0c/tenor.gif?itemid=5304821)"
   ]
  },
  {
   "cell_type": "markdown",
   "metadata": {},
   "source": [
    "## Tech Interview - Yanina Vanesa Iberra (Part II)"
   ]
  },
  {
   "cell_type": "markdown",
   "metadata": {},
   "source": [
    "- **Reading the CSV data file using pandas** <br> <br>\n",
    "File separated by comma, de default read_csv function delimiter is comma, therefore, this parameter is omitted."
   ]
  },
  {
   "cell_type": "code",
   "execution_count": 1,
   "metadata": {},
   "outputs": [],
   "source": [
    "# Command that will allow to see a graphic in this notebook below the line of code that invokes it.\n",
    "%matplotlib inline"
   ]
  },
  {
   "cell_type": "code",
   "execution_count": 2,
   "metadata": {},
   "outputs": [],
   "source": [
    "import pandas as pd\n",
    "import numpy as np\n",
    "import matplotlib.pyplot as plt\n",
    "import seaborn as sns\n",
    "import warnings\n",
    "warnings.filterwarnings('ignore')"
   ]
  },
  {
   "cell_type": "code",
   "execution_count": 3,
   "metadata": {},
   "outputs": [],
   "source": [
    "def histograma(variable, color):\n",
    "    plt.figure()\n",
    "    name = variable.name\n",
    "    plt.hist(variable, color=color, alpha=0.5, bins=20)\n",
    "    plt.xlabel(name)\n",
    "    plt.ylabel('Events')\n",
    "    plt.title(f'{name} Variable Distribution')\n",
    "    plt.gca().spines['right'].set_visible(False)\n",
    "    plt.gca().spines['top'].set_visible(False)\n",
    "    plt.show()"
   ]
  },
  {
   "cell_type": "code",
   "execution_count": 8,
   "metadata": {},
   "outputs": [],
   "source": [
    "borrowers_clean = pd.read_csv('credit-data-clean.csv').drop('Unnamed: 0', axis = 1)"
   ]
  },
  {
   "cell_type": "markdown",
   "metadata": {},
   "source": [
    "First of all, let's check again that we eliminated all the missing values."
   ]
  },
  {
   "cell_type": "code",
   "execution_count": 9,
   "metadata": {},
   "outputs": [
    {
     "name": "stdout",
     "output_type": "stream",
     "text": [
      "Missing values in each attribute: \n",
      "serious_dlqin2yrs                               0\n",
      "revolving_utilization_of_unsecured_lines        0\n",
      "age                                             0\n",
      "number_of_time30-59_days_past_due_not_worse     0\n",
      "debt_ratio                                      0\n",
      "monthly_income                                  0\n",
      "number_of_open_credit_lines_and_loans           0\n",
      "number_of_times90_days_late                     0\n",
      "number_real_estate_loans_or_lines               0\n",
      "number_of_time60-89_days_past_due_not_worse     0\n",
      "number_of_dependents                            0\n",
      "monthly_income_bin                              0\n",
      "age_bin                                         0\n",
      "monthly_income__bin                             0\n",
      "revolving_utilization_of_unsecured_lines_bin    0\n",
      "debt_ratio_bin                                  0\n",
      "number_of_dependents_bin                        0\n",
      "dtype: int64\n"
     ]
    }
   ],
   "source": [
    "print(f\"Missing values in each attribute: \\n{borrowers_clean.isnull().sum()}\")"
   ]
  },
  {
   "cell_type": "code",
   "execution_count": 10,
   "metadata": {},
   "outputs": [
    {
     "data": {
      "text/plain": [
       "(144006, 17)"
      ]
     },
     "execution_count": 10,
     "metadata": {},
     "output_type": "execute_result"
    }
   ],
   "source": [
    "borrowers_clean.shape"
   ]
  },
  {
   "cell_type": "code",
   "execution_count": 11,
   "metadata": {},
   "outputs": [
    {
     "data": {
      "text/html": [
       "<div>\n",
       "<style scoped>\n",
       "    .dataframe tbody tr th:only-of-type {\n",
       "        vertical-align: middle;\n",
       "    }\n",
       "\n",
       "    .dataframe tbody tr th {\n",
       "        vertical-align: top;\n",
       "    }\n",
       "\n",
       "    .dataframe thead th {\n",
       "        text-align: right;\n",
       "    }\n",
       "</style>\n",
       "<table border=\"1\" class=\"dataframe\">\n",
       "  <thead>\n",
       "    <tr style=\"text-align: right;\">\n",
       "      <th></th>\n",
       "      <th>serious_dlqin2yrs</th>\n",
       "      <th>revolving_utilization_of_unsecured_lines</th>\n",
       "      <th>age</th>\n",
       "      <th>number_of_time30-59_days_past_due_not_worse</th>\n",
       "      <th>debt_ratio</th>\n",
       "      <th>monthly_income</th>\n",
       "      <th>number_of_open_credit_lines_and_loans</th>\n",
       "      <th>number_of_times90_days_late</th>\n",
       "      <th>number_real_estate_loans_or_lines</th>\n",
       "      <th>number_of_time60-89_days_past_due_not_worse</th>\n",
       "      <th>number_of_dependents</th>\n",
       "      <th>monthly_income_bin</th>\n",
       "      <th>age_bin</th>\n",
       "      <th>monthly_income__bin</th>\n",
       "      <th>number_of_dependents_bin</th>\n",
       "    </tr>\n",
       "  </thead>\n",
       "  <tbody>\n",
       "    <tr>\n",
       "      <th>count</th>\n",
       "      <td>144006.000000</td>\n",
       "      <td>144006.000000</td>\n",
       "      <td>144006.000000</td>\n",
       "      <td>144006.000000</td>\n",
       "      <td>144006.000000</td>\n",
       "      <td>144006.000000</td>\n",
       "      <td>144006.000000</td>\n",
       "      <td>144006.000000</td>\n",
       "      <td>144006.000000</td>\n",
       "      <td>144006.000000</td>\n",
       "      <td>144006.000000</td>\n",
       "      <td>144006.000000</td>\n",
       "      <td>144006.000000</td>\n",
       "      <td>144006.000000</td>\n",
       "      <td>144006.000000</td>\n",
       "    </tr>\n",
       "    <tr>\n",
       "      <th>mean</th>\n",
       "      <td>0.055512</td>\n",
       "      <td>0.306820</td>\n",
       "      <td>52.417358</td>\n",
       "      <td>0.197381</td>\n",
       "      <td>0.587775</td>\n",
       "      <td>6238.059699</td>\n",
       "      <td>8.384116</td>\n",
       "      <td>0.055720</td>\n",
       "      <td>0.989709</td>\n",
       "      <td>0.036582</td>\n",
       "      <td>0.711429</td>\n",
       "      <td>1.892643</td>\n",
       "      <td>1.962161</td>\n",
       "      <td>1.892643</td>\n",
       "      <td>1.892643</td>\n",
       "    </tr>\n",
       "    <tr>\n",
       "      <th>std</th>\n",
       "      <td>0.228977</td>\n",
       "      <td>0.342482</td>\n",
       "      <td>14.864049</td>\n",
       "      <td>0.603208</td>\n",
       "      <td>0.568141</td>\n",
       "      <td>3399.965586</td>\n",
       "      <td>5.027249</td>\n",
       "      <td>0.364351</td>\n",
       "      <td>1.026609</td>\n",
       "      <td>0.231226</td>\n",
       "      <td>1.076273</td>\n",
       "      <td>1.370748</td>\n",
       "      <td>1.425698</td>\n",
       "      <td>1.370748</td>\n",
       "      <td>1.370748</td>\n",
       "    </tr>\n",
       "    <tr>\n",
       "      <th>min</th>\n",
       "      <td>0.000000</td>\n",
       "      <td>0.000000</td>\n",
       "      <td>21.000000</td>\n",
       "      <td>0.000000</td>\n",
       "      <td>0.000000</td>\n",
       "      <td>0.000000</td>\n",
       "      <td>0.000000</td>\n",
       "      <td>0.000000</td>\n",
       "      <td>0.000000</td>\n",
       "      <td>0.000000</td>\n",
       "      <td>0.000000</td>\n",
       "      <td>0.000000</td>\n",
       "      <td>0.000000</td>\n",
       "      <td>0.000000</td>\n",
       "      <td>0.000000</td>\n",
       "    </tr>\n",
       "    <tr>\n",
       "      <th>25%</th>\n",
       "      <td>0.000000</td>\n",
       "      <td>0.028518</td>\n",
       "      <td>41.000000</td>\n",
       "      <td>0.000000</td>\n",
       "      <td>0.172178</td>\n",
       "      <td>3885.000000</td>\n",
       "      <td>5.000000</td>\n",
       "      <td>0.000000</td>\n",
       "      <td>0.000000</td>\n",
       "      <td>0.000000</td>\n",
       "      <td>0.000000</td>\n",
       "      <td>1.000000</td>\n",
       "      <td>1.000000</td>\n",
       "      <td>1.000000</td>\n",
       "      <td>1.000000</td>\n",
       "    </tr>\n",
       "    <tr>\n",
       "      <th>50%</th>\n",
       "      <td>0.000000</td>\n",
       "      <td>0.143765</td>\n",
       "      <td>52.000000</td>\n",
       "      <td>0.000000</td>\n",
       "      <td>0.361039</td>\n",
       "      <td>6500.000000</td>\n",
       "      <td>8.000000</td>\n",
       "      <td>0.000000</td>\n",
       "      <td>1.000000</td>\n",
       "      <td>0.000000</td>\n",
       "      <td>0.000000</td>\n",
       "      <td>2.000000</td>\n",
       "      <td>2.000000</td>\n",
       "      <td>2.000000</td>\n",
       "      <td>2.000000</td>\n",
       "    </tr>\n",
       "    <tr>\n",
       "      <th>75%</th>\n",
       "      <td>0.000000</td>\n",
       "      <td>0.525581</td>\n",
       "      <td>63.000000</td>\n",
       "      <td>0.000000</td>\n",
       "      <td>0.811555</td>\n",
       "      <td>7350.000000</td>\n",
       "      <td>11.000000</td>\n",
       "      <td>0.000000</td>\n",
       "      <td>2.000000</td>\n",
       "      <td>0.000000</td>\n",
       "      <td>1.000000</td>\n",
       "      <td>3.000000</td>\n",
       "      <td>3.000000</td>\n",
       "      <td>3.000000</td>\n",
       "      <td>3.000000</td>\n",
       "    </tr>\n",
       "    <tr>\n",
       "      <th>max</th>\n",
       "      <td>1.000000</td>\n",
       "      <td>0.999990</td>\n",
       "      <td>109.000000</td>\n",
       "      <td>13.000000</td>\n",
       "      <td>1.604698</td>\n",
       "      <td>16880.000000</td>\n",
       "      <td>57.000000</td>\n",
       "      <td>17.000000</td>\n",
       "      <td>25.000000</td>\n",
       "      <td>11.000000</td>\n",
       "      <td>10.000000</td>\n",
       "      <td>4.000000</td>\n",
       "      <td>4.000000</td>\n",
       "      <td>4.000000</td>\n",
       "      <td>4.000000</td>\n",
       "    </tr>\n",
       "  </tbody>\n",
       "</table>\n",
       "</div>"
      ],
      "text/plain": [
       "       serious_dlqin2yrs  revolving_utilization_of_unsecured_lines  \\\n",
       "count      144006.000000                             144006.000000   \n",
       "mean            0.055512                                  0.306820   \n",
       "std             0.228977                                  0.342482   \n",
       "min             0.000000                                  0.000000   \n",
       "25%             0.000000                                  0.028518   \n",
       "50%             0.000000                                  0.143765   \n",
       "75%             0.000000                                  0.525581   \n",
       "max             1.000000                                  0.999990   \n",
       "\n",
       "                 age  number_of_time30-59_days_past_due_not_worse  \\\n",
       "count  144006.000000                                144006.000000   \n",
       "mean       52.417358                                     0.197381   \n",
       "std        14.864049                                     0.603208   \n",
       "min        21.000000                                     0.000000   \n",
       "25%        41.000000                                     0.000000   \n",
       "50%        52.000000                                     0.000000   \n",
       "75%        63.000000                                     0.000000   \n",
       "max       109.000000                                    13.000000   \n",
       "\n",
       "          debt_ratio  monthly_income  number_of_open_credit_lines_and_loans  \\\n",
       "count  144006.000000   144006.000000                          144006.000000   \n",
       "mean        0.587775     6238.059699                               8.384116   \n",
       "std         0.568141     3399.965586                               5.027249   \n",
       "min         0.000000        0.000000                               0.000000   \n",
       "25%         0.172178     3885.000000                               5.000000   \n",
       "50%         0.361039     6500.000000                               8.000000   \n",
       "75%         0.811555     7350.000000                              11.000000   \n",
       "max         1.604698    16880.000000                              57.000000   \n",
       "\n",
       "       number_of_times90_days_late  number_real_estate_loans_or_lines  \\\n",
       "count                144006.000000                      144006.000000   \n",
       "mean                      0.055720                           0.989709   \n",
       "std                       0.364351                           1.026609   \n",
       "min                       0.000000                           0.000000   \n",
       "25%                       0.000000                           0.000000   \n",
       "50%                       0.000000                           1.000000   \n",
       "75%                       0.000000                           2.000000   \n",
       "max                      17.000000                          25.000000   \n",
       "\n",
       "       number_of_time60-89_days_past_due_not_worse  number_of_dependents  \\\n",
       "count                                144006.000000         144006.000000   \n",
       "mean                                      0.036582              0.711429   \n",
       "std                                       0.231226              1.076273   \n",
       "min                                       0.000000              0.000000   \n",
       "25%                                       0.000000              0.000000   \n",
       "50%                                       0.000000              0.000000   \n",
       "75%                                       0.000000              1.000000   \n",
       "max                                      11.000000             10.000000   \n",
       "\n",
       "       monthly_income_bin        age_bin  monthly_income__bin  \\\n",
       "count       144006.000000  144006.000000        144006.000000   \n",
       "mean             1.892643       1.962161             1.892643   \n",
       "std              1.370748       1.425698             1.370748   \n",
       "min              0.000000       0.000000             0.000000   \n",
       "25%              1.000000       1.000000             1.000000   \n",
       "50%              2.000000       2.000000             2.000000   \n",
       "75%              3.000000       3.000000             3.000000   \n",
       "max              4.000000       4.000000             4.000000   \n",
       "\n",
       "       number_of_dependents_bin  \n",
       "count             144006.000000  \n",
       "mean                   1.892643  \n",
       "std                    1.370748  \n",
       "min                    0.000000  \n",
       "25%                    1.000000  \n",
       "50%                    2.000000  \n",
       "75%                    3.000000  \n",
       "max                    4.000000  "
      ]
     },
     "execution_count": 11,
     "metadata": {},
     "output_type": "execute_result"
    }
   ],
   "source": [
    "borrowers_clean.describe()"
   ]
  },
  {
   "cell_type": "markdown",
   "metadata": {},
   "source": [
    "### 6. Machine Learning Model"
   ]
  },
  {
   "cell_type": "markdown",
   "metadata": {},
   "source": [
    "#### Target (y) and variables (X) selection"
   ]
  },
  {
   "cell_type": "markdown",
   "metadata": {},
   "source": [
    "Using the variable `serious_dlqin2yrs` as a target."
   ]
  },
  {
   "cell_type": "markdown",
   "metadata": {},
   "source": [
    "Remove those variables that I do not want to include in the model and save them in `x` variable.\n",
    "(Agrego las variables categorizadas, porque da error al entrenar el modelo)\n",
    "ValueError: could not convert string to float: 'Good'"
   ]
  },
  {
   "cell_type": "code",
   "execution_count": 23,
   "metadata": {},
   "outputs": [],
   "source": [
    "x = borrowers_clean.drop(['number_of_time30-59_days_past_due_not_worse', 'number_of_times90_days_late', 'number_real_estate_loans_or_lines', 'monthly_income_bin', 'age_bin', 'debt_ratio_bin', 'revolving_utilization_of_unsecured_lines_bin', 'number_of_dependents_bin'], \n",
    "                  axis=1)"
   ]
  },
  {
   "cell_type": "code",
   "execution_count": 24,
   "metadata": {},
   "outputs": [],
   "source": [
    "lista_atributos = x.columns"
   ]
  },
  {
   "cell_type": "code",
   "execution_count": 25,
   "metadata": {},
   "outputs": [],
   "source": [
    "# Ahora selecciono las etiquetas y las guardo en y.\n",
    "y = borrowers_clean['serious_dlqin2yrs']"
   ]
  },
  {
   "cell_type": "code",
   "execution_count": 26,
   "metadata": {},
   "outputs": [],
   "source": [
    "x, y = np.array(x), np.array(y)"
   ]
  },
  {
   "cell_type": "markdown",
   "metadata": {},
   "source": [
    "#### Separating dataset in Train / Test sets"
   ]
  },
  {
   "cell_type": "markdown",
   "metadata": {},
   "source": [
    "The way the data is normally divided is 80% training -20% evaluation."
   ]
  },
  {
   "cell_type": "code",
   "execution_count": 17,
   "metadata": {},
   "outputs": [],
   "source": [
    "from sklearn.model_selection import train_test_split"
   ]
  },
  {
   "cell_type": "code",
   "execution_count": 27,
   "metadata": {},
   "outputs": [],
   "source": [
    "X_train, X_test, y_train, y_test = train_test_split(x, y, test_size = 0.2, \n",
    "                                                    random_state = 42)"
   ]
  },
  {
   "cell_type": "markdown",
   "metadata": {},
   "source": [
    "#### Random Forest"
   ]
  },
  {
   "cell_type": "code",
   "execution_count": 19,
   "metadata": {},
   "outputs": [],
   "source": [
    "from sklearn.ensemble import RandomForestRegressor "
   ]
  },
  {
   "cell_type": "code",
   "execution_count": 20,
   "metadata": {},
   "outputs": [],
   "source": [
    "from sklearn.metrics import mean_absolute_error"
   ]
  },
  {
   "cell_type": "markdown",
   "metadata": {},
   "source": [
    "Initialize the model."
   ]
  },
  {
   "cell_type": "code",
   "execution_count": 28,
   "metadata": {},
   "outputs": [],
   "source": [
    "regresor = RandomForestRegressor(criterion='mae', random_state = 42)"
   ]
  },
  {
   "cell_type": "markdown",
   "metadata": {},
   "source": [
    "Train the model"
   ]
  },
  {
   "cell_type": "code",
   "execution_count": 29,
   "metadata": {},
   "outputs": [],
   "source": [
    "regresor.fit(X_train, y_train); # demora unos 10 min"
   ]
  },
  {
   "cell_type": "code",
   "execution_count": 30,
   "metadata": {},
   "outputs": [
    {
     "data": {
      "text/plain": [
       "{'bootstrap': True,\n",
       " 'criterion': 'mae',\n",
       " 'max_depth': None,\n",
       " 'max_features': 'auto',\n",
       " 'max_leaf_nodes': None,\n",
       " 'min_impurity_decrease': 0.0,\n",
       " 'min_impurity_split': None,\n",
       " 'min_samples_leaf': 1,\n",
       " 'min_samples_split': 2,\n",
       " 'min_weight_fraction_leaf': 0.0,\n",
       " 'n_estimators': 10,\n",
       " 'n_jobs': None,\n",
       " 'oob_score': False,\n",
       " 'random_state': 42,\n",
       " 'verbose': 0,\n",
       " 'warm_start': False}"
      ]
     },
     "execution_count": 30,
     "metadata": {},
     "output_type": "execute_result"
    }
   ],
   "source": [
    "regresor.get_params()"
   ]
  },
  {
   "cell_type": "markdown",
   "metadata": {},
   "source": [
    "#### Model evaluation"
   ]
  },
  {
   "cell_type": "markdown",
   "metadata": {},
   "source": [
    "We use a regression algorithm, so we will use the errors to be able to evaluate the performance of our model. First, we will create some functions that will allow us to obtain the errors easily and to graph the results."
   ]
  },
  {
   "cell_type": "code",
   "execution_count": 31,
   "metadata": {},
   "outputs": [],
   "source": [
    "def evaluation(y_test, predictions):\n",
    "    \"\"\"\n",
    "    Funcion que devuelve el error absoluto medio y el error porcentual absoluto medio.\n",
    "    \n",
    "    :param y_test: valores reales\n",
    "    :param predictions: valores predichos\n",
    "    \n",
    "    :return: Devuelve el error absoluto medio y el error porcentual absoluto medio.\n",
    "    \"\"\"\n",
    "    # Calcula mae \n",
    "    mae = mean_absolute_error(y_test, predictions)\n",
    "    #calculate mape \n",
    "    mape = np.mean((np.abs(y_test - predictions)/y_test)*100)\n",
    "    #print calculated values\n",
    "    print(f\"El error absoluto medio para el modelo es {round(mae, 2)}\")\n",
    "    print(f\"El error porcentual absoluto medio para el modelo es {round(mape, 2)}\")"
   ]
  },
  {
   "cell_type": "code",
   "execution_count": 32,
   "metadata": {},
   "outputs": [],
   "source": [
    "def graph_real_pred(y_test, predictions, color):\n",
    "    \"\"\"\n",
    "    Funcion que grafica los valores reales vs. predichos\n",
    "    :param y_test: valores reales\n",
    "    :param predictions: valores predichos\n",
    "    :param color: color para el plot.\n",
    "    \n",
    "    :return: Scatterplot mostrando la relacion entre el valor real y el predicho\n",
    "    \"\"\"\n",
    "    plt.scatter(y_test, predictions, c=color, s=10)    \n",
    "    plt.gca().spines['top'].set_visible(False)\n",
    "    plt.gca().spines['bottom'].set_visible(False)\n",
    "    plt.gca().spines['left'].set_visible(False)\n",
    "    plt.gca().spines['right'].set_visible(False)\n",
    "    plt.xlabel('Real', size=15, labelpad=1)\n",
    "    plt.ylabel('Predicted', size=15, labelpad=1)\n",
    "    plt.show()"
   ]
  },
  {
   "cell_type": "code",
   "execution_count": 33,
   "metadata": {},
   "outputs": [],
   "source": [
    "def feature_importance(model, feature_list):\n",
    "    \"\"\"\n",
    "    Function that gets and plots the feature importance\n",
    "    for the given model\n",
    "    :param model: the model to evaluaate\n",
    "    :param feature_list: a list of features contained in the model\n",
    "\n",
    "    :returns a plot with feature importance\n",
    "    \"\"\"\n",
    "    # Obtiene la lista de importancias \n",
    "    importances = list(model.feature_importances_)\n",
    "    # Junta los nombres de los atributos y las importancias\n",
    "    feature_importances = [(feature, round(importance, 2)) for feature, importance in zip(feature_list, importances)]\n",
    "    # Ordena por orden de importancia\n",
    "    feature_importances = sorted(feature_importances, key = lambda x: x[1], reverse = True)\n",
    "    # Print la lista de importancias\n",
    "    [print('Variable: {} Importance: {}'.format(*pair)) for pair in feature_importances];\n",
    "    # Colores\n",
    "    colors = cm.rainbow(np.linspace(0, 1, len(feature_list)))\n",
    "    \n",
    "    # Caracteristicas en orden de importancia \n",
    "    characteristics = [x[0] for x in feature_importances]\n",
    "    # Obtiene las importancias\n",
    "    importances_plot = [x[1] for x in feature_importances]\n",
    "    # Grafica un bar plot\n",
    "    plt.bar(characteristics, importances_plot, color=colors)\n",
    "    # Personalizamos el grafico\n",
    "    plt.xticks(list(range(len(characteristics))), characteristics, rotation = 90)\n",
    "    plt.gca().spines['top'].set_visible(False)\n",
    "    plt.gca().spines['bottom'].set_visible(False)\n",
    "    plt.gca().spines['left'].set_visible(False)\n",
    "    plt.gca().spines['right'].set_visible(False)\n",
    "    plt.gcf().subplots_adjust(bottom=0.3);"
   ]
  },
  {
   "cell_type": "markdown",
   "metadata": {},
   "source": [
    "Let's evaluate the model. First, we make predictions for the evaluation set and then we compare it with the actual values."
   ]
  },
  {
   "cell_type": "markdown",
   "metadata": {},
   "source": [
    "Predicting the values for the test set."
   ]
  },
  {
   "cell_type": "code",
   "execution_count": 34,
   "metadata": {},
   "outputs": [],
   "source": [
    "y_pred = regresor.predict(X_test)"
   ]
  },
  {
   "cell_type": "markdown",
   "metadata": {},
   "source": [
    "Calculate the mean absolute error."
   ]
  },
  {
   "cell_type": "code",
   "execution_count": 35,
   "metadata": {},
   "outputs": [
    {
     "data": {
      "text/plain": [
       "0.0"
      ]
     },
     "execution_count": 35,
     "metadata": {},
     "output_type": "execute_result"
    }
   ],
   "source": [
    "mean_absolute_error(y_test, y_pred)"
   ]
  },
  {
   "cell_type": "markdown",
   "metadata": {},
   "source": [
    "Calculate the average percentage error."
   ]
  },
  {
   "cell_type": "code",
   "execution_count": 36,
   "metadata": {},
   "outputs": [
    {
     "data": {
      "text/plain": [
       "nan"
      ]
     },
     "execution_count": 36,
     "metadata": {},
     "output_type": "execute_result"
    }
   ],
   "source": [
    "np.mean((np.abs(y_test - y_pred)/y_test)*100)"
   ]
  },
  {
   "cell_type": "markdown",
   "metadata": {},
   "source": [
    "Predict the values for the training set."
   ]
  },
  {
   "cell_type": "code",
   "execution_count": 37,
   "metadata": {},
   "outputs": [],
   "source": [
    "y_pred_train = regresor.predict(X_train)"
   ]
  },
  {
   "cell_type": "code",
   "execution_count": 38,
   "metadata": {},
   "outputs": [
    {
     "data": {
      "text/plain": [
       "0.0"
      ]
     },
     "execution_count": 38,
     "metadata": {},
     "output_type": "execute_result"
    }
   ],
   "source": [
    "mean_absolute_error(y_train, y_pred_train)"
   ]
  },
  {
   "cell_type": "markdown",
   "metadata": {},
   "source": [
    "Calculate the mean percentage error for training."
   ]
  },
  {
   "cell_type": "code",
   "execution_count": 39,
   "metadata": {},
   "outputs": [
    {
     "data": {
      "text/plain": [
       "nan"
      ]
     },
     "execution_count": 39,
     "metadata": {},
     "output_type": "execute_result"
    }
   ],
   "source": [
    "np.mean((np.abs(y_train - y_pred_train)/y_train)*100)"
   ]
  },
  {
   "cell_type": "markdown",
   "metadata": {},
   "source": [
    "Get the importance of each feature using `feature_importances_`."
   ]
  },
  {
   "cell_type": "code",
   "execution_count": 40,
   "metadata": {},
   "outputs": [
    {
     "name": "stdout",
     "output_type": "stream",
     "text": [
      "Atributo: serious_dlqin2yrs, Importancia: 1.0\n",
      "Atributo: revolving_utilization_of_unsecured_lines, Importancia: 0.0\n",
      "Atributo: age, Importancia: 0.0\n",
      "Atributo: debt_ratio, Importancia: 0.0\n",
      "Atributo: monthly_income, Importancia: 0.0\n",
      "Atributo: number_of_open_credit_lines_and_loans, Importancia: 0.0\n",
      "Atributo: number_of_time60-89_days_past_due_not_worse, Importancia: 0.0\n",
      "Atributo: number_of_dependents, Importancia: 0.0\n",
      "Atributo: monthly_income__bin, Importancia: 0.0\n"
     ]
    }
   ],
   "source": [
    "for x, y in list(zip(lista_atributos,regresor.feature_importances_)):\n",
    "    print(f'Atributo: {x}, Importancia: {y}') "
   ]
  },
  {
   "cell_type": "markdown",
   "metadata": {},
   "source": [
    "#### kNN classifier"
   ]
  },
  {
   "cell_type": "code",
   "execution_count": 41,
   "metadata": {},
   "outputs": [],
   "source": [
    "from sklearn.neighbors import KNeighborsClassifier"
   ]
  },
  {
   "cell_type": "code",
   "execution_count": 42,
   "metadata": {},
   "outputs": [],
   "source": [
    "# metricas\n",
    "from sklearn.metrics import (\n",
    "    roc_curve, \n",
    "    accuracy_score, \n",
    "    roc_auc_score,\n",
    "    confusion_matrix, \n",
    "    precision_score, \n",
    "    recall_score, \n",
    "    f1_score\n",
    ")"
   ]
  },
  {
   "cell_type": "code",
   "execution_count": 43,
   "metadata": {},
   "outputs": [],
   "source": [
    "knn = KNeighborsClassifier()"
   ]
  },
  {
   "cell_type": "code",
   "execution_count": 44,
   "metadata": {},
   "outputs": [],
   "source": [
    "# Entrenamos el modelo\n",
    "knn.fit(X_train, y_train); "
   ]
  },
  {
   "cell_type": "code",
   "execution_count": 45,
   "metadata": {},
   "outputs": [],
   "source": [
    "# Predecimos \n",
    "predicciones_cla = knn.predict(X_test)"
   ]
  },
  {
   "cell_type": "code",
   "execution_count": 46,
   "metadata": {},
   "outputs": [],
   "source": [
    "predicciones_train = knn.predict(X_train)"
   ]
  },
  {
   "cell_type": "code",
   "execution_count": 47,
   "metadata": {},
   "outputs": [
    {
     "name": "stdout",
     "output_type": "stream",
     "text": [
      "94.99%\n"
     ]
    }
   ],
   "source": [
    "accuracy = accuracy_score(y_train, predicciones_train)*100\n",
    "print(f'{round(accuracy, 2)}%')"
   ]
  },
  {
   "cell_type": "code",
   "execution_count": 48,
   "metadata": {},
   "outputs": [
    {
     "name": "stdout",
     "output_type": "stream",
     "text": [
      "94.69%\n"
     ]
    }
   ],
   "source": [
    "accuracy = accuracy_score(y_test, predicciones_cla)*100\n",
    "print(f'{round(accuracy, 2)}%')"
   ]
  },
  {
   "cell_type": "markdown",
   "metadata": {},
   "source": [
    "**Model optimization**"
   ]
  },
  {
   "cell_type": "code",
   "execution_count": 49,
   "metadata": {},
   "outputs": [],
   "source": [
    "ACC_train = [] #demora éste paso\n",
    "ACC_test = []\n",
    "vecinos = [1, 3, 5, 10, 15, 20, 25, 30]\n",
    "for n in vecinos: # entreno diferentes modelos con diferntes vecinos\n",
    "    clf = KNeighborsClassifier(n_neighbors=n)\n",
    "    clf.fit(X_train, y_train)\n",
    "    y_train_pred = clf.predict(X_train)\n",
    "    train_acc = accuracy_score(y_train, y_train_pred)\n",
    "    ACC_train.append(train_acc)\n",
    "    y_test_pred = clf.predict(X_test)\n",
    "    test_acc = accuracy_score(y_test, y_test_pred)\n",
    "    ACC_test.append(test_acc)"
   ]
  },
  {
   "cell_type": "code",
   "execution_count": 50,
   "metadata": {},
   "outputs": [
    {
     "data": {
      "text/plain": [
       "<matplotlib.legend.Legend at 0x10976e80>"
      ]
     },
     "execution_count": 50,
     "metadata": {},
     "output_type": "execute_result"
    },
    {
     "data": {
      "image/png": "[encoded data removed]",
      "text/plain": [
       "<Figure size 432x288 with 1 Axes>"
      ]
     },
     "metadata": {
      "needs_background": "light"
     },
     "output_type": "display_data"
    }
   ],
   "source": [
    "plt.plot(vecinos,ACC_train,'o-',label='train', color='#DCE775')\n",
    "plt.plot(vecinos,ACC_test,'o-',label='test', color='#EC407A')\n",
    "plt.legend() #Grafico las predicciones para el testeo y para el de entrenamiento, en el eje X está la cantidad de vecinos y en el eje y se grafica el ACCURACY. \n",
    "# Elijo donde el ACC  de entrenamienot y Testeo son parecidos, elijo 15."
   ]
  },
  {
   "cell_type": "code",
   "execution_count": 51,
   "metadata": {},
   "outputs": [],
   "source": [
    "# Valores para los parametros a optimizar\n",
    "param_grid_vec = {\n",
    "    'n_neighbors': [8, 10, 12], # Busco vecinos cercanos a 10, para ver si se puede optimizar más\n",
    "    'weights': ['uniform','distance'],\n",
    "    'metric': ['euclidean', 'manhattan'],\n",
    "}"
   ]
  },
  {
   "cell_type": "code",
   "execution_count": 52,
   "metadata": {},
   "outputs": [],
   "source": [
    "knn_search = KNeighborsClassifier()"
   ]
  },
  {
   "cell_type": "code",
   "execution_count": 53,
   "metadata": {},
   "outputs": [],
   "source": [
    "from sklearn.model_selection import GridSearchCV"
   ]
  },
  {
   "cell_type": "code",
   "execution_count": 54,
   "metadata": {},
   "outputs": [],
   "source": [
    "vecinos_search = GridSearchCV(estimator=knn_search, param_grid=param_grid_vec,\n",
    "                         cv=3, verbose=2, n_jobs=-1)"
   ]
  },
  {
   "cell_type": "code",
   "execution_count": 55,
   "metadata": {},
   "outputs": [
    {
     "name": "stdout",
     "output_type": "stream",
     "text": [
      "Fitting 3 folds for each of 12 candidates, totalling 36 fits\n"
     ]
    },
    {
     "name": "stderr",
     "output_type": "stream",
     "text": [
      "[Parallel(n_jobs=-1)]: Using backend LokyBackend with 4 concurrent workers.\n",
      "[Parallel(n_jobs=-1)]: Done  36 out of  36 | elapsed:   49.3s finished\n"
     ]
    },
    {
     "data": {
      "text/plain": [
       "GridSearchCV(cv=3, error_score='raise-deprecating',\n",
       "       estimator=KNeighborsClassifier(algorithm='auto', leaf_size=30, metric='minkowski',\n",
       "           metric_params=None, n_jobs=None, n_neighbors=5, p=2,\n",
       "           weights='uniform'),\n",
       "       fit_params=None, iid='warn', n_jobs=-1,\n",
       "       param_grid={'n_neighbors': [8, 10, 12], 'weights': ['uniform', 'distance'], 'metric': ['euclidean', 'manhattan']},\n",
       "       pre_dispatch='2*n_jobs', refit=True, return_train_score='warn',\n",
       "       scoring=None, verbose=2)"
      ]
     },
     "execution_count": 55,
     "metadata": {},
     "output_type": "execute_result"
    }
   ],
   "source": [
    "vecinos_search.fit(X_train, y_train) # Éste paso demora"
   ]
  },
  {
   "cell_type": "markdown",
   "metadata": {},
   "source": [
    "What is our best estimator?"
   ]
  },
  {
   "cell_type": "code",
   "execution_count": 56,
   "metadata": {},
   "outputs": [
    {
     "data": {
      "text/plain": [
       "KNeighborsClassifier(algorithm='auto', leaf_size=30, metric='manhattan',\n",
       "           metric_params=None, n_jobs=None, n_neighbors=8, p=2,\n",
       "           weights='distance')"
      ]
     },
     "execution_count": 56,
     "metadata": {},
     "output_type": "execute_result"
    }
   ],
   "source": [
    "vecinos_search.best_estimator_ # metrica mejor es la manhattan, con weights distance, n_neighbors=8"
   ]
  },
  {
   "cell_type": "code",
   "execution_count": 57,
   "metadata": {},
   "outputs": [
    {
     "data": {
      "text/plain": [
       "0.9477622304781084"
      ]
     },
     "execution_count": 57,
     "metadata": {},
     "output_type": "execute_result"
    }
   ],
   "source": [
    "vecinos_search.best_score_"
   ]
  },
  {
   "cell_type": "code",
   "execution_count": 58,
   "metadata": {},
   "outputs": [],
   "source": [
    "knn_best = vecinos_search.best_estimator_"
   ]
  },
  {
   "cell_type": "code",
   "execution_count": 59,
   "metadata": {},
   "outputs": [
    {
     "data": {
      "text/plain": [
       "KNeighborsClassifier(algorithm='auto', leaf_size=30, metric='manhattan',\n",
       "           metric_params=None, n_jobs=None, n_neighbors=8, p=2,\n",
       "           weights='distance')"
      ]
     },
     "execution_count": 59,
     "metadata": {},
     "output_type": "execute_result"
    }
   ],
   "source": [
    "knn_best.fit(X_train, y_train)"
   ]
  },
  {
   "cell_type": "code",
   "execution_count": 60,
   "metadata": {},
   "outputs": [],
   "source": [
    "new_predictions = knn_best.predict(X_test)"
   ]
  },
  {
   "cell_type": "markdown",
   "metadata": {},
   "source": [
    "**Metrics** \n",
    "\n",
    "Confusion matrix:\n",
    "\n",
    "True Negative (TN)  |  False positive (FP)   \n",
    "= = = = = = = = = = = = = = = = = = = = =       \n",
    "False negative (FN) | True positive (TP)  \n"
   ]
  },
  {
   "cell_type": "code",
   "execution_count": 61,
   "metadata": {},
   "outputs": [
    {
     "data": {
      "image/png": "[encoded data removed]",
      "text/plain": [
       "<Figure size 432x288 with 2 Axes>"
      ]
     },
     "metadata": {
      "needs_background": "light"
     },
     "output_type": "display_data"
    }
   ],
   "source": [
    "plt.figure()\n",
    "random_confusion = confusion_matrix(y_test, new_predictions)\n",
    "sns.heatmap(random_confusion, cmap=\"YlGnBu\",annot=True);"
   ]
  },
  {
   "cell_type": "code",
   "execution_count": 62,
   "metadata": {},
   "outputs": [
    {
     "name": "stdout",
     "output_type": "stream",
     "text": [
      "Accuracy: 94.86%\n",
      "Precision: 96.52%\n",
      "Recall: 6.99%\n",
      "F1 score: 13.04%\n"
     ]
    }
   ],
   "source": [
    "print(f\"Accuracy: {accuracy_score(y_test, new_predictions)*100 :.2f}%\")\n",
    "print(f\"Precision: {precision_score(y_test, new_predictions)*100 :.2f}%\")\n",
    "print(f\"Recall: {recall_score(y_test, new_predictions)*100 :.2f}%\")\n",
    "print(f\"F1 score: {f1_score(y_test, new_predictions)*100 :.2f}%\")"
   ]
  },
  {
   "cell_type": "code",
   "execution_count": null,
   "metadata": {},
   "outputs": [],
   "source": []
  },
  {
   "cell_type": "code",
   "execution_count": null,
   "metadata": {},
   "outputs": [],
   "source": []
  }
 ],
 "metadata": {
  "@webio": {
   "lastCommId": "814db409262d41e59a8f535448fcae85",
   "lastKernelId": "3183b2f9-976f-49e9-9ea7-931bafbad9e4"
  },
  "kernelspec": {
   "display_name": "Python 3",
   "language": "python",
   "name": "python3"
  },
  "language_info": {
   "codemirror_mode": {
    "name": "ipython",
    "version": 3
   },
   "file_extension": ".py",
   "mimetype": "text/x-python",
   "name": "python",
   "nbconvert_exporter": "python",
   "pygments_lexer": "ipython3",
   "version": "3.6.8"
  }
 },
 "nbformat": 4,
 "nbformat_minor": 4
}
