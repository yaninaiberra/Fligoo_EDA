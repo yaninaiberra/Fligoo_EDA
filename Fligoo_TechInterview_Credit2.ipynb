{
 "cells": [
  {
   "cell_type": "markdown",
   "metadata": {},
   "source": [
    "# <img style=\"float: left; padding-right: 10px; width: 200px\" src=\"https://fligoo.com/img/logo-large.png\"> Fligoo - Credit Risk (Cont.)\n",
    "\n",
    "Tech Interview for Data Scientist\n",
    "\n",
    "<hr style=\"height:2pt\">"
   ]
  },
  {
   "cell_type": "markdown",
   "metadata": {},
   "source": [
    "## Motivation\n",
    "\n",
    "Credit risk is most simply defined as the potential that a bank borrower or counterparty will fail to meet its obligations in accordance with agreed terms. The goal of credit risk management is to maximise a bank's risk-adjusted rate of return by maintaining credit risk exposure within acceptable parameters. Banks need to manage the credit risk inherent in the entire portfolio as well as the risk in individual credits or transactions. \n",
    "\n",
    "## Description\n",
    "\n",
    "The following dataset has 150.000 records of borrowers taken from an anonymous bank, which are described through 12 different columns.\n",
    "\n",
    "The goal of this test is to perform an Exploratory Data Analysis (EDA) on this dataset, to understand the information contained and obtain insights that could be relevant to solve a business problem and develop a simple model that could predict the risk.\n",
    "\n",
    "You can find the data in this [link](https://s3-us-west-2.amazonaws.com/fligoo.data-science/TechInterviews/CreditEDA/data/credit-data.csv)\n",
    "\n",
    "Below is a description of the involved columns:\n",
    "\n",
    "| Variable Name | Description | \n",
    "| ------------- | ----------- |\n",
    "| unnamed:0 | ID of borrower |\n",
    "| serious_dlqin2yrs | Person experienced 90 days past due delinquency or worse |\n",
    "| revolving_utilization_of_unsecured_lines | Total balance on credit cards and personal lines of credit except real estate and no installment debt like car loans divided by the sum of credit limits |\n",
    "| age | Age of borrower in years | \n",
    "| number_of_time30-59_days_past_due_not_worse | Number of times borrower has been 30-59 days past due but no worse in the last 2 years |\n",
    "| debt_ratio | Monthly debt payments, alimony, living costs divided by monthy gross income |\n",
    "| monthly_income | Monthly income |\n",
    "| number_of_open_credit_lines_and_loans | Number of open loans (installment like car loan or mortgage) and lines of credit (e.g. credit cards) |\n",
    "| number_of_times90_days_late | Number of times borrower has been 90 days or more past due |\n",
    "| number_real_estate_loans_or_lines | Number of mortgage and real estate loans including home equity lines of credit |\n",
    "| number_of_time60-89_days_past_due_not_worse | Number of times borrower has been 60-89 days past due but no worse in the last 2 years |\n",
    "| number_of_dependents | Number of dependents in family excluding themselves (spouse, children etc.) |\n",
    "\n",
    "\n",
    "Please **read carefully** all the assignments to guide the work that is expected to find in this notebook."
   ]
  },
  {
   "cell_type": "markdown",
   "metadata": {},
   "source": [
    "## Goal\n",
    "\n",
    "In this notebook you have to load all the libraries you need to explore and process the given dataset, and then perform the analysis to extract meaningful facts in order to understand the information involved. You are free to make any kind of analytic you want, but at the end it is expected to have done the \"mandatory\" tasks on this work. In addition, there are some \"nice to have\" aspects that would enrich the work done.\n",
    "\n",
    "> Please provide reports in English and focus on findings and insights\n",
    "\n",
    "**Stack of technologies:** The analysis on this notebook should be done by using at least the following stack:   \n",
    "    - Python 3.x (not 2.x)\n",
    "    - Pandas 1.0.x\n",
    "\n",
    "### Assignment\n",
    "\n",
    "- **Report insights and conclusions:** Describe the results obtained during the exploratory analysis and provide conclusions from a business perspective, supported by charts / tables / metrics. \n",
    "- **Data Quality Check:** You must check the quality of the given dataset to make an assessment of how appropriate it is for later Data Science tasks. Propose a set of corrective actions over the data.     \n",
    "   \n",
    "- **Feature extraction:** Indicate some possible candidates of features that could properly describe the borrowers, either from the given columns or from their transformations.\n",
    "- **Machine Learning modeling:** at least one fitted model with the given data. You could use the `serious_dlqin2yrs` column as target.\n",
    "\n",
    "\n",
    "### Nice to have aspects\n",
    "\n",
    "- Dockerfile to setup environment.\n",
    "- Identify features and new attributes / tables that could be relevant or needed for better analysis\n",
    "- **Code versioning with Git** (you are free to publish it on your own Github/Bitbucket account!).\n",
    "- **Show proficiency in Python:** By showing good practices in the structure and documentation, usage of several programming paradigms (e.g. imperative, OOP, functional), etc.\n",
    "- **Use cases:** Describe possible use cases for this dataset that could add value to the given business, indicating methods / techniques and algorithms for each of them and justifying the choice made.\n",
    "- **Machine Learning approaches:** Describe the possible Machine Learning tasks that could be performed from the given data, which may be valuable in the context of the finance domain (just explain with words, don't fit a model).\n",
    "\n",
    "Once you complete the assessment, please send a ZIP file of the folder with all the resources used in this work (e.g. Jupyter notebook, Python scripts, text files, images, etc) to esteban.delboca@fligoo.com. Then you are going to have a final meeting with the team to discuss the work done in this notebook and answer the questions that could arise.\n",
    "\n",
    "**Have fun!**\n",
    "\n",
    "![Have fun](https://media1.tenor.com/images/8d13f337a8c6e5aab8ba1bd8acd4da0c/tenor.gif?itemid=5304821)"
   ]
  },
  {
   "cell_type": "markdown",
   "metadata": {},
   "source": [
    "## Tech Interview - Yanina Vanesa Iberra (Part II)"
   ]
  },
  {
   "cell_type": "markdown",
   "metadata": {},
   "source": [
    "- **Reading the CSV data file using pandas** <br> <br>\n",
    "File separated by comma, de default read_csv function delimiter is comma, therefore, this parameter is omitted."
   ]
  },
  {
   "cell_type": "code",
   "execution_count": 1,
   "metadata": {},
   "outputs": [],
   "source": [
    "# Command that will allow to see a graphic in this notebook below the line of code that invokes it.\n",
    "%matplotlib inline"
   ]
  },
  {
   "cell_type": "code",
   "execution_count": 2,
   "metadata": {},
   "outputs": [],
   "source": [
    "import pandas as pd\n",
    "import numpy as np\n",
    "import matplotlib.pyplot as plt\n",
    "import seaborn as sns\n",
    "import warnings\n",
    "warnings.filterwarnings('ignore')\n",
    "import ancillary_functions"
   ]
  },
  {
   "cell_type": "code",
   "execution_count": 3,
   "metadata": {},
   "outputs": [],
   "source": [
    "borrowers_clean = pd.read_csv('credit-data-clean.csv').drop('Unnamed: 0', axis = 1)"
   ]
  },
  {
   "cell_type": "markdown",
   "metadata": {},
   "source": [
    "First of all, let's check again that we eliminated all the missing values."
   ]
  },
  {
   "cell_type": "code",
   "execution_count": 4,
   "metadata": {},
   "outputs": [
    {
     "name": "stdout",
     "output_type": "stream",
     "text": [
      "Missing values in each attribute: \n",
      "serious_dlqin2yrs                               0\n",
      "revolving_utilization_of_unsecured_lines        0\n",
      "age                                             0\n",
      "number_of_time30-59_days_past_due_not_worse     0\n",
      "debt_ratio                                      0\n",
      "monthly_income                                  0\n",
      "number_of_open_credit_lines_and_loans           0\n",
      "number_of_times90_days_late                     0\n",
      "number_real_estate_loans_or_lines               0\n",
      "number_of_time60-89_days_past_due_not_worse     0\n",
      "number_of_dependents                            0\n",
      "monthly_income_bin                              0\n",
      "age_bin                                         0\n",
      "number_of_dependents_bin                        0\n",
      "debt_ratio_bin                                  0\n",
      "revolving_utilization_of_unsecured_lines_bin    0\n",
      "dtype: int64\n"
     ]
    }
   ],
   "source": [
    "print(f\"Missing values in each attribute: \\n{borrowers_clean.isnull().sum()}\")"
   ]
  },
  {
   "cell_type": "code",
   "execution_count": 5,
   "metadata": {},
   "outputs": [
    {
     "data": {
      "text/plain": [
       "(144002, 16)"
      ]
     },
     "execution_count": 5,
     "metadata": {},
     "output_type": "execute_result"
    }
   ],
   "source": [
    "borrowers_clean.shape"
   ]
  },
  {
   "cell_type": "code",
   "execution_count": 6,
   "metadata": {},
   "outputs": [
    {
     "data": {
      "text/html": [
       "<div>\n",
       "<style scoped>\n",
       "    .dataframe tbody tr th:only-of-type {\n",
       "        vertical-align: middle;\n",
       "    }\n",
       "\n",
       "    .dataframe tbody tr th {\n",
       "        vertical-align: top;\n",
       "    }\n",
       "\n",
       "    .dataframe thead th {\n",
       "        text-align: right;\n",
       "    }\n",
       "</style>\n",
       "<table border=\"1\" class=\"dataframe\">\n",
       "  <thead>\n",
       "    <tr style=\"text-align: right;\">\n",
       "      <th></th>\n",
       "      <th>serious_dlqin2yrs</th>\n",
       "      <th>revolving_utilization_of_unsecured_lines</th>\n",
       "      <th>age</th>\n",
       "      <th>number_of_time30-59_days_past_due_not_worse</th>\n",
       "      <th>debt_ratio</th>\n",
       "      <th>monthly_income</th>\n",
       "      <th>number_of_open_credit_lines_and_loans</th>\n",
       "      <th>number_of_times90_days_late</th>\n",
       "      <th>number_real_estate_loans_or_lines</th>\n",
       "      <th>number_of_time60-89_days_past_due_not_worse</th>\n",
       "      <th>number_of_dependents</th>\n",
       "      <th>monthly_income_bin</th>\n",
       "      <th>age_bin</th>\n",
       "      <th>number_of_dependents_bin</th>\n",
       "    </tr>\n",
       "  </thead>\n",
       "  <tbody>\n",
       "    <tr>\n",
       "      <th>count</th>\n",
       "      <td>144002.000000</td>\n",
       "      <td>144002.000000</td>\n",
       "      <td>144002.000000</td>\n",
       "      <td>144002.000000</td>\n",
       "      <td>144002.000000</td>\n",
       "      <td>144002.000000</td>\n",
       "      <td>144002.000000</td>\n",
       "      <td>144002.000000</td>\n",
       "      <td>144002.000000</td>\n",
       "      <td>144002.000000</td>\n",
       "      <td>144002.000000</td>\n",
       "      <td>144002.00000</td>\n",
       "      <td>144002.000000</td>\n",
       "      <td>144002.00000</td>\n",
       "    </tr>\n",
       "    <tr>\n",
       "      <th>mean</th>\n",
       "      <td>0.055513</td>\n",
       "      <td>0.306822</td>\n",
       "      <td>52.417265</td>\n",
       "      <td>0.197386</td>\n",
       "      <td>0.587765</td>\n",
       "      <td>5916.060194</td>\n",
       "      <td>8.384002</td>\n",
       "      <td>0.055721</td>\n",
       "      <td>0.989639</td>\n",
       "      <td>0.036583</td>\n",
       "      <td>0.711421</td>\n",
       "      <td>1.99691</td>\n",
       "      <td>1.962146</td>\n",
       "      <td>1.99691</td>\n",
       "    </tr>\n",
       "    <tr>\n",
       "      <th>std</th>\n",
       "      <td>0.228980</td>\n",
       "      <td>0.342485</td>\n",
       "      <td>14.864221</td>\n",
       "      <td>0.603216</td>\n",
       "      <td>0.568135</td>\n",
       "      <td>3181.598307</td>\n",
       "      <td>5.027205</td>\n",
       "      <td>0.364356</td>\n",
       "      <td>1.026522</td>\n",
       "      <td>0.231229</td>\n",
       "      <td>1.076267</td>\n",
       "      <td>1.41236</td>\n",
       "      <td>1.425713</td>\n",
       "      <td>1.41236</td>\n",
       "    </tr>\n",
       "    <tr>\n",
       "      <th>min</th>\n",
       "      <td>0.000000</td>\n",
       "      <td>0.000000</td>\n",
       "      <td>21.000000</td>\n",
       "      <td>0.000000</td>\n",
       "      <td>0.000000</td>\n",
       "      <td>0.000000</td>\n",
       "      <td>0.000000</td>\n",
       "      <td>0.000000</td>\n",
       "      <td>0.000000</td>\n",
       "      <td>0.000000</td>\n",
       "      <td>0.000000</td>\n",
       "      <td>0.00000</td>\n",
       "      <td>0.000000</td>\n",
       "      <td>0.00000</td>\n",
       "    </tr>\n",
       "    <tr>\n",
       "      <th>25%</th>\n",
       "      <td>0.000000</td>\n",
       "      <td>0.028517</td>\n",
       "      <td>41.000000</td>\n",
       "      <td>0.000000</td>\n",
       "      <td>0.172178</td>\n",
       "      <td>3885.000000</td>\n",
       "      <td>5.000000</td>\n",
       "      <td>0.000000</td>\n",
       "      <td>0.000000</td>\n",
       "      <td>0.000000</td>\n",
       "      <td>0.000000</td>\n",
       "      <td>1.00000</td>\n",
       "      <td>1.000000</td>\n",
       "      <td>1.00000</td>\n",
       "    </tr>\n",
       "    <tr>\n",
       "      <th>50%</th>\n",
       "      <td>0.000000</td>\n",
       "      <td>0.143765</td>\n",
       "      <td>52.000000</td>\n",
       "      <td>0.000000</td>\n",
       "      <td>0.361035</td>\n",
       "      <td>5400.000000</td>\n",
       "      <td>8.000000</td>\n",
       "      <td>0.000000</td>\n",
       "      <td>1.000000</td>\n",
       "      <td>0.000000</td>\n",
       "      <td>0.000000</td>\n",
       "      <td>2.00000</td>\n",
       "      <td>2.000000</td>\n",
       "      <td>2.00000</td>\n",
       "    </tr>\n",
       "    <tr>\n",
       "      <th>75%</th>\n",
       "      <td>0.000000</td>\n",
       "      <td>0.525590</td>\n",
       "      <td>63.000000</td>\n",
       "      <td>0.000000</td>\n",
       "      <td>0.811547</td>\n",
       "      <td>7350.000000</td>\n",
       "      <td>11.000000</td>\n",
       "      <td>0.000000</td>\n",
       "      <td>2.000000</td>\n",
       "      <td>0.000000</td>\n",
       "      <td>1.000000</td>\n",
       "      <td>3.00000</td>\n",
       "      <td>3.000000</td>\n",
       "      <td>3.00000</td>\n",
       "    </tr>\n",
       "    <tr>\n",
       "      <th>max</th>\n",
       "      <td>1.000000</td>\n",
       "      <td>0.999990</td>\n",
       "      <td>109.000000</td>\n",
       "      <td>13.000000</td>\n",
       "      <td>1.604698</td>\n",
       "      <td>14145.000000</td>\n",
       "      <td>57.000000</td>\n",
       "      <td>17.000000</td>\n",
       "      <td>25.000000</td>\n",
       "      <td>11.000000</td>\n",
       "      <td>10.000000</td>\n",
       "      <td>4.00000</td>\n",
       "      <td>4.000000</td>\n",
       "      <td>4.00000</td>\n",
       "    </tr>\n",
       "  </tbody>\n",
       "</table>\n",
       "</div>"
      ],
      "text/plain": [
       "       serious_dlqin2yrs  revolving_utilization_of_unsecured_lines  \\\n",
       "count      144002.000000                             144002.000000   \n",
       "mean            0.055513                                  0.306822   \n",
       "std             0.228980                                  0.342485   \n",
       "min             0.000000                                  0.000000   \n",
       "25%             0.000000                                  0.028517   \n",
       "50%             0.000000                                  0.143765   \n",
       "75%             0.000000                                  0.525590   \n",
       "max             1.000000                                  0.999990   \n",
       "\n",
       "                 age  number_of_time30-59_days_past_due_not_worse  \\\n",
       "count  144002.000000                                144002.000000   \n",
       "mean       52.417265                                     0.197386   \n",
       "std        14.864221                                     0.603216   \n",
       "min        21.000000                                     0.000000   \n",
       "25%        41.000000                                     0.000000   \n",
       "50%        52.000000                                     0.000000   \n",
       "75%        63.000000                                     0.000000   \n",
       "max       109.000000                                    13.000000   \n",
       "\n",
       "          debt_ratio  monthly_income  number_of_open_credit_lines_and_loans  \\\n",
       "count  144002.000000   144002.000000                          144002.000000   \n",
       "mean        0.587765     5916.060194                               8.384002   \n",
       "std         0.568135     3181.598307                               5.027205   \n",
       "min         0.000000        0.000000                               0.000000   \n",
       "25%         0.172178     3885.000000                               5.000000   \n",
       "50%         0.361035     5400.000000                               8.000000   \n",
       "75%         0.811547     7350.000000                              11.000000   \n",
       "max         1.604698    14145.000000                              57.000000   \n",
       "\n",
       "       number_of_times90_days_late  number_real_estate_loans_or_lines  \\\n",
       "count                144002.000000                      144002.000000   \n",
       "mean                      0.055721                           0.989639   \n",
       "std                       0.364356                           1.026522   \n",
       "min                       0.000000                           0.000000   \n",
       "25%                       0.000000                           0.000000   \n",
       "50%                       0.000000                           1.000000   \n",
       "75%                       0.000000                           2.000000   \n",
       "max                      17.000000                          25.000000   \n",
       "\n",
       "       number_of_time60-89_days_past_due_not_worse  number_of_dependents  \\\n",
       "count                                144002.000000         144002.000000   \n",
       "mean                                      0.036583              0.711421   \n",
       "std                                       0.231229              1.076267   \n",
       "min                                       0.000000              0.000000   \n",
       "25%                                       0.000000              0.000000   \n",
       "50%                                       0.000000              0.000000   \n",
       "75%                                       0.000000              1.000000   \n",
       "max                                      11.000000             10.000000   \n",
       "\n",
       "       monthly_income_bin        age_bin  number_of_dependents_bin  \n",
       "count        144002.00000  144002.000000              144002.00000  \n",
       "mean              1.99691       1.962146                   1.99691  \n",
       "std               1.41236       1.425713                   1.41236  \n",
       "min               0.00000       0.000000                   0.00000  \n",
       "25%               1.00000       1.000000                   1.00000  \n",
       "50%               2.00000       2.000000                   2.00000  \n",
       "75%               3.00000       3.000000                   3.00000  \n",
       "max               4.00000       4.000000                   4.00000  "
      ]
     },
     "execution_count": 6,
     "metadata": {},
     "output_type": "execute_result"
    }
   ],
   "source": [
    "borrowers_clean.describe()"
   ]
  },
  {
   "cell_type": "markdown",
   "metadata": {},
   "source": [
    "### 4. Machine Learning Model"
   ]
  },
  {
   "cell_type": "code",
   "execution_count": 7,
   "metadata": {},
   "outputs": [
    {
     "data": {
      "text/plain": [
       "RandomForestClassifier(bootstrap=True, class_weight=None, criterion='gini',\n",
       "            max_depth=None, max_features='auto', max_leaf_nodes=None,\n",
       "            min_impurity_decrease=0.0, min_impurity_split=None,\n",
       "            min_samples_leaf=1, min_samples_split=2,\n",
       "            min_weight_fraction_leaf=0.0, n_estimators=10, n_jobs=None,\n",
       "            oob_score=False, random_state=None, verbose=0,\n",
       "            warm_start=False)"
      ]
     },
     "execution_count": 7,
     "metadata": {},
     "output_type": "execute_result"
    }
   ],
   "source": [
    "from sklearn.ensemble import RandomForestClassifier\n",
    "\n",
    "features = np.array(['revolving_utilization_of_unsecured_lines',\n",
    "                     'age', 'number_of_time30-59_days_past_due_not_worse',\n",
    "                     'debt_ratio', 'monthly_income','number_of_open_credit_lines_and_loans', \n",
    "                     'number_of_times90_days_late', 'number_real_estate_loans_or_lines',\n",
    "                     'number_of_time60-89_days_past_due_not_worse', 'number_of_dependents'])\n",
    "clf = RandomForestClassifier()\n",
    "clf.fit(borrowers_clean[features], borrowers_clean['serious_dlqin2yrs'])"
   ]
  },
  {
   "cell_type": "markdown",
   "metadata": {},
   "source": [
    "**Importances** <br>\n",
    "Your RandomForest does a really good job of finding the best features, or variables, in your dataset for predicting whatever it is you're trying to predict. Pretty handy, right? What happens is that since your RandomForest has built so many random decision trees, it winds up with a pretty good idea for what variables tend to be working best. You can use this to generate a rank ordered list of the best features in your dataset."
   ]
  },
  {
   "cell_type": "code",
   "execution_count": 8,
   "metadata": {},
   "outputs": [],
   "source": [
    "# from the calculated importances, order them from most to least important\n",
    "# and make a barplot so we can visualize what is/isn't important\n",
    "importances = clf.feature_importances_\n",
    "sorted_idx = np.argsort(importances)"
   ]
  },
  {
   "cell_type": "code",
   "execution_count": 9,
   "metadata": {},
   "outputs": [
    {
     "data": {
      "image/png": "[encoded data removed]",
      "text/plain": [
       "<Figure size 432x288 with 1 Axes>"
      ]
     },
     "metadata": {
      "needs_background": "light"
     },
     "output_type": "display_data"
    }
   ],
   "source": [
    "padding = np.arange(len(features)) + 0.5\n",
    "plt.barh(padding, importances[sorted_idx], align='center')\n",
    "plt.yticks(padding, features[sorted_idx])\n",
    "plt.xlabel(\"Relative Importance\")\n",
    "plt.title(\"Variable Importance\")\n",
    "plt.show()"
   ]
  },
  {
   "cell_type": "markdown",
   "metadata": {},
   "source": [
    "**Interpretting the results** <BR>\n",
    "So you can see that the best variable is `revolving_utilization_of_unsecured_lines` while the worst is `number_of_time60-89_days_past_due_not_worse`. There's also a dramatic drop off after number_of_open_credit_lines_and_loans. <br>\n",
    "We have to decide which variables to include in our model."
   ]
  },
  {
   "cell_type": "markdown",
   "metadata": {},
   "source": [
    "#### Target (y) and variables (X) selection"
   ]
  },
  {
   "cell_type": "markdown",
   "metadata": {},
   "source": [
    "Using the variable `serious_dlqin2yrs` as a target."
   ]
  },
  {
   "cell_type": "markdown",
   "metadata": {},
   "source": [
    "Remove those variables that I do not want to include in the model and save them in `x` variable.\n",
    "(Agrego las variables categorizadas, porque da error al entrenar el modelo)\n",
    "ValueError: could not convert string to float: 'Good'"
   ]
  },
  {
   "cell_type": "code",
   "execution_count": 11,
   "metadata": {},
   "outputs": [],
   "source": [
    "x = borrowers_clean.drop(['serious_dlqin2yrs', 'number_of_times90_days_late', 'number_of_dependents', 'number_of_time30-59_days_past_due_not_worse', 'number_real_estate_loans_or_lines', 'number_of_time60-89_days_past_due_not_worse', 'monthly_income_bin', 'age_bin', 'debt_ratio_bin', 'revolving_utilization_of_unsecured_lines_bin', 'number_of_dependents_bin'], \n",
    "                  axis=1)"
   ]
  },
  {
   "cell_type": "code",
   "execution_count": 12,
   "metadata": {},
   "outputs": [
    {
     "data": {
      "text/plain": [
       "Index(['revolving_utilization_of_unsecured_lines', 'age', 'debt_ratio',\n",
       "       'monthly_income', 'number_of_open_credit_lines_and_loans'],\n",
       "      dtype='object')"
      ]
     },
     "execution_count": 12,
     "metadata": {},
     "output_type": "execute_result"
    }
   ],
   "source": [
    "lista_atributos = x.columns\n",
    "lista_atributos"
   ]
  },
  {
   "cell_type": "code",
   "execution_count": 14,
   "metadata": {},
   "outputs": [],
   "source": [
    "# Select the labels and save them under 'y'.\n",
    "y = borrowers_clean['serious_dlqin2yrs']"
   ]
  },
  {
   "cell_type": "code",
   "execution_count": 15,
   "metadata": {},
   "outputs": [],
   "source": [
    "x, y = np.array(x), np.array(y)"
   ]
  },
  {
   "cell_type": "markdown",
   "metadata": {},
   "source": [
    "#### Separating dataset in Train / Test sets"
   ]
  },
  {
   "cell_type": "markdown",
   "metadata": {},
   "source": [
    "The way the data is normally divided is 80% training and 20% evaluation."
   ]
  },
  {
   "cell_type": "code",
   "execution_count": 16,
   "metadata": {},
   "outputs": [],
   "source": [
    "from sklearn.model_selection import train_test_split"
   ]
  },
  {
   "cell_type": "code",
   "execution_count": 17,
   "metadata": {},
   "outputs": [],
   "source": [
    "X_train, X_test, y_train, y_test = train_test_split(x, y, test_size = 0.2, \n",
    "                                                    random_state = 42) #numpy.ndarray"
   ]
  },
  {
   "cell_type": "code",
   "execution_count": 18,
   "metadata": {},
   "outputs": [
    {
     "data": {
      "text/plain": [
       "115201"
      ]
     },
     "execution_count": 18,
     "metadata": {},
     "output_type": "execute_result"
    }
   ],
   "source": [
    "len(y_train) # Total values in train set"
   ]
  },
  {
   "cell_type": "code",
   "execution_count": 19,
   "metadata": {},
   "outputs": [
    {
     "data": {
      "text/plain": [
       "6352"
      ]
     },
     "execution_count": 19,
     "metadata": {},
     "output_type": "execute_result"
    }
   ],
   "source": [
    "np.count_nonzero(y_train) # Target = 1 in train set"
   ]
  },
  {
   "cell_type": "code",
   "execution_count": 20,
   "metadata": {},
   "outputs": [
    {
     "data": {
      "text/plain": [
       "108849"
      ]
     },
     "execution_count": 20,
     "metadata": {},
     "output_type": "execute_result"
    }
   ],
   "source": [
    "len(y_train) - np.count_nonzero(y_train) # Target = 0 in train set"
   ]
  },
  {
   "cell_type": "code",
   "execution_count": 21,
   "metadata": {},
   "outputs": [
    {
     "data": {
      "text/plain": [
       "28801"
      ]
     },
     "execution_count": 21,
     "metadata": {},
     "output_type": "execute_result"
    }
   ],
   "source": [
    "len(y_test) # Total values in test set"
   ]
  },
  {
   "cell_type": "code",
   "execution_count": 22,
   "metadata": {},
   "outputs": [
    {
     "data": {
      "text/plain": [
       "1642"
      ]
     },
     "execution_count": 22,
     "metadata": {},
     "output_type": "execute_result"
    }
   ],
   "source": [
    "np.count_nonzero(y_test) # Target = 1 in test set"
   ]
  },
  {
   "cell_type": "code",
   "execution_count": 23,
   "metadata": {},
   "outputs": [
    {
     "data": {
      "text/plain": [
       "27159"
      ]
     },
     "execution_count": 23,
     "metadata": {},
     "output_type": "execute_result"
    }
   ],
   "source": [
    "len(y_test) - np.count_nonzero(y_test) # Target = 0 in test set"
   ]
  },
  {
   "cell_type": "markdown",
   "metadata": {},
   "source": [
    "#### kNN classifier"
   ]
  },
  {
   "cell_type": "code",
   "execution_count": 24,
   "metadata": {},
   "outputs": [],
   "source": [
    "from sklearn.neighbors import KNeighborsClassifier"
   ]
  },
  {
   "cell_type": "code",
   "execution_count": 25,
   "metadata": {},
   "outputs": [],
   "source": [
    "# Metrics\n",
    "from sklearn.metrics import (\n",
    "    roc_curve, \n",
    "    accuracy_score, \n",
    "    roc_auc_score,\n",
    "    confusion_matrix, \n",
    "    precision_score, \n",
    "    recall_score, \n",
    "    f1_score\n",
    ")"
   ]
  },
  {
   "cell_type": "code",
   "execution_count": 26,
   "metadata": {},
   "outputs": [],
   "source": [
    "knn = KNeighborsClassifier()"
   ]
  },
  {
   "cell_type": "code",
   "execution_count": 27,
   "metadata": {},
   "outputs": [],
   "source": [
    "# Train the model\n",
    "knn.fit(X_train, y_train); "
   ]
  },
  {
   "cell_type": "code",
   "execution_count": 28,
   "metadata": {},
   "outputs": [],
   "source": [
    "# Predict \n",
    "predicciones_cla = knn.predict(X_test)"
   ]
  },
  {
   "cell_type": "code",
   "execution_count": 29,
   "metadata": {},
   "outputs": [],
   "source": [
    "predicciones_train = knn.predict(X_train)"
   ]
  },
  {
   "cell_type": "code",
   "execution_count": 30,
   "metadata": {},
   "outputs": [
    {
     "name": "stdout",
     "output_type": "stream",
     "text": [
      "94.59%\n"
     ]
    }
   ],
   "source": [
    "accuracy = accuracy_score(y_train, predicciones_train)*100\n",
    "print(f'{round(accuracy, 2)}%')"
   ]
  },
  {
   "cell_type": "code",
   "execution_count": 31,
   "metadata": {},
   "outputs": [
    {
     "name": "stdout",
     "output_type": "stream",
     "text": [
      "94.07%\n"
     ]
    }
   ],
   "source": [
    "accuracy = accuracy_score(y_test, predicciones_cla)*100\n",
    "print(f'{round(accuracy, 2)}%')"
   ]
  },
  {
   "cell_type": "markdown",
   "metadata": {},
   "source": [
    "**Model optimization**"
   ]
  },
  {
   "cell_type": "code",
   "execution_count": 32,
   "metadata": {},
   "outputs": [],
   "source": [
    "# This step takes time.\n",
    "ACC_train = []\n",
    "ACC_test = []\n",
    "vecinos = [1, 3, 5, 10, 15, 20, 25, 30]\n",
    "for n in vecinos: # I train different models with different neighbors\n",
    "    clf = KNeighborsClassifier(n_neighbors=n)\n",
    "    clf.fit(X_train, y_train)\n",
    "    y_train_pred = clf.predict(X_train)\n",
    "    train_acc = accuracy_score(y_train, y_train_pred)\n",
    "    ACC_train.append(train_acc)\n",
    "    y_test_pred = clf.predict(X_test)\n",
    "    test_acc = accuracy_score(y_test, y_test_pred)\n",
    "    ACC_test.append(test_acc)"
   ]
  },
  {
   "cell_type": "code",
   "execution_count": 33,
   "metadata": {},
   "outputs": [
    {
     "data": {
      "text/plain": [
       "<matplotlib.legend.Legend at 0x679fa58>"
      ]
     },
     "execution_count": 33,
     "metadata": {},
     "output_type": "execute_result"
    },
    {
     "data": {
      "image/png": "[encoded data removed]",
      "text/plain": [
       "<Figure size 432x288 with 1 Axes>"
      ]
     },
     "metadata": {
      "needs_background": "light"
     },
     "output_type": "display_data"
    }
   ],
   "source": [
    "plt.plot(vecinos,ACC_train,'o-',label='train', color='#DCE775')\n",
    "plt.plot(vecinos,ACC_test,'o-',label='test', color='#EC407A')\n",
    "plt.legend()"
   ]
  },
  {
   "cell_type": "code",
   "execution_count": 34,
   "metadata": {},
   "outputs": [],
   "source": [
    "# Values for the parameters to be optimized\n",
    "param_grid_vec = {\n",
    "    'n_neighbors': [8, 10, 12], # Search for neighbors close to 10, to see if they can be further optimized\n",
    "    'weights': ['uniform','distance'],\n",
    "    'metric': ['euclidean', 'manhattan'],\n",
    "}"
   ]
  },
  {
   "cell_type": "code",
   "execution_count": 35,
   "metadata": {},
   "outputs": [],
   "source": [
    "knn_search = KNeighborsClassifier()"
   ]
  },
  {
   "cell_type": "code",
   "execution_count": 36,
   "metadata": {},
   "outputs": [],
   "source": [
    "from sklearn.model_selection import GridSearchCV"
   ]
  },
  {
   "cell_type": "code",
   "execution_count": 37,
   "metadata": {},
   "outputs": [],
   "source": [
    "vecinos_search = GridSearchCV(estimator=knn_search, param_grid=param_grid_vec,\n",
    "                         cv=3, verbose=2, n_jobs=-1)"
   ]
  },
  {
   "cell_type": "code",
   "execution_count": 38,
   "metadata": {},
   "outputs": [
    {
     "name": "stdout",
     "output_type": "stream",
     "text": [
      "Fitting 3 folds for each of 12 candidates, totalling 36 fits\n"
     ]
    },
    {
     "name": "stderr",
     "output_type": "stream",
     "text": [
      "[Parallel(n_jobs=-1)]: Using backend LokyBackend with 4 concurrent workers.\n",
      "[Parallel(n_jobs=-1)]: Done  36 out of  36 | elapsed:   39.1s finished\n"
     ]
    },
    {
     "data": {
      "text/plain": [
       "GridSearchCV(cv=3, error_score='raise-deprecating',\n",
       "       estimator=KNeighborsClassifier(algorithm='auto', leaf_size=30, metric='minkowski',\n",
       "           metric_params=None, n_jobs=None, n_neighbors=5, p=2,\n",
       "           weights='uniform'),\n",
       "       fit_params=None, iid='warn', n_jobs=-1,\n",
       "       param_grid={'n_neighbors': [8, 10, 12], 'weights': ['uniform', 'distance'], 'metric': ['euclidean', 'manhattan']},\n",
       "       pre_dispatch='2*n_jobs', refit=True, return_train_score='warn',\n",
       "       scoring=None, verbose=2)"
      ]
     },
     "execution_count": 38,
     "metadata": {},
     "output_type": "execute_result"
    }
   ],
   "source": [
    "vecinos_search.fit(X_train, y_train) # This step takes time."
   ]
  },
  {
   "cell_type": "markdown",
   "metadata": {},
   "source": [
    "What is our best estimator?"
   ]
  },
  {
   "cell_type": "code",
   "execution_count": 39,
   "metadata": {},
   "outputs": [
    {
     "data": {
      "text/plain": [
       "KNeighborsClassifier(algorithm='auto', leaf_size=30, metric='manhattan',\n",
       "           metric_params=None, n_jobs=None, n_neighbors=12, p=2,\n",
       "           weights='uniform')"
      ]
     },
     "execution_count": 39,
     "metadata": {},
     "output_type": "execute_result"
    }
   ],
   "source": [
    "vecinos_search.best_estimator_ "
   ]
  },
  {
   "cell_type": "markdown",
   "metadata": {},
   "source": [
    "Best metric is 'manhattan', with weights 'distance'and n_neighbors=12"
   ]
  },
  {
   "cell_type": "code",
   "execution_count": 40,
   "metadata": {},
   "outputs": [
    {
     "data": {
      "text/plain": [
       "0.9448008263817155"
      ]
     },
     "execution_count": 40,
     "metadata": {},
     "output_type": "execute_result"
    }
   ],
   "source": [
    "vecinos_search.best_score_"
   ]
  },
  {
   "cell_type": "code",
   "execution_count": 41,
   "metadata": {},
   "outputs": [],
   "source": [
    "knn_best = vecinos_search.best_estimator_"
   ]
  },
  {
   "cell_type": "code",
   "execution_count": 42,
   "metadata": {},
   "outputs": [
    {
     "data": {
      "text/plain": [
       "KNeighborsClassifier(algorithm='auto', leaf_size=30, metric='manhattan',\n",
       "           metric_params=None, n_jobs=None, n_neighbors=12, p=2,\n",
       "           weights='uniform')"
      ]
     },
     "execution_count": 42,
     "metadata": {},
     "output_type": "execute_result"
    }
   ],
   "source": [
    "knn_best.fit(X_train, y_train)"
   ]
  },
  {
   "cell_type": "code",
   "execution_count": 43,
   "metadata": {},
   "outputs": [],
   "source": [
    "new_predictions = knn_best.predict(X_test)"
   ]
  },
  {
   "cell_type": "code",
   "execution_count": 44,
   "metadata": {},
   "outputs": [
    {
     "name": "stdout",
     "output_type": "stream",
     "text": [
      "El error absoluto medio para el modelo es 0.06\n",
      "El error porcentual absoluto medio para el modelo es nan\n"
     ]
    }
   ],
   "source": [
    "# Error\n",
    "ancillary_functions.evaluation(y_test, new_predictions)"
   ]
  },
  {
   "cell_type": "code",
   "execution_count": 45,
   "metadata": {},
   "outputs": [
    {
     "data": {
      "image/png": "[encoded data removed]",
      "text/plain": [
       "<Figure size 432x288 with 1 Axes>"
      ]
     },
     "metadata": {
      "needs_background": "light"
     },
     "output_type": "display_data"
    }
   ],
   "source": [
    "# Correlation\n",
    "ancillary_functions.graph_real_pred(y_test, new_predictions, color='#E67E22') # no line, no good correlation"
   ]
  },
  {
   "cell_type": "markdown",
   "metadata": {},
   "source": [
    "**Metrics** \n",
    "\n",
    "Confusion matrix:\n",
    "\n",
    "True Negative (TN)  |  False positive (FP)   \n",
    "= = = = = = = = = = = = = = = = = = = = =       \n",
    "False negative (FN) | True positive (TP)  \n"
   ]
  },
  {
   "cell_type": "code",
   "execution_count": 46,
   "metadata": {},
   "outputs": [
    {
     "data": {
      "image/png": "[encoded data removed]",
      "text/plain": [
       "<Figure size 432x288 with 2 Axes>"
      ]
     },
     "metadata": {
      "needs_background": "light"
     },
     "output_type": "display_data"
    }
   ],
   "source": [
    "plt.figure()\n",
    "random_confusion = confusion_matrix(y_test, new_predictions)\n",
    "sns.heatmap(random_confusion, cmap=\"YlGnBu\",annot=True); #The resulting values do not appear to be correct"
   ]
  },
  {
   "cell_type": "code",
   "execution_count": 47,
   "metadata": {},
   "outputs": [
    {
     "name": "stdout",
     "output_type": "stream",
     "text": [
      "Accuracy: 94.29%\n",
      "Precision: 0.00%\n",
      "Recall: 0.00%\n",
      "F1 score: 0.00%\n"
     ]
    }
   ],
   "source": [
    "print(f\"Accuracy: {accuracy_score(y_test, new_predictions)*100 :.2f}%\")\n",
    "print(f\"Precision: {precision_score(y_test, new_predictions)*100 :.2f}%\")\n",
    "print(f\"Recall: {recall_score(y_test, new_predictions)*100 :.2f}%\")\n",
    "print(f\"F1 score: {f1_score(y_test, new_predictions)*100 :.2f}%\")"
   ]
  },
  {
   "cell_type": "markdown",
   "metadata": {},
   "source": [
    "#### Random Forest"
   ]
  },
  {
   "cell_type": "code",
   "execution_count": 48,
   "metadata": {},
   "outputs": [],
   "source": [
    "from sklearn.ensemble import RandomForestRegressor\n",
    "from sklearn.metrics import mean_absolute_error"
   ]
  },
  {
   "cell_type": "markdown",
   "metadata": {},
   "source": [
    "Initialize the model."
   ]
  },
  {
   "cell_type": "code",
   "execution_count": 49,
   "metadata": {},
   "outputs": [],
   "source": [
    "regresor = RandomForestRegressor(criterion='mae', random_state = 42)"
   ]
  },
  {
   "cell_type": "markdown",
   "metadata": {},
   "source": [
    "Train the model"
   ]
  },
  {
   "cell_type": "code",
   "execution_count": null,
   "metadata": {},
   "outputs": [],
   "source": [
    "regresor.fit(X_train, y_train); # This step takes time."
   ]
  },
  {
   "cell_type": "code",
   "execution_count": null,
   "metadata": {},
   "outputs": [],
   "source": [
    "regresor.get_params()"
   ]
  },
  {
   "cell_type": "markdown",
   "metadata": {},
   "source": [
    "#### Model evaluation"
   ]
  },
  {
   "cell_type": "markdown",
   "metadata": {},
   "source": [
    "We use a regression algorithm, so we will use the errors to be able to evaluate the performance of our model. First, we will create some functions that will allow us to obtain the errors easily and to graph the results.<br>\n",
    "Let's evaluate the model. First, we make predictions for the evaluation set and then we compare it with the actual values. <br>\n",
    "Predicting the values for the test set."
   ]
  },
  {
   "cell_type": "code",
   "execution_count": null,
   "metadata": {},
   "outputs": [],
   "source": [
    "y_pred = regresor.predict(X_test)"
   ]
  },
  {
   "cell_type": "markdown",
   "metadata": {},
   "source": [
    "Calculate the mean absolute error."
   ]
  },
  {
   "cell_type": "code",
   "execution_count": null,
   "metadata": {},
   "outputs": [],
   "source": [
    "mean_absolute_error(y_test, y_pred)"
   ]
  },
  {
   "cell_type": "markdown",
   "metadata": {},
   "source": [
    "Calculate the average percentage error."
   ]
  },
  {
   "cell_type": "code",
   "execution_count": null,
   "metadata": {},
   "outputs": [],
   "source": [
    "np.mean((np.abs(y_test - y_pred)/y_test)*100)"
   ]
  },
  {
   "cell_type": "markdown",
   "metadata": {},
   "source": [
    "Predict the values for the training set."
   ]
  },
  {
   "cell_type": "code",
   "execution_count": null,
   "metadata": {},
   "outputs": [],
   "source": [
    "y_pred_train = regresor.predict(X_train)"
   ]
  },
  {
   "cell_type": "code",
   "execution_count": null,
   "metadata": {},
   "outputs": [],
   "source": [
    "mean_absolute_error(y_train, y_pred_train)"
   ]
  },
  {
   "cell_type": "markdown",
   "metadata": {},
   "source": [
    "Calculate the mean percentage error for training."
   ]
  },
  {
   "cell_type": "code",
   "execution_count": null,
   "metadata": {},
   "outputs": [],
   "source": [
    "np.mean((np.abs(y_train - y_pred_train)/y_train)*100)"
   ]
  },
  {
   "cell_type": "markdown",
   "metadata": {},
   "source": [
    "Get the importance of each feature using `feature_importances_`."
   ]
  },
  {
   "cell_type": "code",
   "execution_count": null,
   "metadata": {},
   "outputs": [],
   "source": [
    "for x, y in list(zip(lista_atributos,regresor.feature_importances_)):\n",
    "    print(f'Atributo: {x}, Importancia: {y}') "
   ]
  },
  {
   "cell_type": "markdown",
   "metadata": {},
   "source": [
    "**Observations:**\n",
    "- Check which steps are wrong, because the Random Forest algorithm gives me zero values.\n",
    "- Try another agorithm, in this case the  k-Nearest Neighbor."
   ]
  },
  {
   "cell_type": "code",
   "execution_count": null,
   "metadata": {},
   "outputs": [],
   "source": []
  }
 ],
 "metadata": {
  "@webio": {
   "lastCommId": "814db409262d41e59a8f535448fcae85",
   "lastKernelId": "3183b2f9-976f-49e9-9ea7-931bafbad9e4"
  },
  "kernelspec": {
   "display_name": "Python 3",
   "language": "python",
   "name": "python3"
  },
  "language_info": {
   "codemirror_mode": {
    "name": "ipython",
    "version": 3
   },
   "file_extension": ".py",
   "mimetype": "text/x-python",
   "name": "python",
   "nbconvert_exporter": "python",
   "pygments_lexer": "ipython3",
   "version": "3.6.8"
  }
 },
 "nbformat": 4,
 "nbformat_minor": 4
}
